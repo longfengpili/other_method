{
 "cells": [
  {
   "cell_type": "markdown",
   "metadata": {},
   "source": [
    "# 语法\n",
    "+ 语法\n",
    "```python\n",
    "rf'{[index][:[[fill]align][sign][#][0][width][grouping_option][.precision][type]]}'\n",
    "```\n",
    "+ 参数  \n",
    "    (1) index: 待格式化字符的索引或键，若占位符数量和参数数量不一致时必须指定索引;\n",
    "\n",
    "    (2) fill: 填充字符，可为任意字符; \n",
    "\n",
    "    (3) align: 对齐方式(常配合width使用)，可选: \n",
    "       和Excel中输入文本和数字的默认对齐方式一致\n",
    "        1) <: 左对齐(字符串默认对齐方式);\n",
    "        2) >: 右对齐(数字默认对齐方式);\n",
    "        3) ^: 居中对齐;\n",
    "        4) =: 内容右对齐，将符号(+或-)放置在填充字符的左侧，仅对数字类型有效;\n",
    "\n",
    "    (4) sign: 有无符号，可选：\n",
    "        1) +: 正数加正号，负数加负号；\n",
    "        2) -: 正数不变，负数加负号(默认)；\n",
    "        3) 空格: 正数加空格，负数加负号；\n",
    "\n",
    "    (5) #: \n",
    "           a. 对于整数，在输出值分别添加响应的0b, 0o, 0x前缀;\n",
    "           b. 对于浮点数和复数, 在输出值保留小数点符号;\n",
    "           c. 在g/G模式下，保留末尾的0；\n",
    "\n",
    "    (6) 0: 若未设置对齐方式，在width前加一个0将为数字类型启用感知正负号的零填充，等同于设置fill为0, align为\"=\";\n",
    "\n",
    "    (7) width: 字段总宽度(十进制整数), 所有前缀，分隔符和其它格式化字符之和; \n",
    "\n",
    "    (8) grouping_option: 设置分组(分隔):\n",
    "           1) \",\": 使用逗号作为千位分隔符;\n",
    "           2) \"_\": 使用_作为分隔符:\n",
    "              a. 对于十进制数, 使用_作为千位分隔符;\n",
    "              b. 对于b, o, x/X，使用_每4位数插入一个下划线；\n",
    "\n",
    "    (9) .precision(十进制数): \n",
    "           a. 整数型不允许设置precison, 如果设置即被转换为浮点数;\n",
    "           b. 浮点型表示小数点\"后\"显示多少位小数位数;\n",
    "           c. 以g或G格式化表示在小数点\"前后\"共显示多少个数位;\n",
    "           d. 字符型表示截取多少个字符；\n",
    "\n",
    "    (10) {{或}}: 转义{或}，当需要输出{或}的使用使用;\n",
    "\n",
    "    (11) type: 详见如下...  \n",
    "        1. s: string, 字符串;\n",
    "        2. d: decimal integer, 十进制数;\n",
    "        3. i: integer, 用法同%d;\n",
    "        4. u: unsigned integer, 无符号十进制数;\n",
    "        5. f: float, 浮点数(默认保留小数点后6位);\n",
    "        6. F: Float, 浮点数(默认保留小数点后6位);\n",
    "        7. e: exponent, 将数字表示为科学计数法(小写e, 默认保留小数点后6位);\n",
    "        8. E: Exponent, 将数字表示为科学计数法(大写E, 默认保留小数点后6位);\n",
    "        9. o: octal, 八进制数(即0-7);\n",
    "        10. x: hexdecimal, 十六进制数(即0-9a-f);\n",
    "        11. X: Hexdecimal, 十六进进制数(0-9A-F);\n",
    "        12. g: general format, 通用格式，详见如下...;\n",
    "        13. G: General format, 通用格式，详见如下...;\n",
    "        14. %c: character, 将十进制数转换为所对应的unicode值;\n",
    "        15. %r: representation, 调用__repr__魔法方法输出;\n",
    "        16. %%: 转义%，输出百分号。\n",
    "        \n",
    "+ 四舍五入 vs 四舍六入五双  \n",
    "    精确n位数字或保留n位小数，采用如下的规则(以保留n位小数为例)：  \n",
    "        a. 四舍: 保留n位小数，若第n+1位≤4, 则舍去;  \n",
    "        b. 六入: 保留n位小数，若第n+1位≥6, 则第n位进1；  \n",
    "        c. 五双: 保留n位小数，若第n+1位=5, 若 如果第n+1位后面没有任何数字, 则第n位数字为偶数就舍去n+1位，第n位数字为奇数则进1;  \n",
    "        如果第n+1位后还存在不为0的任何数字，则第n位数字无论是奇数还是偶数都进1。  \n",
    " ```python\n",
    "f1 = 1.125\n",
    "f2 = 1.1251\n",
    "f3 = 1.1250\n",
    "f4 = 1.126\n",
    "print(f\"f1: {f1:.2f}, f2: {f2:.2f}, f3: {f3:.2f}, f4: {f4:.2f}\")\n",
    "```"
   ]
  },
  {
   "cell_type": "code",
   "execution_count": 3,
   "metadata": {
    "ExecuteTime": {
     "end_time": "2022-01-20T00:25:52.174903Z",
     "start_time": "2022-01-20T00:25:52.163891Z"
    }
   },
   "outputs": [
    {
     "name": "stdout",
     "output_type": "stream",
     "text": [
      "f1: 1.12, f2: 1.13, f3: 1.12, f4: 1.13\n"
     ]
    }
   ],
   "source": [
    "f1 = 1.125\n",
    "f2 = 1.1251\n",
    "f3 = 1.1250\n",
    "f4 = 1.126\n",
    "print(f\"f1: {f1:.2f}, f2: {f2:.2f}, f3: {f3:.2f}, f4: {f4:.2f}\")"
   ]
  },
  {
   "cell_type": "markdown",
   "metadata": {},
   "source": [
    "# flags + width + align"
   ]
  },
  {
   "cell_type": "code",
   "execution_count": 5,
   "metadata": {
    "ExecuteTime": {
     "end_time": "2022-01-21T00:18:53.481536Z",
     "start_time": "2022-01-21T00:18:53.466539Z"
    }
   },
   "outputs": [],
   "source": [
    "name = 'Dolf'\n",
    "num = -10"
   ]
  },
  {
   "cell_type": "code",
   "execution_count": 13,
   "metadata": {
    "ExecuteTime": {
     "end_time": "2022-01-21T00:23:44.863448Z",
     "start_time": "2022-01-21T00:23:44.854434Z"
    }
   },
   "outputs": [
    {
     "name": "stdout",
     "output_type": "stream",
     "text": [
      "Dolf000000\n",
      "aaaaaaDolf\n",
      "aaaDolfaaa\n",
      "-aaaaaaa10\n",
      "-aaaaaaa10\n",
      "-000000010\n"
     ]
    }
   ],
   "source": [
    "print(f\"{name:0<10s}\")\n",
    "print(f\"{name:a>10s}\")\n",
    "print(f\"{name:a^10s}\")\n",
    "print(f\"{num:a=10d}\")\n",
    "print(f\"{num:a=10}\")\n",
    "print(f\"{num:010}\")"
   ]
  },
  {
   "cell_type": "code",
   "execution_count": null,
   "metadata": {},
   "outputs": [],
   "source": []
  }
 ],
 "metadata": {
  "hide_input": false,
  "kernelspec": {
   "display_name": "Python 3",
   "language": "python",
   "name": "python3"
  },
  "language_info": {
   "codemirror_mode": {
    "name": "ipython",
    "version": 3
   },
   "file_extension": ".py",
   "mimetype": "text/x-python",
   "name": "python",
   "nbconvert_exporter": "python",
   "pygments_lexer": "ipython3",
   "version": "3.7.4"
  },
  "nbTranslate": {
   "displayLangs": [
    "*"
   ],
   "hotkey": "alt-t",
   "langInMainMenu": true,
   "sourceLang": "en",
   "targetLang": "fr",
   "useGoogleTranslate": true
  },
  "toc": {
   "base_numbering": 1,
   "nav_menu": {},
   "number_sections": true,
   "sideBar": true,
   "skip_h1_title": false,
   "title_cell": "Table of Contents",
   "title_sidebar": "Contents",
   "toc_cell": false,
   "toc_position": {},
   "toc_section_display": true,
   "toc_window_display": true
  },
  "varInspector": {
   "cols": {
    "lenName": 16,
    "lenType": 16,
    "lenVar": 40
   },
   "kernels_config": {
    "python": {
     "delete_cmd_postfix": "",
     "delete_cmd_prefix": "del ",
     "library": "var_list.py",
     "varRefreshCmd": "print(var_dic_list())"
    },
    "r": {
     "delete_cmd_postfix": ") ",
     "delete_cmd_prefix": "rm(",
     "library": "var_list.r",
     "varRefreshCmd": "cat(var_dic_list()) "
    }
   },
   "types_to_exclude": [
    "module",
    "function",
    "builtin_function_or_method",
    "instance",
    "_Feature"
   ],
   "window_display": false
  }
 },
 "nbformat": 4,
 "nbformat_minor": 2
}

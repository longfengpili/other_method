{
 "cells": [
  {
   "cell_type": "markdown",
   "metadata": {},
   "source": [
    "# 语法\n",
    "+ 语法\n",
    "```python\n",
    "f'{name:[flags][width][.precison]type}'\n",
    "```\n",
    "+ 参数\n",
    "    + name：命名占位字符;\n",
    "    + flags可选:  \n",
    "        + +: 右对齐，正数加正号，负数加负号;\n",
    "        + -: 左对齐，正数无符号，负数加负号;\n",
    "        + 空格: 右对齐(默认的对齐方式)，正数前加空格，负数前加负号;\n",
    "        + 0: 右对齐，以0填充，正数无符号，负数加负号，并将符号放置在0最左侧;\n",
    "    + width: 占位宽度, 若指定宽度小于原数据长度则按原长度数据输出;\n",
    "    + .precison: 小数点后保留位数；在字符串中则表示截取/字符串切片;\n",
    "    + type:\n",
    "        1. s: string, 字符串;\n",
    "        2. d: decimal integer, 十进制数;\n",
    "        3. i: integer, 用法同%d;\n",
    "        4. u: unsigned integer, 无符号十进制数;\n",
    "        5. f: float, 浮点数(默认保留小数点后6位);\n",
    "        6. F: Float, 浮点数(默认保留小数点后6位);\n",
    "        7. e: exponent, 将数字表示为科学计数法(小写e, 默认保留小数点后6位);\n",
    "        8. E: Exponent, 将数字表示为科学计数法(大写E, 默认保留小数点后6位);\n",
    "        9. o: octal, 八进制数(即0-7);\n",
    "        10. x: hexdecimal, 十六进制数(即0-9a-f);\n",
    "        11. X: Hexdecimal, 十六进进制数(0-9A-F);\n",
    "        12. g: general format, 通用格式，详见如下...;\n",
    "        13. G: General format, 通用格式，详见如下...;\n",
    "        14. %c: character, 将十进制数转换为所对应的unicode值;\n",
    "        15. %r: representation, 调用__repr__魔法方法输出;\n",
    "        16. %%: 转义%，输出百分号。\n",
    "        \n",
    "+ 四舍五入 vs 四舍六入五双  \n",
    "    精确n位数字或保留n位小数，采用如下的规则(以保留n位小数为例)：  \n",
    "        a. 四舍: 保留n位小数，若第n+1位≤4, 则舍去;  \n",
    "        b. 六入: 保留n位小数，若第n+1位≥6, 则第n位进1；  \n",
    "        c. 五双: 保留n位小数，若第n+1位=5, 若 如果第n+1位后面没有任何数字, 则第n位数字为偶数就舍去n+1位，第n位数字为奇数则进1;  \n",
    "        如果第n+1位后还存在不为0的任何数字，则第n位数字无论是奇数还是偶数都进1。  \n",
    " ```python\n",
    "f1 = 1.125\n",
    "f2 = 1.1251\n",
    "f3 = 1.1250\n",
    "f4 = 1.126\n",
    "print(f\"f1: {f1:.2f}, f2: {f2:.2f}, f3: {f3:.2f}, f4: {f4:.2f}\")\n",
    "```"
   ]
  },
  {
   "cell_type": "code",
   "execution_count": 3,
   "metadata": {
    "ExecuteTime": {
     "end_time": "2022-01-20T00:25:52.174903Z",
     "start_time": "2022-01-20T00:25:52.163891Z"
    }
   },
   "outputs": [
    {
     "name": "stdout",
     "output_type": "stream",
     "text": [
      "f1: 1.12, f2: 1.13, f3: 1.12, f4: 1.13\n"
     ]
    }
   ],
   "source": [
    "f1 = 1.125\n",
    "f2 = 1.1251\n",
    "f3 = 1.1250\n",
    "f4 = 1.126\n",
    "print(f\"f1: {f1:.2f}, f2: {f2:.2f}, f3: {f3:.2f}, f4: {f4:.2f}\")"
   ]
  },
  {
   "cell_type": "markdown",
   "metadata": {},
   "source": [
    "# flags + width"
   ]
  },
  {
   "cell_type": "code",
   "execution_count": 4,
   "metadata": {
    "ExecuteTime": {
     "end_time": "2022-01-20T00:29:30.876229Z",
     "start_time": "2022-01-20T00:29:30.872259Z"
    }
   },
   "outputs": [],
   "source": [
    "name = 'Dolf'"
   ]
  },
  {
   "cell_type": "code",
   "execution_count": 29,
   "metadata": {
    "ExecuteTime": {
     "end_time": "2022-01-20T00:37:20.042080Z",
     "start_time": "2022-01-20T00:37:20.030080Z"
    }
   },
   "outputs": [
    {
     "name": "stdout",
     "output_type": "stream",
     "text": [
      "Dolf000000\n",
      "aaaaaaDolf\n",
      "aaaDolfaaa\n"
     ]
    }
   ],
   "source": [
    "print(f\"{name:0<10s}\")\n",
    "print(f\"{name:a>10s}\")\n",
    "print(f\"{name:a^10s}\")"
   ]
  },
  {
   "cell_type": "code",
   "execution_count": null,
   "metadata": {},
   "outputs": [],
   "source": []
  }
 ],
 "metadata": {
  "hide_input": false,
  "kernelspec": {
   "display_name": "Python 3",
   "language": "python",
   "name": "python3"
  },
  "language_info": {
   "codemirror_mode": {
    "name": "ipython",
    "version": 3
   },
   "file_extension": ".py",
   "mimetype": "text/x-python",
   "name": "python",
   "nbconvert_exporter": "python",
   "pygments_lexer": "ipython3",
   "version": "3.7.4"
  },
  "nbTranslate": {
   "displayLangs": [
    "*"
   ],
   "hotkey": "alt-t",
   "langInMainMenu": true,
   "sourceLang": "en",
   "targetLang": "fr",
   "useGoogleTranslate": true
  },
  "toc": {
   "base_numbering": 1,
   "nav_menu": {},
   "number_sections": true,
   "sideBar": true,
   "skip_h1_title": false,
   "title_cell": "Table of Contents",
   "title_sidebar": "Contents",
   "toc_cell": false,
   "toc_position": {},
   "toc_section_display": true,
   "toc_window_display": true
  },
  "varInspector": {
   "cols": {
    "lenName": 16,
    "lenType": 16,
    "lenVar": 40
   },
   "kernels_config": {
    "python": {
     "delete_cmd_postfix": "",
     "delete_cmd_prefix": "del ",
     "library": "var_list.py",
     "varRefreshCmd": "print(var_dic_list())"
    },
    "r": {
     "delete_cmd_postfix": ") ",
     "delete_cmd_prefix": "rm(",
     "library": "var_list.r",
     "varRefreshCmd": "cat(var_dic_list()) "
    }
   },
   "types_to_exclude": [
    "module",
    "function",
    "builtin_function_or_method",
    "instance",
    "_Feature"
   ],
   "window_display": false
  }
 },
 "nbformat": 4,
 "nbformat_minor": 2
}

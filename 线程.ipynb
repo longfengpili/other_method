{
 "cells": [
  {
   "cell_type": "markdown",
   "metadata": {},
   "source": [
    "# 线程"
   ]
  },
  {
   "cell_type": "markdown",
   "metadata": {},
   "source": [
    "## sample"
   ]
  },
  {
   "cell_type": "code",
   "execution_count": 2,
   "metadata": {
    "ExecuteTime": {
     "end_time": "2019-01-13T08:37:42.809096Z",
     "start_time": "2019-01-13T08:37:41.747326Z"
    }
   },
   "outputs": [
    {
     "name": "stdout",
     "output_type": "stream",
     "text": [
      "thread4\n",
      "thread2\n",
      "\n",
      "thread8\n",
      "\n",
      "thread7\n",
      "\n",
      "thread0\n",
      "\n",
      "thread6\n",
      "\n",
      "thread1\n",
      "\n",
      "thread9\n",
      "\n",
      "thread5\n",
      "\n",
      "thread3\n",
      "\n",
      "\n",
      "main thread stop\n"
     ]
    }
   ],
   "source": [
    "#示例\n",
    "#!/usr/bin/env python\n",
    "# -*- coding:utf-8 -*-\n",
    "import threading\n",
    "import time\n",
    "\n",
    "def show(arg):\n",
    "    time.sleep(1)\n",
    "    print ('thread'+str(arg)+'\\n')\n",
    "    \n",
    "threads = []\n",
    "    \n",
    "for i in range(10):\n",
    "    t = threading.Thread(target=show, args=(i,))\n",
    "    threads.append(t)\n",
    "\n",
    "for t in threads:\n",
    "    t.start()\n",
    "for t in threads:\n",
    "    t.join()\n",
    "\n",
    "print ('main thread stop')"
   ]
  },
  {
   "cell_type": "markdown",
   "metadata": {},
   "source": [
    "## 守护进程"
   ]
  },
  {
   "cell_type": "code",
   "execution_count": 5,
   "metadata": {
    "ExecuteTime": {
     "end_time": "2019-01-13T08:38:09.800497Z",
     "start_time": "2019-01-13T08:38:07.791560Z"
    }
   },
   "outputs": [
    {
     "name": "stdout",
     "output_type": "stream",
     "text": [
      "[0]------running----\n",
      "\n",
      "starting thread Thread-43\n",
      "[1]------running----\n",
      "\n",
      "---main thread done----\n"
     ]
    }
   ],
   "source": [
    "import time\n",
    "import threading\n",
    "\n",
    "def run(n):\n",
    "\n",
    "    print('[%s]------running----\\n' % n)\n",
    "    time.sleep(2)\n",
    "    print('--done--')\n",
    "\n",
    "def main():\n",
    "    for i in range(5):\n",
    "        t = threading.Thread(target=run,args=[i,])\n",
    "        #time.sleep(1)\n",
    "        t.start()\n",
    "        t.join(1)\n",
    "        print('starting thread', t.getName())\n",
    "\n",
    "\n",
    "m = threading.Thread(target=main,args=[])\n",
    "m.setDaemon(True) #将主线程设置为Daemon线程,它退出时,其它子线程会同时退出,不管是否执行完任务\n",
    "m.start()\n",
    "m.join(timeout=2)\n",
    "print(\"---main thread done----\")"
   ]
  },
  {
   "cell_type": "markdown",
   "metadata": {},
   "source": [
    "## 线程锁"
   ]
  },
  {
   "cell_type": "code",
   "execution_count": 2,
   "metadata": {
    "ExecuteTime": {
     "end_time": "2019-07-26T03:54:07.114293Z",
     "start_time": "2019-07-26T03:53:57.087290Z"
    }
   },
   "outputs": [
    {
     "name": "stdout",
     "output_type": "stream",
     "text": [
      "--get num: 10\n",
      "--get num: 9\n",
      "--get num: 8\n",
      "--get num: 7\n",
      "--get num: 6\n",
      "--get num: 5\n",
      "--get num: 4\n",
      "--get num: 3\n",
      "--get num: 2\n",
      "--get num: 1\n",
      "final num: 0\n"
     ]
    }
   ],
   "source": [
    "import time\n",
    "import threading\n",
    "\n",
    "lock = threading.Lock() #生成全局锁\n",
    "\n",
    "def addNum():\n",
    "    global num #在每个线程中都获取这个全局变量\n",
    "    with lock:\n",
    "        print('--get num:',num )\n",
    "        time.sleep(1)\n",
    "        num  -=1 #对此公共变量进行-1操作\n",
    "\n",
    "num = 10  #设定一个共享变量\n",
    "thread_list = []\n",
    "for i in range(num):\n",
    "    t = threading.Thread(target=addNum)\n",
    "    t.start()\n",
    "    thread_list.append(t)\n",
    "\n",
    "for t in thread_list: #等待所有线程执行完毕\n",
    "    t.join()\n",
    "\n",
    "\n",
    "print('final num:', num )"
   ]
  },
  {
   "cell_type": "markdown",
   "metadata": {},
   "source": [
    "## 递归锁（Rlock）"
   ]
  },
  {
   "cell_type": "code",
   "execution_count": 1,
   "metadata": {
    "ExecuteTime": {
     "end_time": "2019-01-13T08:46:33.474304Z",
     "start_time": "2019-01-13T08:46:33.447373Z"
    },
    "scrolled": false
   },
   "outputs": [
    {
     "name": "stdout",
     "output_type": "stream",
     "text": [
      "grab the first part data\n",
      "--------between run1 and run2-----\n",
      "grab the second part data\n",
      "1 1\n",
      "grab the first part data\n",
      "--------between run1 and run2-----\n",
      "grab the second part data\n",
      "2 2\n",
      "grab the first part data\n",
      "--------between run1 and run2-----\n",
      "grab the second part data\n",
      "3 3\n",
      "grab the first part data\n",
      "--------between run1 and run2-----\n",
      "grab the second part data\n",
      "4 4\n",
      "----all threads done---\n",
      "4 4\n"
     ]
    }
   ],
   "source": [
    "import threading,time\n",
    "\n",
    "def run1():\n",
    "    print(\"grab the first part data\")\n",
    "    lock.acquire()\n",
    "    global num\n",
    "    num +=1\n",
    "    lock.release()\n",
    "    return num\n",
    "def run2():\n",
    "    print(\"grab the second part data\")\n",
    "    lock.acquire()\n",
    "    global  num2\n",
    "    num2+=1\n",
    "    lock.release()\n",
    "    return num2\n",
    "def run3():\n",
    "    lock.acquire()\n",
    "    res = run1()\n",
    "    print('--------between run1 and run2-----')\n",
    "    res2 = run2()\n",
    "    lock.release()\n",
    "    print(res,res2)\n",
    "\n",
    "\n",
    "if __name__ == '__main__':\n",
    "\n",
    "    num,num2 = 0,0\n",
    "    lock = threading.RLock()\n",
    "    for i in range(4):\n",
    "        t = threading.Thread(target=run3)\n",
    "        t.start()\n",
    "\n",
    "\n",
    "    print('----all threads done---')\n",
    "    print(num,num2)"
   ]
  },
  {
   "cell_type": "markdown",
   "metadata": {},
   "source": [
    "## Semaphore(信号量)\n",
    "\n",
    "互斥锁 同时只允许一个线程更改数据，而Semaphore是同时允许一定数量的线程更改数据 ，比如厕所有3个坑，那最多只允许3个人上厕所，后面的人只能等里面有人出来了才能再进去。"
   ]
  },
  {
   "cell_type": "code",
   "execution_count": 3,
   "metadata": {
    "ExecuteTime": {
     "end_time": "2019-01-13T08:52:13.544656Z",
     "start_time": "2019-01-13T08:52:08.522762Z"
    }
   },
   "outputs": [
    {
     "name": "stdout",
     "output_type": "stream",
     "text": [
      "24\n",
      "num:0\n",
      "run the thread: 0\n",
      "run the thread: 4\n",
      "\n",
      "23\n",
      "num:1\n",
      "\n",
      "run the thread: 3\n",
      "\n",
      "run the thread: 2\n",
      "\n",
      "run the thread: 1\n",
      "\n",
      "19\n",
      "num:5\n",
      "run the thread: 5\n",
      "\n",
      "run the thread: 8\n",
      "\n",
      "run the thread: 9\n",
      "\n",
      "run the thread: 6\n",
      "\n",
      "run the thread: 7\n",
      "\n",
      "14\n",
      "num:10\n",
      "run the thread: 10\n",
      "\n",
      "run the thread: 11\n",
      "\n",
      "run the thread: 13\n",
      "run the thread: 12\n",
      "\n",
      "\n",
      "run the thread: 14\n",
      "\n",
      "9\n",
      "num:15\n",
      "run the thread: 15\n",
      "\n",
      "run the thread: 16\n",
      "\n",
      "run the thread: 17\n",
      "run the thread: 18\n",
      "\n",
      "\n",
      "run the thread: 19\n",
      "\n",
      "----all threads done---\n",
      "4\n",
      "20\n"
     ]
    }
   ],
   "source": [
    "import threading,time\n",
    "\n",
    "def run(n):\n",
    "    global num\n",
    "    semaphore.acquire()\n",
    "    time.sleep(1)\n",
    "    print(\"run the thread: %s\\n\" %n)\n",
    "    num += 1\n",
    "    semaphore.release()\n",
    "\n",
    "if __name__ == '__main__':\n",
    "\n",
    "    num= 0\n",
    "    semaphore  = threading.BoundedSemaphore(5) #最多允许5个线程同时运行\n",
    "    for i in range(20):\n",
    "        t = threading.Thread(target=run,args=(i,))\n",
    "        t.start()\n",
    "    \n",
    "    while threading.activeCount() > 5:\n",
    "        print(threading.activeCount())\n",
    "        print(f'num:{num}')\n",
    "        time.sleep(1)\n",
    "    else:\n",
    "        print('----all threads done---')\n",
    "        print(threading.activeCount())\n",
    "        print(num)"
   ]
  },
  {
   "cell_type": "markdown",
   "metadata": {},
   "source": [
    "## Condition类"
   ]
  },
  {
   "cell_type": "code",
   "execution_count": 3,
   "metadata": {
    "ExecuteTime": {
     "end_time": "2019-08-02T06:53:06.038671Z",
     "start_time": "2019-08-02T06:52:56.008590Z"
    }
   },
   "outputs": [
    {
     "name": "stdout",
     "output_type": "stream",
     "text": [
      "produce...\n",
      "consume...\n",
      "produce...\n",
      "consume...\n",
      "produce...\n",
      "consume...\n",
      "produce...\n"
     ]
    }
   ],
   "source": [
    "# encoding: UTF-8\n",
    "import threading\n",
    "import time\n",
    "\n",
    "# 商品\n",
    "product = None\n",
    "# 条件变量\n",
    "con = threading.Condition()\n",
    "\n",
    "# 生产者方法\n",
    "def produce():\n",
    "    global product\n",
    "\n",
    "    with con:\n",
    "        while True:\n",
    "            if product is None:\n",
    "                print ('produce...')\n",
    "                product = 'anything'\n",
    "                # 通知消费者，商品已经生产\n",
    "                con.notify()\n",
    "            # 等待通知\n",
    "            con.wait()\n",
    "            time.sleep(2)\n",
    "\n",
    "# 消费者方法\n",
    "def consume():\n",
    "    global product\n",
    "\n",
    "    with con:\n",
    "        while True:\n",
    "            if product is not None:\n",
    "                print( 'consume...')\n",
    "                product = None\n",
    "                # 通知生产者，商品已经没了\n",
    "                con.notify()\n",
    "            # 等待通知\n",
    "            con.wait()\n",
    "            time.sleep(2)\n",
    "\n",
    "\n",
    "t1 = threading.Thread(target=produce)\n",
    "t2 = threading.Thread(target=consume)\n",
    "t1.start()\n",
    "t2.start()\n",
    "t1.join(10)\n"
   ]
  },
  {
   "cell_type": "code",
   "execution_count": 1,
   "metadata": {
    "ExecuteTime": {
     "end_time": "2019-01-13T09:33:29.498281Z",
     "start_time": "2019-01-13T09:33:19.454738Z"
    },
    "scrolled": false
   },
   "outputs": [
    {
     "name": "stdout",
     "output_type": "stream",
     "text": [
      "Producer(Thread-6):deliver one, now products:1\n",
      "Producer(Thread-7):deliver one, now products:2\n",
      "Consumer(Thread-8):consume one, now products:1\n",
      "Consumer(Thread-9):only 1, stop consume, products:1\n",
      "Consumer(Thread-10):only 1, stop consume, products:1\n",
      "Producer(Thread-6):deliver one, now products:2\n",
      "Consumer(Thread-9):consume one, now products:1\n",
      "Consumer(Thread-9):only 1, stop consume, products:1\n",
      "Producer(Thread-7):deliver one, now products:2\n",
      "Consumer(Thread-8):consume one, now products:1\n",
      "Producer(Thread-6):deliver one, now products:2\n",
      "Consumer(Thread-10):consume one, now products:1\n",
      "Consumer(Thread-10):only 1, stop consume, products:1\n"
     ]
    }
   ],
   "source": [
    "import threading\n",
    "import time\n",
    "\n",
    "condition = threading.Condition()\n",
    "products = 0\n",
    "\n",
    "class Producer(threading.Thread):\n",
    "    def run(self):\n",
    "        global products\n",
    "        while True:\n",
    "            if condition.acquire():\n",
    "                if products < 10:\n",
    "                    products += 1;\n",
    "                    print(\"Producer(%s):deliver one, now products:%s\" %(self.name, products))\n",
    "                    condition.notify()#不释放锁定，因此需要下面一句\n",
    "                    condition.release()\n",
    "                else:\n",
    "                    print(\"Producer(%s):already 10, stop deliver, now products:%s\" %(self.name, products))\n",
    "                    condition.wait();#自动释放锁定\n",
    "                time.sleep(2)\n",
    "\n",
    "class Consumer(threading.Thread):\n",
    "    def run(self):\n",
    "        global products\n",
    "        while True:\n",
    "            if condition.acquire():\n",
    "                if products > 1:\n",
    "                    products -= 1\n",
    "                    print(\"Consumer(%s):consume one, now products:%s\" %(self.name, products))\n",
    "                    condition.notify()\n",
    "                    condition.release()\n",
    "                else:\n",
    "                    print(\"Consumer(%s):only 1, stop consume, products:%s\" %(self.name, products))\n",
    "                    condition.wait();\n",
    "                time.sleep(2)\n",
    "\n",
    "if __name__ == \"__main__\":\n",
    "    for p in range(0, 2):\n",
    "        p = Producer()\n",
    "        p.start()\n",
    "\n",
    "    for c in range(0, 3):\n",
    "        c = Consumer()\n",
    "        c.setDaemon(True)\n",
    "        c.start()\n",
    "        \n",
    "    c.join(10)\n",
    "    "
   ]
  },
  {
   "cell_type": "code",
   "execution_count": 21,
   "metadata": {
    "ExecuteTime": {
     "end_time": "2019-01-13T09:42:56.382874Z",
     "start_time": "2019-01-13T09:42:56.360935Z"
    }
   },
   "outputs": [
    {
     "name": "stdout",
     "output_type": "stream",
     "text": [
      "[0, 0, 0, 0, 0, 0, 0, 0, 0, 0]\n",
      "doSet...9\n",
      "doSet...8\n",
      "doSet...7\n",
      "doSet...6\n",
      "doSet...5\n",
      "doSet...4\n",
      "doSet...3\n",
      "doSet...2\n",
      "doSet...1\n",
      "doSet...0\n",
      "doPrint...1\n",
      "doPrint...1\n",
      "doPrint...1\n",
      "doPrint...1\n",
      "doPrint...1\n",
      "doPrint...1\n",
      "doPrint...1\n",
      "doPrint...1\n",
      "doPrint...1\n",
      "doPrint...1\n"
     ]
    }
   ],
   "source": [
    "import threading\n",
    " \n",
    "alist = None\n",
    "condition = threading.Condition()\n",
    " \n",
    "def doSet():\n",
    "    if condition.acquire():\n",
    "        while alist is None:\n",
    "            condition.wait()\n",
    "        for i in range(len(alist))[::-1]:\n",
    "            print(f'doSet...{i}')\n",
    "            alist[i] = 1\n",
    "        condition.release()\n",
    " \n",
    "def doPrint():\n",
    "    if condition.acquire():\n",
    "        while alist is None:\n",
    "            condition.wait()\n",
    "        for i in alist:\n",
    "            print(f'doPrint...{i}')\n",
    "        condition.release()\n",
    " \n",
    "def doCreate():\n",
    "    global alist\n",
    "    if condition.acquire():\n",
    "        if alist is None:\n",
    "            alist = [0 for i in range(10)]\n",
    "            print(alist)\n",
    "            condition.notifyAll()\n",
    "        condition.release()\n",
    " \n",
    "tset = threading.Thread(target=doSet,name='tset')\n",
    "tprint = threading.Thread(target=doPrint,name='tprint')\n",
    "tcreate = threading.Thread(target=doCreate,name='tcreate')\n",
    "tset.start()\n",
    "tprint.start()\n",
    "tcreate.start()"
   ]
  },
  {
   "cell_type": "markdown",
   "metadata": {},
   "source": [
    "## Event类"
   ]
  },
  {
   "cell_type": "code",
   "execution_count": 2,
   "metadata": {
    "ExecuteTime": {
     "end_time": "2019-01-13T09:47:24.806541Z",
     "start_time": "2019-01-13T09:47:22.786821Z"
    }
   },
   "outputs": [
    {
     "name": "stdout",
     "output_type": "stream",
     "text": [
      "Thread-8 wait for event...\n",
      "Thread-9 wait for event...\n",
      "MainThread set event.\n",
      "Thread-9 recv event.\n",
      "Thread-8 recv event.\n"
     ]
    }
   ],
   "source": [
    "# encoding: UTF-8\n",
    "import threading\n",
    "import time\n",
    "\n",
    "event = threading.Event()\n",
    "\n",
    "\n",
    "def func():\n",
    "    # 等待事件，进入等待阻塞状态\n",
    "    print('%s wait for event...' % threading.currentThread().getName())\n",
    "    event.wait()\n",
    "\n",
    "    # 收到事件后进入运行状态\n",
    "    print('%s recv event.' % threading.currentThread().getName())\n",
    "\n",
    "\n",
    "t1 = threading.Thread(target=func)\n",
    "t2 = threading.Thread(target=func)\n",
    "t1.start()\n",
    "t2.start()\n",
    "\n",
    "time.sleep(2)\n",
    "\n",
    "# 发送事件通知\n",
    "print('MainThread set event.')\n",
    "event.set()"
   ]
  },
  {
   "cell_type": "markdown",
   "metadata": {},
   "source": [
    "## timer类"
   ]
  },
  {
   "cell_type": "code",
   "execution_count": 3,
   "metadata": {
    "ExecuteTime": {
     "end_time": "2019-01-13T09:48:52.253003Z",
     "start_time": "2019-01-13T09:48:47.243107Z"
    }
   },
   "outputs": [
    {
     "name": "stdout",
     "output_type": "stream",
     "text": [
      "hello timer!\n"
     ]
    }
   ],
   "source": [
    "# encoding: UTF-8\n",
    "import threading\n",
    "\n",
    "\n",
    "def func():\n",
    "    print('hello timer!')\n",
    "\n",
    "\n",
    "timer = threading.Timer(5, func)\n",
    "timer.start()\n",
    "timer.join()"
   ]
  },
  {
   "cell_type": "markdown",
   "metadata": {},
   "source": [
    "## local类"
   ]
  },
  {
   "cell_type": "code",
   "execution_count": 4,
   "metadata": {
    "ExecuteTime": {
     "end_time": "2019-01-13T09:49:47.804191Z",
     "start_time": "2019-01-13T09:49:47.795243Z"
    }
   },
   "outputs": [
    {
     "name": "stdout",
     "output_type": "stream",
     "text": [
      "notmain\n",
      "main\n"
     ]
    }
   ],
   "source": [
    "# encoding: UTF-8\n",
    "import threading\n",
    " \n",
    "local = threading.local()\n",
    "local.tname = 'main'\n",
    " \n",
    "def func():\n",
    "    local.tname = 'notmain'\n",
    "    print(local.tname)\n",
    " \n",
    "t1 = threading.Thread(target=func)\n",
    "t1.start()\n",
    "t1.join()\n",
    " \n",
    "print(local.tname)"
   ]
  },
  {
   "cell_type": "markdown",
   "metadata": {},
   "source": [
    "## 线程返回结果"
   ]
  },
  {
   "cell_type": "code",
   "execution_count": 1,
   "metadata": {
    "ExecuteTime": {
     "end_time": "2019-02-21T00:31:26.928705Z",
     "start_time": "2019-02-21T00:31:26.923626Z"
    }
   },
   "outputs": [],
   "source": [
    "\n",
    "from threading import Thread\n",
    "\n",
    "class MyThread(Thread):\n",
    "    def __init__(self, func, *args,**kw):\n",
    "        super().__init__()\n",
    "        self.func = func\n",
    "        self.args = args\n",
    "        self.kw = kw\n",
    "        # self.name = name\n",
    " \n",
    "    def run(self):\n",
    "        self.result = self.func(*self.args,**self.kw)\n",
    " \n",
    "    def get_result(self):\n",
    "        # Thread.join(self) # 等待线程执行完毕\n",
    "        try:\n",
    "            return self.result\n",
    "        except Exception:\n",
    "            return None\n",
    "\n",
    "    def thread_isalive(self):\n",
    "#         print(Thread.is_alive(self))\n",
    "        return Thread.is_alive(self)"
   ]
  },
  {
   "cell_type": "markdown",
   "metadata": {},
   "source": [
    "## 线程池"
   ]
  },
  {
   "cell_type": "code",
   "execution_count": 1,
   "metadata": {
    "ExecuteTime": {
     "end_time": "2020-05-08T07:44:31.436658Z",
     "start_time": "2020-05-08T07:44:25.425662Z"
    }
   },
   "outputs": [
    {
     "name": "stdout",
     "output_type": "stream",
     "text": [
      "2.0017471313476562 get page 2s finished\n",
      "2.002741813659668 in main: get page 2s success\n",
      "3.0014777183532715 get page 3s finished\n",
      "3.003087043762207 in main: get page 3s success\n",
      "6.0039684772491455 get page 4s finished\n",
      "6.0039684772491455 in main: get page 4s success\n"
     ]
    }
   ],
   "source": [
    "from concurrent.futures import ThreadPoolExecutor, as_completed\n",
    "import time\n",
    "st = time.time()\n",
    "\n",
    "# 参数times用来模拟网络请求的时间\n",
    "def get_html(times):\n",
    "    time.sleep(times)\n",
    "    print(f\"{time.time()-st} get page {times}s finished\")\n",
    "    return times\n",
    "\n",
    "executor = ThreadPoolExecutor(max_workers=2)\n",
    "urls = [3, 2, 4] # 并不是真的url\n",
    "all_task = [executor.submit(get_html, (url)) for url in urls]\n",
    "\n",
    "for future in as_completed(all_task):\n",
    "    data = future.result()\n",
    "    print(f\"{time.time()-st} in main: get page {data}s success\")"
   ]
  },
  {
   "cell_type": "code",
   "execution_count": 2,
   "metadata": {
    "ExecuteTime": {
     "end_time": "2020-05-08T07:44:37.473475Z",
     "start_time": "2020-05-08T07:44:31.457635Z"
    }
   },
   "outputs": [
    {
     "name": "stdout",
     "output_type": "stream",
     "text": [
      "2.0028390884399414 get page 2s finished\n",
      "3.002140522003174 get page 3s finished\n",
      "3.004140853881836 in main: get page 3s success\n",
      "3.004140853881836 in main: get page 2s success\n",
      "6.005833387374878 get page 4s finished\n",
      "6.005833387374878 in main: get page 4s success\n"
     ]
    }
   ],
   "source": [
    "from concurrent.futures import ThreadPoolExecutor\n",
    "import time\n",
    "st = time.time()\n",
    "# 参数times用来模拟网络请求的时间\n",
    "def get_html(times):\n",
    "    time.sleep(times)\n",
    "    print(f\"{time.time()-st} get page {times}s finished\")\n",
    "    return times\n",
    "\n",
    "executor = ThreadPoolExecutor(max_workers=2)\n",
    "urls = [3, 2, 4] # 并不是真的url\n",
    "\n",
    "for data in executor.map(get_html, urls):\n",
    "    print(f\"{time.time()-st} in main: get page {data}s success\")"
   ]
  },
  {
   "cell_type": "code",
   "execution_count": null,
   "metadata": {},
   "outputs": [],
   "source": []
  }
 ],
 "metadata": {
  "hide_input": false,
  "kernelspec": {
   "display_name": "Python 3",
   "language": "python",
   "name": "python3"
  },
  "language_info": {
   "codemirror_mode": {
    "name": "ipython",
    "version": 3
   },
   "file_extension": ".py",
   "mimetype": "text/x-python",
   "name": "python",
   "nbconvert_exporter": "python",
   "pygments_lexer": "ipython3",
   "version": "3.7.5"
  },
  "nbTranslate": {
   "displayLangs": [
    "*"
   ],
   "hotkey": "alt-t",
   "langInMainMenu": true,
   "sourceLang": "en",
   "targetLang": "fr",
   "useGoogleTranslate": true
  },
  "toc": {
   "base_numbering": 1,
   "nav_menu": {},
   "number_sections": true,
   "sideBar": true,
   "skip_h1_title": false,
   "title_cell": "Table of Contents",
   "title_sidebar": "Contents",
   "toc_cell": false,
   "toc_position": {},
   "toc_section_display": true,
   "toc_window_display": true
  },
  "varInspector": {
   "cols": {
    "lenName": 16,
    "lenType": 16,
    "lenVar": 40
   },
   "kernels_config": {
    "python": {
     "delete_cmd_postfix": "",
     "delete_cmd_prefix": "del ",
     "library": "var_list.py",
     "varRefreshCmd": "print(var_dic_list())"
    },
    "r": {
     "delete_cmd_postfix": ") ",
     "delete_cmd_prefix": "rm(",
     "library": "var_list.r",
     "varRefreshCmd": "cat(var_dic_list()) "
    }
   },
   "types_to_exclude": [
    "module",
    "function",
    "builtin_function_or_method",
    "instance",
    "_Feature"
   ],
   "window_display": false
  }
 },
 "nbformat": 4,
 "nbformat_minor": 2
}

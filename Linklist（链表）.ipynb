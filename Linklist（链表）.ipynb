{
 "cells": [
  {
   "cell_type": "markdown",
   "metadata": {},
   "source": [
    "给出两个 非空 的链表用来表示两个非负的整数。其中，它们各自的位数是按照 逆序 的方式存储的，并且它们的每个节点只能存储 一位 数字。\n",
    "\n",
    "如果，我们将这两个数相加起来，则会返回一个新的链表来表示它们的和。\n",
    "\n",
    "您可以假设除了数字 0 之外，这两个数都不会以 0 开头。\n",
    "\n",
    "示例：\n",
    "\n",
    "输入：(2 -> 4 -> 3) + (5 -> 6 -> 4)\n",
    "输出：7 -> 0 -> 8\n",
    "原因：342 + 465 = 807\n",
    "\n"
   ]
  },
  {
   "cell_type": "code",
   "execution_count": 70,
   "metadata": {
    "ExecuteTime": {
     "end_time": "2019-06-13T03:18:59.106109Z",
     "start_time": "2019-06-13T03:18:59.102098Z"
    }
   },
   "outputs": [
    {
     "data": {
      "text/plain": [
       "3"
      ]
     },
     "execution_count": 70,
     "metadata": {},
     "output_type": "execute_result"
    }
   ],
   "source": [
    "ld.next.next.val"
   ]
  },
  {
   "cell_type": "code",
   "execution_count": 83,
   "metadata": {
    "ExecuteTime": {
     "end_time": "2019-06-13T03:25:13.874644Z",
     "start_time": "2019-06-13T03:25:13.865668Z"
    }
   },
   "outputs": [],
   "source": [
    "# Definition for singly-linked list.\n",
    "class ListNode:\n",
    "    def __init__(self, x):\n",
    "        self.val = x\n",
    "        self.next = None\n",
    "\n",
    "class Solution:\n",
    "    def addTwoNumbers(self, l1: ListNode, l2: ListNode) -> ListNode:\n",
    "        l3 = ListNode(0)\n",
    "        result = l3\n",
    "        carry = 0\n",
    "        while l1 or l2:\n",
    "            if l1 and l2:\n",
    "                sum = l1.val + l2.val + carry\n",
    "                remainder = sum % 10\n",
    "                carry = sum // 10\n",
    "                new_node = ListNode(remainder)\n",
    "                result.next = new_node\n",
    "                l1 = l1.next\n",
    "                l2 = l2.next\n",
    "                result = result.next\n",
    "            elif l1:\n",
    "                sum = l1.val + carry\n",
    "                remainder = sum % 10\n",
    "                carry = sum // 10\n",
    "                new_node = ListNode(remainder)\n",
    "                result.next = new_node\n",
    "                l1 = l1.next\n",
    "                result = result.next\n",
    "            else:\n",
    "                sum = l2.val + carry\n",
    "                remainder = sum % 10\n",
    "                carry = sum // 10\n",
    "                new_node = ListNode(remainder)\n",
    "                l2 = l2.next\n",
    "                result.next = new_node\n",
    "                result = result.next\n",
    "        if carry == 1:\n",
    "            result.next = ListNode(1)\n",
    "            \n",
    "        return l3.next\n",
    "    \n",
    "s = Solution()\n",
    "\n",
    "def LinkList(list):\n",
    "    list_node = ListNode(0)\n",
    "    l_n = list_node\n",
    "    for i in list:\n",
    "        t_node = ListNode(i)\n",
    "        l_n.next = t_node\n",
    "        l_n = l_n.next\n",
    "    return list_node.next\n",
    "\n",
    "\n",
    "\n"
   ]
  },
  {
   "cell_type": "code",
   "execution_count": 89,
   "metadata": {
    "ExecuteTime": {
     "end_time": "2019-06-13T03:25:37.314805Z",
     "start_time": "2019-06-13T03:25:37.310815Z"
    }
   },
   "outputs": [],
   "source": [
    "l1_l = [6,4,3]\n",
    "l2_l = [5,6,9]\n",
    "l1 = LinkList(l1_l)\n",
    "l2 = LinkList(l2_l)"
   ]
  },
  {
   "cell_type": "code",
   "execution_count": 90,
   "metadata": {
    "ExecuteTime": {
     "end_time": "2019-06-13T03:25:40.267940Z",
     "start_time": "2019-06-13T03:25:40.264922Z"
    }
   },
   "outputs": [],
   "source": [
    "t = s.addTwoNumbers(l1,l2)"
   ]
  },
  {
   "cell_type": "code",
   "execution_count": 91,
   "metadata": {
    "ExecuteTime": {
     "end_time": "2019-06-13T03:25:40.917428Z",
     "start_time": "2019-06-13T03:25:40.914409Z"
    }
   },
   "outputs": [
    {
     "data": {
      "text/plain": [
       "1"
      ]
     },
     "execution_count": 91,
     "metadata": {},
     "output_type": "execute_result"
    }
   ],
   "source": [
    "t.val"
   ]
  },
  {
   "cell_type": "code",
   "execution_count": 92,
   "metadata": {
    "ExecuteTime": {
     "end_time": "2019-06-13T03:25:41.444669Z",
     "start_time": "2019-06-13T03:25:41.441646Z"
    }
   },
   "outputs": [
    {
     "data": {
      "text/plain": [
       "1"
      ]
     },
     "execution_count": 92,
     "metadata": {},
     "output_type": "execute_result"
    }
   ],
   "source": [
    "t.next.val"
   ]
  },
  {
   "cell_type": "code",
   "execution_count": 93,
   "metadata": {
    "ExecuteTime": {
     "end_time": "2019-06-13T03:25:41.949722Z",
     "start_time": "2019-06-13T03:25:41.945733Z"
    }
   },
   "outputs": [
    {
     "data": {
      "text/plain": [
       "3"
      ]
     },
     "execution_count": 93,
     "metadata": {},
     "output_type": "execute_result"
    }
   ],
   "source": [
    "t.next.next.val"
   ]
  },
  {
   "cell_type": "code",
   "execution_count": 94,
   "metadata": {
    "ExecuteTime": {
     "end_time": "2019-06-13T03:25:42.413352Z",
     "start_time": "2019-06-13T03:25:42.409361Z"
    }
   },
   "outputs": [
    {
     "data": {
      "text/plain": [
       "1"
      ]
     },
     "execution_count": 94,
     "metadata": {},
     "output_type": "execute_result"
    }
   ],
   "source": [
    "t.next.next.next.val"
   ]
  },
  {
   "cell_type": "code",
   "execution_count": null,
   "metadata": {},
   "outputs": [],
   "source": []
  }
 ],
 "metadata": {
  "hide_input": false,
  "kernelspec": {
   "display_name": "Python 3",
   "language": "python",
   "name": "python3"
  },
  "language_info": {
   "codemirror_mode": {
    "name": "ipython",
    "version": 3
   },
   "file_extension": ".py",
   "mimetype": "text/x-python",
   "name": "python",
   "nbconvert_exporter": "python",
   "pygments_lexer": "ipython3",
   "version": "3.7.0"
  },
  "nbTranslate": {
   "displayLangs": [
    "*"
   ],
   "hotkey": "alt-t",
   "langInMainMenu": true,
   "sourceLang": "en",
   "targetLang": "fr",
   "useGoogleTranslate": true
  },
  "toc": {
   "base_numbering": 1,
   "nav_menu": {},
   "number_sections": true,
   "sideBar": true,
   "skip_h1_title": false,
   "title_cell": "Table of Contents",
   "title_sidebar": "Contents",
   "toc_cell": false,
   "toc_position": {},
   "toc_section_display": true,
   "toc_window_display": false
  },
  "varInspector": {
   "cols": {
    "lenName": 16,
    "lenType": 16,
    "lenVar": 40
   },
   "kernels_config": {
    "python": {
     "delete_cmd_postfix": "",
     "delete_cmd_prefix": "del ",
     "library": "var_list.py",
     "varRefreshCmd": "print(var_dic_list())"
    },
    "r": {
     "delete_cmd_postfix": ") ",
     "delete_cmd_prefix": "rm(",
     "library": "var_list.r",
     "varRefreshCmd": "cat(var_dic_list()) "
    }
   },
   "types_to_exclude": [
    "module",
    "function",
    "builtin_function_or_method",
    "instance",
    "_Feature"
   ],
   "window_display": false
  }
 },
 "nbformat": 4,
 "nbformat_minor": 2
}

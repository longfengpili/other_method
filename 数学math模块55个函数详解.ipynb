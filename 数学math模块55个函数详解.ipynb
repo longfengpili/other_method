{
 "cells": [
  {
   "cell_type": "code",
   "execution_count": 1,
   "metadata": {
    "ExecuteTime": {
     "end_time": "2020-05-20T02:56:58.031443Z",
     "start_time": "2020-05-20T02:56:58.028416Z"
    }
   },
   "outputs": [],
   "source": [
    "import math"
   ]
  },
  {
   "cell_type": "markdown",
   "metadata": {},
   "source": [
    "# 数论与表示函数"
   ]
  },
  {
   "cell_type": "markdown",
   "metadata": {},
   "source": [
    "## ceil\n",
    "描述：向上取整数，返回 x 的上限，即大于或者等于 x 的最小整数  \n",
    "语法：math.ceil(x)"
   ]
  },
  {
   "cell_type": "code",
   "execution_count": 4,
   "metadata": {
    "ExecuteTime": {
     "end_time": "2020-05-18T07:43:41.814161Z",
     "start_time": "2020-05-18T07:43:41.809164Z"
    }
   },
   "outputs": [
    {
     "data": {
      "text/plain": [
       "6"
      ]
     },
     "execution_count": 4,
     "metadata": {},
     "output_type": "execute_result"
    }
   ],
   "source": [
    "math.ceil(5.1)"
   ]
  },
  {
   "cell_type": "markdown",
   "metadata": {},
   "source": [
    "## copysign()\n",
    "描述：返回一个基于 x 的绝对值和 y 的符号的浮点数。在支持带符号零的平台上，copysign(1.0, -0.0) 返回 -1.0.  \n",
    "语法：math.copysign(x, y)"
   ]
  },
  {
   "cell_type": "code",
   "execution_count": 6,
   "metadata": {
    "ExecuteTime": {
     "end_time": "2020-05-18T07:46:04.340042Z",
     "start_time": "2020-05-18T07:46:04.335017Z"
    }
   },
   "outputs": [
    {
     "data": {
      "text/plain": [
       "14.0"
      ]
     },
     "execution_count": 6,
     "metadata": {},
     "output_type": "execute_result"
    }
   ],
   "source": [
    "math.copysign(-14, 10)"
   ]
  },
  {
   "cell_type": "markdown",
   "metadata": {},
   "source": [
    "## fabs()\n",
    "描述：返回数字的绝对值  \n",
    "语法：math.fabs( x )"
   ]
  },
  {
   "cell_type": "code",
   "execution_count": 7,
   "metadata": {
    "ExecuteTime": {
     "end_time": "2020-05-18T07:46:51.412894Z",
     "start_time": "2020-05-18T07:46:51.406917Z"
    }
   },
   "outputs": [
    {
     "data": {
      "text/plain": [
       "12.0"
      ]
     },
     "execution_count": 7,
     "metadata": {},
     "output_type": "execute_result"
    },
    {
     "data": {
      "text/plain": [
       "12.0"
      ]
     },
     "execution_count": 7,
     "metadata": {},
     "output_type": "execute_result"
    }
   ],
   "source": [
    "math.fabs(12)\n",
    "math.fabs(-12)"
   ]
  },
  {
   "cell_type": "markdown",
   "metadata": {},
   "source": [
    "## factorial()\n",
    "描述：以一个整数返回 x 的阶乘。如果 x 不是整数或为负数时则将引发 ValueError。  \n",
    "语法：math.factorial( x )"
   ]
  },
  {
   "cell_type": "code",
   "execution_count": 9,
   "metadata": {
    "ExecuteTime": {
     "end_time": "2020-05-18T07:47:17.380333Z",
     "start_time": "2020-05-18T07:47:17.376361Z"
    }
   },
   "outputs": [
    {
     "data": {
      "text/plain": [
       "24"
      ]
     },
     "execution_count": 9,
     "metadata": {},
     "output_type": "execute_result"
    }
   ],
   "source": [
    "math.factorial(4)"
   ]
  },
  {
   "cell_type": "markdown",
   "metadata": {},
   "source": [
    "## floor()\n",
    "描述：返回 x 的向下取整，小于或等于 x 的最大整数。如果 x 不是浮点数，则委托 x.__floor__() ，它应返回 Integral 值。  \n",
    "语法：math.floor( x )"
   ]
  },
  {
   "cell_type": "code",
   "execution_count": 10,
   "metadata": {
    "ExecuteTime": {
     "end_time": "2020-05-18T07:48:03.319250Z",
     "start_time": "2020-05-18T07:48:03.313247Z"
    }
   },
   "outputs": [
    {
     "data": {
      "text/plain": [
       "1"
      ]
     },
     "execution_count": 10,
     "metadata": {},
     "output_type": "execute_result"
    },
    {
     "data": {
      "text/plain": [
       "1"
      ]
     },
     "execution_count": 10,
     "metadata": {},
     "output_type": "execute_result"
    },
    {
     "data": {
      "text/plain": [
       "-2"
      ]
     },
     "execution_count": 10,
     "metadata": {},
     "output_type": "execute_result"
    }
   ],
   "source": [
    "math.floor(1.2)\n",
    "math.floor(1.0)\n",
    "math.floor(-1.2)"
   ]
  },
  {
   "cell_type": "markdown",
   "metadata": {},
   "source": [
    "## fmod()\n",
    "描述：返回余数，函数 fmod() 在使用浮点数时通常是首选，而Python的 x % y 在使用整数时是首选。  \n",
    "语法：math.fmod(x, y)"
   ]
  },
  {
   "cell_type": "code",
   "execution_count": 11,
   "metadata": {
    "ExecuteTime": {
     "end_time": "2020-05-18T07:48:51.848914Z",
     "start_time": "2020-05-18T07:48:51.843913Z"
    }
   },
   "outputs": [
    {
     "data": {
      "text/plain": [
       "1.0"
      ]
     },
     "execution_count": 11,
     "metadata": {},
     "output_type": "execute_result"
    },
    {
     "data": {
      "text/plain": [
       "1.0999999999999999"
      ]
     },
     "execution_count": 11,
     "metadata": {},
     "output_type": "execute_result"
    }
   ],
   "source": [
    "math.fmod(3, 2)\n",
    "math.fmod(2.3, 1.2)"
   ]
  },
  {
   "cell_type": "markdown",
   "metadata": {},
   "source": [
    "## frexp()\n",
    "描述：返回 x 的尾数和指数作为对``(m, e)``。 m 是一个浮点数， e 是一个整数，正好是 x == m * 2**e 。如果 x 为零，则返回 (0.0, 0) ，否则返回 0.5 <= abs(m) < 1 。这用于以可移植方式“分离”浮点数的内部表示。  \n",
    "语法：math.frexp(x)"
   ]
  },
  {
   "cell_type": "code",
   "execution_count": 12,
   "metadata": {
    "ExecuteTime": {
     "end_time": "2020-05-18T07:50:06.539532Z",
     "start_time": "2020-05-18T07:50:06.535554Z"
    }
   },
   "outputs": [
    {
     "data": {
      "text/plain": [
       "(0.75, 4)"
      ]
     },
     "execution_count": 12,
     "metadata": {},
     "output_type": "execute_result"
    }
   ],
   "source": [
    "math.frexp(12)"
   ]
  },
  {
   "cell_type": "markdown",
   "metadata": {},
   "source": [
    "## fsum()\n",
    "描述：对迭代器里的每个元素进行求和操作，返回迭代中的精确浮点值。通过跟踪多个中间部分和来避免精度损失  \n",
    "语法：math.fsum( x )"
   ]
  },
  {
   "cell_type": "code",
   "execution_count": 14,
   "metadata": {
    "ExecuteTime": {
     "end_time": "2020-05-18T07:51:36.568854Z",
     "start_time": "2020-05-18T07:51:36.563855Z"
    }
   },
   "outputs": [
    {
     "data": {
      "text/plain": [
       "8.0"
      ]
     },
     "execution_count": 14,
     "metadata": {},
     "output_type": "execute_result"
    },
    {
     "data": {
      "text/plain": [
       "2.3"
      ]
     },
     "execution_count": 14,
     "metadata": {},
     "output_type": "execute_result"
    }
   ],
   "source": [
    "math.fsum([1, 3, 4, 0])\n",
    "math.fsum([1.1, 1.2])"
   ]
  },
  {
   "cell_type": "markdown",
   "metadata": {},
   "source": [
    "## gcd()\n",
    "描述：返回整数 a 和 b 的最大公约数。如果 a 或 b 之一非零，则 gcd(a, b) 的值是能同时整除 a 和 b 的最大正整数。gcd(0, 0) 返回 0。  \n",
    "语法：math.gcd( x,y)\n"
   ]
  },
  {
   "cell_type": "code",
   "execution_count": 16,
   "metadata": {
    "ExecuteTime": {
     "end_time": "2020-05-18T07:52:08.912277Z",
     "start_time": "2020-05-18T07:52:08.908248Z"
    }
   },
   "outputs": [
    {
     "data": {
      "text/plain": [
       "6"
      ]
     },
     "execution_count": 16,
     "metadata": {},
     "output_type": "execute_result"
    }
   ],
   "source": [
    "math.gcd(12, 6)"
   ]
  },
  {
   "cell_type": "markdown",
   "metadata": {},
   "source": [
    "## isclose()\n",
    "描述：若 a 和 b 的值比较接近则返回 True，否则返回 False。根据给定的绝对和相对容差确定两个值是否被认为是接近的。\n",
    "语法：math.isclose(a, b, *, rel_tol=1e-09, abs_tol=0.0)\n",
    "+ rel_tol 是相对容差 —— 它是 a 和 b 之间允许的最大差值，相对于 a 或 b 的较大绝对值。例如，要设置5％的容差，请传递 rel_tol=0.05 。默认容差为 1e-09，确保两个值在大约9位十进制数字内相同。 rel_tol 必须大于零。\n",
    "+ abs_tol 是最小绝对容差 —— 对于接近零的比较很有用。 abs_tol 必须至少为零。\n",
    "如果没有错误发生，结果将是：abs(a-b) <= max(rel_tol * max(abs(a), abs(b)), abs_tol) 。  \n",
    "\n",
    "IEEE 754特殊值 NaN ， inf 和 -inf 将根据IEEE规则处理。具体来说， NaN 不被认为接近任何其他值，包括 NaN 。inf 和 -inf 只被认为接近自己。"
   ]
  },
  {
   "cell_type": "code",
   "execution_count": 22,
   "metadata": {
    "ExecuteTime": {
     "end_time": "2020-05-18T08:02:15.578408Z",
     "start_time": "2020-05-18T08:02:15.568404Z"
    }
   },
   "outputs": [
    {
     "data": {
      "text/plain": [
       "True"
      ]
     },
     "execution_count": 22,
     "metadata": {},
     "output_type": "execute_result"
    },
    {
     "data": {
      "text/plain": [
       "False"
      ]
     },
     "execution_count": 22,
     "metadata": {},
     "output_type": "execute_result"
    },
    {
     "data": {
      "text/plain": [
       "True"
      ]
     },
     "execution_count": 22,
     "metadata": {},
     "output_type": "execute_result"
    },
    {
     "data": {
      "text/plain": [
       "True"
      ]
     },
     "execution_count": 22,
     "metadata": {},
     "output_type": "execute_result"
    }
   ],
   "source": [
    "math.isclose(12, 12)\n",
    "math.isclose(12, 13)\n",
    "math.isclose(12, 13, abs_tol=10)\n",
    "math.isclose(12, 13, rel_tol=0.5)"
   ]
  },
  {
   "cell_type": "markdown",
   "metadata": {},
   "source": [
    "## isfinite()\n",
    "描述：如果 x 既不是无穷大也不是NaN，则返回 True ，否则返回 False 。（注意 0.0 被认为 是 有限的。）  \n",
    "语法：math.isfinite(x)"
   ]
  },
  {
   "cell_type": "code",
   "execution_count": 3,
   "metadata": {
    "ExecuteTime": {
     "end_time": "2020-05-20T02:58:50.156769Z",
     "start_time": "2020-05-20T02:58:50.148771Z"
    }
   },
   "outputs": [
    {
     "data": {
      "text/plain": [
       "True"
      ]
     },
     "execution_count": 3,
     "metadata": {},
     "output_type": "execute_result"
    },
    {
     "data": {
      "text/plain": [
       "False"
      ]
     },
     "execution_count": 3,
     "metadata": {},
     "output_type": "execute_result"
    },
    {
     "data": {
      "text/plain": [
       "False"
      ]
     },
     "execution_count": 3,
     "metadata": {},
     "output_type": "execute_result"
    },
    {
     "data": {
      "text/plain": [
       "False"
      ]
     },
     "execution_count": 3,
     "metadata": {},
     "output_type": "execute_result"
    }
   ],
   "source": [
    "math.isfinite(2)\n",
    "math.isfinite(math.nan)\n",
    "math.isfinite(math.inf)\n",
    "math.isfinite(-math.inf)"
   ]
  },
  {
   "cell_type": "markdown",
   "metadata": {},
   "source": [
    "## isinf()\n",
    "描述：如果 x 是正或负无穷大，则返回 True ，否则返回 False 。   \n",
    "语法：math.isinf()"
   ]
  },
  {
   "cell_type": "code",
   "execution_count": 4,
   "metadata": {
    "ExecuteTime": {
     "end_time": "2020-05-20T02:59:31.093073Z",
     "start_time": "2020-05-20T02:59:31.084074Z"
    }
   },
   "outputs": [
    {
     "data": {
      "text/plain": [
       "False"
      ]
     },
     "execution_count": 4,
     "metadata": {},
     "output_type": "execute_result"
    },
    {
     "data": {
      "text/plain": [
       "False"
      ]
     },
     "execution_count": 4,
     "metadata": {},
     "output_type": "execute_result"
    },
    {
     "data": {
      "text/plain": [
       "True"
      ]
     },
     "execution_count": 4,
     "metadata": {},
     "output_type": "execute_result"
    },
    {
     "data": {
      "text/plain": [
       "True"
      ]
     },
     "execution_count": 4,
     "metadata": {},
     "output_type": "execute_result"
    }
   ],
   "source": [
    "math.isinf(2)\n",
    "math.isinf(math.nan)\n",
    "math.isinf(math.inf)\n",
    "math.isinf(-math.inf)"
   ]
  },
  {
   "cell_type": "markdown",
   "metadata": {},
   "source": [
    "## isnan()\n",
    "描述：如果 x 是 NaN（不是数字），则返回 True ，否则返回 False 。  \n",
    "语法：math.isnan(x)"
   ]
  },
  {
   "cell_type": "code",
   "execution_count": 6,
   "metadata": {
    "ExecuteTime": {
     "end_time": "2020-05-20T03:00:18.576333Z",
     "start_time": "2020-05-20T03:00:18.571331Z"
    }
   },
   "outputs": [
    {
     "data": {
      "text/plain": [
       "True"
      ]
     },
     "execution_count": 6,
     "metadata": {},
     "output_type": "execute_result"
    },
    {
     "data": {
      "text/plain": [
       "False"
      ]
     },
     "execution_count": 6,
     "metadata": {},
     "output_type": "execute_result"
    }
   ],
   "source": [
    "math.isnan(math.nan)\n",
    "math.isnan(1)"
   ]
  },
  {
   "cell_type": "markdown",
   "metadata": {},
   "source": [
    "## ldexp()\n",
    "描述：返回 x * (2**i) 。这基本上是函数 frexp() 的反函数。  \n",
    "语法：math.ldexp(x, i)"
   ]
  },
  {
   "cell_type": "code",
   "execution_count": 12,
   "metadata": {
    "ExecuteTime": {
     "end_time": "2020-05-20T03:06:39.938022Z",
     "start_time": "2020-05-20T03:06:39.933022Z"
    }
   },
   "outputs": [
    {
     "data": {
      "text/plain": [
       "16.0"
      ]
     },
     "execution_count": 12,
     "metadata": {},
     "output_type": "execute_result"
    },
    {
     "data": {
      "text/plain": [
       "(0.5, 5)"
      ]
     },
     "execution_count": 12,
     "metadata": {},
     "output_type": "execute_result"
    }
   ],
   "source": [
    "math.ldexp(0.5, 5)\n",
    "math.frexp(16)"
   ]
  },
  {
   "cell_type": "markdown",
   "metadata": {},
   "source": [
    "## modf()\n",
    "描述：返回 x 的小数和整数部分。两个结果都带有 x 的符号并且是浮点数。  \n",
    "语法：math.modf(x) "
   ]
  },
  {
   "cell_type": "code",
   "execution_count": 13,
   "metadata": {
    "ExecuteTime": {
     "end_time": "2020-05-20T03:07:11.511486Z",
     "start_time": "2020-05-20T03:07:11.507484Z"
    }
   },
   "outputs": [
    {
     "data": {
      "text/plain": [
       "(0.75, 3.0)"
      ]
     },
     "execution_count": 13,
     "metadata": {},
     "output_type": "execute_result"
    }
   ],
   "source": [
    "math.modf(3.75)"
   ]
  },
  {
   "cell_type": "markdown",
   "metadata": {},
   "source": [
    "## remainder()\n",
    "描述：返回 IEEE 754 风格的 x 相对于 y 的余数  \n",
    "语法：math.remainder(x, y)\n"
   ]
  },
  {
   "cell_type": "code",
   "execution_count": 16,
   "metadata": {
    "ExecuteTime": {
     "end_time": "2020-05-20T03:08:49.957753Z",
     "start_time": "2020-05-20T03:08:49.948755Z"
    }
   },
   "outputs": [
    {
     "data": {
      "text/plain": [
       "1.0"
      ]
     },
     "execution_count": 16,
     "metadata": {},
     "output_type": "execute_result"
    },
    {
     "data": {
      "text/plain": [
       "2.0"
      ]
     },
     "execution_count": 16,
     "metadata": {},
     "output_type": "execute_result"
    },
    {
     "data": {
      "text/plain": [
       "-2.0"
      ]
     },
     "execution_count": 16,
     "metadata": {},
     "output_type": "execute_result"
    },
    {
     "data": {
      "text/plain": [
       "-1.0"
      ]
     },
     "execution_count": 16,
     "metadata": {},
     "output_type": "execute_result"
    },
    {
     "data": {
      "text/plain": [
       "0.0"
      ]
     },
     "execution_count": 16,
     "metadata": {},
     "output_type": "execute_result"
    }
   ],
   "source": [
    "math.remainder(11, 5)\n",
    "math.remainder(12, 5)\n",
    "math.remainder(13, 5)\n",
    "math.remainder(14, 5)\n",
    "math.remainder(15, 5)"
   ]
  },
  {
   "cell_type": "markdown",
   "metadata": {},
   "source": [
    "## trunc()\n",
    "描述：返回 Real 值 x 截断为 Integral （通常是整数）  \n",
    "语法：math.trunc(x)"
   ]
  },
  {
   "cell_type": "code",
   "execution_count": 19,
   "metadata": {
    "ExecuteTime": {
     "end_time": "2020-05-20T03:09:35.238958Z",
     "start_time": "2020-05-20T03:09:35.235939Z"
    }
   },
   "outputs": [
    {
     "data": {
      "text/plain": [
       "3"
      ]
     },
     "execution_count": 19,
     "metadata": {},
     "output_type": "execute_result"
    }
   ],
   "source": [
    "math.trunc(math.pi)"
   ]
  },
  {
   "cell_type": "markdown",
   "metadata": {},
   "source": [
    "# 幂函数与对数函数"
   ]
  },
  {
   "cell_type": "markdown",
   "metadata": {},
   "source": [
    "## exp()\n",
    "描述：返回 e 次 x 幂，其中 e = 2.718281... 是自然对数的基数。这通常比 math.e ** x 或 pow(math.e, x) 更精确。  \n",
    "语法：math.exp( x )"
   ]
  },
  {
   "cell_type": "code",
   "execution_count": 20,
   "metadata": {
    "ExecuteTime": {
     "end_time": "2020-05-20T03:10:48.906353Z",
     "start_time": "2020-05-20T03:10:48.900351Z"
    }
   },
   "outputs": [
    {
     "data": {
      "text/plain": [
       "2.718281828459045"
      ]
     },
     "execution_count": 20,
     "metadata": {},
     "output_type": "execute_result"
    },
    {
     "data": {
      "text/plain": [
       "7.38905609893065"
      ]
     },
     "execution_count": 20,
     "metadata": {},
     "output_type": "execute_result"
    }
   ],
   "source": [
    "math.exp(1)\n",
    "math.exp(2)"
   ]
  },
  {
   "cell_type": "markdown",
   "metadata": {},
   "source": [
    "## log()\n",
    "描述：使用一个参数，返回 x 的自然对数（底为 e ）。  \n",
    "语法：math.log(x[,base])\n",
    "参数：\n",
    "+ x -- 数值表达式。\n",
    "+ base -- 可选，底数，默认为 e。"
   ]
  },
  {
   "cell_type": "code",
   "execution_count": 21,
   "metadata": {
    "ExecuteTime": {
     "end_time": "2020-05-20T03:12:05.260201Z",
     "start_time": "2020-05-20T03:12:05.253175Z"
    }
   },
   "outputs": [
    {
     "data": {
      "text/plain": [
       "1.9999924078065106"
      ]
     },
     "execution_count": 21,
     "metadata": {},
     "output_type": "execute_result"
    },
    {
     "data": {
      "text/plain": [
       "1.0"
      ]
     },
     "execution_count": 21,
     "metadata": {},
     "output_type": "execute_result"
    },
    {
     "data": {
      "text/plain": [
       "2.0"
      ]
     },
     "execution_count": 21,
     "metadata": {},
     "output_type": "execute_result"
    }
   ],
   "source": [
    "math.log(7.389)\n",
    "math.log(10, 10)\n",
    "math.log(16, 4)"
   ]
  },
  {
   "cell_type": "markdown",
   "metadata": {},
   "source": [
    "## log1p()\n",
    "描述：返回 1+x (base e) 的自然对数。以对于接近零的 x 精确的方式计算结果。  \n",
    "语法：math.log1p(x)"
   ]
  },
  {
   "cell_type": "code",
   "execution_count": 26,
   "metadata": {
    "ExecuteTime": {
     "end_time": "2020-05-20T03:16:26.153118Z",
     "start_time": "2020-05-20T03:16:26.148147Z"
    }
   },
   "outputs": [
    {
     "data": {
      "text/plain": [
       "1.9999924078065106"
      ]
     },
     "execution_count": 26,
     "metadata": {},
     "output_type": "execute_result"
    },
    {
     "data": {
      "text/plain": [
       "1.9999924078065106"
      ]
     },
     "execution_count": 26,
     "metadata": {},
     "output_type": "execute_result"
    }
   ],
   "source": [
    "math.log1p(6.389)\n",
    "math.log(7.389)"
   ]
  },
  {
   "cell_type": "markdown",
   "metadata": {},
   "source": [
    "## log2() / log10()"
   ]
  },
  {
   "cell_type": "markdown",
   "metadata": {},
   "source": [
    "## pow()\n",
    "描述：返回 （x的y次方） 的值。与内置的 ** 运算符不同， math.pow() 将其参数转换为 float 类型。使用 ** 或内置的 pow() 函数来计算精确的整数幂。  \n",
    "语法：math.pow( x, y )"
   ]
  },
  {
   "cell_type": "code",
   "execution_count": 27,
   "metadata": {
    "ExecuteTime": {
     "end_time": "2020-05-20T03:17:36.868670Z",
     "start_time": "2020-05-20T03:17:36.861699Z"
    }
   },
   "outputs": [
    {
     "data": {
      "text/plain": [
       "4.0"
      ]
     },
     "execution_count": 27,
     "metadata": {},
     "output_type": "execute_result"
    },
    {
     "data": {
      "text/plain": [
       "4"
      ]
     },
     "execution_count": 27,
     "metadata": {},
     "output_type": "execute_result"
    },
    {
     "data": {
      "text/plain": [
       "4"
      ]
     },
     "execution_count": 27,
     "metadata": {},
     "output_type": "execute_result"
    }
   ],
   "source": [
    "math.pow(2, 2)\n",
    "2 ** 2\n",
    "pow(2, 2)"
   ]
  },
  {
   "cell_type": "markdown",
   "metadata": {},
   "source": [
    "## sqrt()\n",
    "描述：返回数字x的平方根。  \n",
    "语法：math.sqrt( x )"
   ]
  },
  {
   "cell_type": "code",
   "execution_count": 28,
   "metadata": {
    "ExecuteTime": {
     "end_time": "2020-05-20T03:17:58.167566Z",
     "start_time": "2020-05-20T03:17:58.164594Z"
    }
   },
   "outputs": [
    {
     "data": {
      "text/plain": [
       "2.0"
      ]
     },
     "execution_count": 28,
     "metadata": {},
     "output_type": "execute_result"
    }
   ],
   "source": [
    "math.sqrt(4)"
   ]
  },
  {
   "cell_type": "markdown",
   "metadata": {},
   "source": [
    "# 三角函数"
   ]
  },
  {
   "cell_type": "markdown",
   "metadata": {},
   "source": [
    "## acos()\n",
    "描述：以弧度为单位返回 x 的反余弦值。  \n",
    "语法：math.acos(x)"
   ]
  },
  {
   "cell_type": "code",
   "execution_count": 49,
   "metadata": {
    "ExecuteTime": {
     "end_time": "2020-05-20T03:32:47.417887Z",
     "start_time": "2020-05-20T03:32:47.404889Z"
    }
   },
   "outputs": [
    {
     "data": {
      "text/plain": [
       "-1.0"
      ]
     },
     "execution_count": 49,
     "metadata": {},
     "output_type": "execute_result"
    },
    {
     "data": {
      "text/plain": [
       "3.141592653589793"
      ]
     },
     "execution_count": 49,
     "metadata": {},
     "output_type": "execute_result"
    },
    {
     "data": {
      "text/plain": [
       "1.0"
      ]
     },
     "execution_count": 49,
     "metadata": {},
     "output_type": "execute_result"
    },
    {
     "data": {
      "text/plain": [
       "0.0"
      ]
     },
     "execution_count": 49,
     "metadata": {},
     "output_type": "execute_result"
    },
    {
     "data": {
      "text/plain": [
       "6.123233995736766e-17"
      ]
     },
     "execution_count": 49,
     "metadata": {},
     "output_type": "execute_result"
    },
    {
     "data": {
      "text/plain": [
       "1.5707963267948966"
      ]
     },
     "execution_count": 49,
     "metadata": {},
     "output_type": "execute_result"
    },
    {
     "data": {
      "text/plain": [
       "1.5707963267948966"
      ]
     },
     "execution_count": 49,
     "metadata": {},
     "output_type": "execute_result"
    }
   ],
   "source": [
    "math.cos(math.pi)\n",
    "math.acos(-1) #pi\n",
    "math.cos(0) \n",
    "math.acos(1) #0\n",
    "math.cos(math.pi/2) # 0\n",
    "math.acos(0) # pi/2\n",
    "math.pi/2"
   ]
  },
  {
   "cell_type": "markdown",
   "metadata": {},
   "source": [
    "## asin()\n",
    "描述：以弧度为单位返回 x 的反正弦值。  \n",
    "语法：math.asin(x)"
   ]
  },
  {
   "cell_type": "markdown",
   "metadata": {},
   "source": [
    "## atan()\n",
    "描述：以弧度为单位返回 x 的反正切值。  \n",
    "语法：math.atan(x)"
   ]
  },
  {
   "cell_type": "markdown",
   "metadata": {},
   "source": [
    "## atan2()\n",
    "描述：以弧度为单位返回 atan(y / x) 。结果是在 -pi 和 pi 之间。从原点到点 (x, y) 的平面矢量使该角度与正X轴成正比。 atan2() 的点的两个输入的符号都是已知的，因此它可以计算角度的正确象限。例如， atan(1) 和 atan2(1, 1) 都是 pi/4 ，但 atan2(-1, -1) 是 -3*pi/4 。  \n",
    "语法：math.atan2(y, x)"
   ]
  },
  {
   "cell_type": "code",
   "execution_count": 48,
   "metadata": {
    "ExecuteTime": {
     "end_time": "2020-05-20T03:31:32.909942Z",
     "start_time": "2020-05-20T03:31:32.901941Z"
    }
   },
   "outputs": [
    {
     "data": {
      "text/plain": [
       "0.7853981633974483"
      ]
     },
     "execution_count": 48,
     "metadata": {},
     "output_type": "execute_result"
    },
    {
     "data": {
      "text/plain": [
       "0.7853981633974483"
      ]
     },
     "execution_count": 48,
     "metadata": {},
     "output_type": "execute_result"
    },
    {
     "data": {
      "text/plain": [
       "-2.356194490192345"
      ]
     },
     "execution_count": 48,
     "metadata": {},
     "output_type": "execute_result"
    },
    {
     "data": {
      "text/plain": [
       "-2.356194490192345"
      ]
     },
     "execution_count": 48,
     "metadata": {},
     "output_type": "execute_result"
    }
   ],
   "source": [
    "math.atan2(1, 1)\n",
    "math.pi/4\n",
    "math.atan2(-1, -1)\n",
    "-3 * math.pi / 4"
   ]
  },
  {
   "cell_type": "markdown",
   "metadata": {},
   "source": [
    "## cos()\n",
    "描述：返回 x 弧度的余弦值。  \n",
    "语法：math.cos(x)"
   ]
  },
  {
   "cell_type": "code",
   "execution_count": 50,
   "metadata": {
    "ExecuteTime": {
     "end_time": "2020-05-20T03:33:51.241020Z",
     "start_time": "2020-05-20T03:33:51.236045Z"
    }
   },
   "outputs": [
    {
     "data": {
      "text/plain": [
       "-1.0"
      ]
     },
     "execution_count": 50,
     "metadata": {},
     "output_type": "execute_result"
    }
   ],
   "source": [
    "math.cos(math.pi)"
   ]
  },
  {
   "cell_type": "markdown",
   "metadata": {},
   "source": [
    "## hypot()\n",
    "描述：返回欧几里德范数， sqrt(x*x + y*y) 。这是从原点到点 (x, y) 的向量长度。  \n",
    "语法：math.hypot(x, y)"
   ]
  },
  {
   "cell_type": "code",
   "execution_count": 52,
   "metadata": {
    "ExecuteTime": {
     "end_time": "2020-05-20T03:34:28.316720Z",
     "start_time": "2020-05-20T03:34:28.310722Z"
    }
   },
   "outputs": [
    {
     "data": {
      "text/plain": [
       "1.4142135623730951"
      ]
     },
     "execution_count": 52,
     "metadata": {},
     "output_type": "execute_result"
    },
    {
     "data": {
      "text/plain": [
       "5.0"
      ]
     },
     "execution_count": 52,
     "metadata": {},
     "output_type": "execute_result"
    }
   ],
   "source": [
    "math.hypot(1, 1)\n",
    "math.hypot(3, 4)"
   ]
  },
  {
   "cell_type": "markdown",
   "metadata": {},
   "source": [
    "## sin()\n",
    "描述：返回 x 弧度的正弦值。  \n",
    "语法：math.sin(x)"
   ]
  },
  {
   "cell_type": "code",
   "execution_count": 53,
   "metadata": {
    "ExecuteTime": {
     "end_time": "2020-05-20T03:34:57.368942Z",
     "start_time": "2020-05-20T03:34:57.364942Z"
    }
   },
   "outputs": [
    {
     "data": {
      "text/plain": [
       "1.0"
      ]
     },
     "execution_count": 53,
     "metadata": {},
     "output_type": "execute_result"
    }
   ],
   "source": [
    "math.sin(math.pi/2)"
   ]
  },
  {
   "cell_type": "markdown",
   "metadata": {},
   "source": [
    "## tan()\n",
    "描述：返回 x 弧度的正切值。  \n",
    "语法：math.tan(x)"
   ]
  },
  {
   "cell_type": "code",
   "execution_count": 54,
   "metadata": {
    "ExecuteTime": {
     "end_time": "2020-05-20T03:35:21.895254Z",
     "start_time": "2020-05-20T03:35:21.891251Z"
    }
   },
   "outputs": [
    {
     "data": {
      "text/plain": [
       "0.9999999999999999"
      ]
     },
     "execution_count": 54,
     "metadata": {},
     "output_type": "execute_result"
    }
   ],
   "source": [
    "math.tan(math.pi/4)"
   ]
  },
  {
   "cell_type": "markdown",
   "metadata": {},
   "source": [
    "# 角度转换"
   ]
  },
  {
   "cell_type": "markdown",
   "metadata": {},
   "source": [
    "## degrees()\n",
    "描述：将角度 x 从弧度转换为度数。  \n",
    "语法：math.degrees(x)"
   ]
  },
  {
   "cell_type": "code",
   "execution_count": 55,
   "metadata": {
    "ExecuteTime": {
     "end_time": "2020-05-20T03:36:26.266619Z",
     "start_time": "2020-05-20T03:36:26.262626Z"
    }
   },
   "outputs": [
    {
     "data": {
      "text/plain": [
       "90.0"
      ]
     },
     "execution_count": 55,
     "metadata": {},
     "output_type": "execute_result"
    }
   ],
   "source": [
    "math.degrees(math.pi/2)"
   ]
  },
  {
   "cell_type": "markdown",
   "metadata": {},
   "source": [
    "## radians()\n",
    "描述：将角度 x 从度数转换为弧度。  \n",
    "语法：math.radians(x)\n"
   ]
  },
  {
   "cell_type": "code",
   "execution_count": 57,
   "metadata": {
    "ExecuteTime": {
     "end_time": "2020-05-20T03:37:39.071902Z",
     "start_time": "2020-05-20T03:37:39.068904Z"
    }
   },
   "outputs": [
    {
     "data": {
      "text/plain": [
       "3.141592653589793"
      ]
     },
     "execution_count": 57,
     "metadata": {},
     "output_type": "execute_result"
    }
   ],
   "source": [
    "math.radians(180)"
   ]
  },
  {
   "cell_type": "markdown",
   "metadata": {},
   "source": [
    "# 双曲函数\n",
    "![](data:image/jpg;base64,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)"
   ]
  },
  {
   "cell_type": "markdown",
   "metadata": {},
   "source": [
    "## acosh()\n",
    "描述：返回 x 的反双曲余弦值。  \n",
    "语法：math.acosh(x)"
   ]
  },
  {
   "cell_type": "markdown",
   "metadata": {},
   "source": [
    "## asinh()\n",
    "描述：返回 x 的反双曲正弦值。  \n",
    "语法：math.asinh(x)"
   ]
  },
  {
   "cell_type": "markdown",
   "metadata": {},
   "source": [
    "## atanh()\n",
    "描述：返回 x 的反双曲正切值。  \n",
    "语法：math.atanh(x)"
   ]
  },
  {
   "cell_type": "markdown",
   "metadata": {},
   "source": [
    "## cosh()\n",
    "描述：返回 x 的双曲余弦值。  \n",
    "语法：math.cosh(x)"
   ]
  },
  {
   "cell_type": "markdown",
   "metadata": {},
   "source": [
    "## sinh()\n",
    "描述：返回 x 的双曲正弦值。  \n",
    "语法：math.sinh(x)\n"
   ]
  },
  {
   "cell_type": "markdown",
   "metadata": {},
   "source": [
    "## tanh()\n",
    "描述：返回 x 的双曲正切值。  \n",
    "语法：math.tanh(x)"
   ]
  },
  {
   "cell_type": "markdown",
   "metadata": {},
   "source": [
    "# 特殊函数"
   ]
  },
  {
   "cell_type": "markdown",
   "metadata": {},
   "source": [
    "## erf()\n",
    "描述：返回 x 处的 error function 。  \n",
    "语法：math.erf(x)"
   ]
  },
  {
   "cell_type": "code",
   "execution_count": 58,
   "metadata": {
    "ExecuteTime": {
     "end_time": "2020-05-20T03:41:56.363431Z",
     "start_time": "2020-05-20T03:41:56.358431Z"
    }
   },
   "outputs": [
    {
     "data": {
      "text/plain": [
       "0.8427007929497149"
      ]
     },
     "execution_count": 58,
     "metadata": {},
     "output_type": "execute_result"
    }
   ],
   "source": [
    "math.erf(1)"
   ]
  },
  {
   "cell_type": "markdown",
   "metadata": {},
   "source": [
    "## erfc()\n",
    "描述：返回 x 处的互补误差函数。 互补错误函数 定义为 1.0 - erf(x)。它用于 x 的大值，从其中减去一个会导致 有效位数损失。  \n",
    "语法：math.erfc(x)"
   ]
  },
  {
   "cell_type": "code",
   "execution_count": 59,
   "metadata": {
    "ExecuteTime": {
     "end_time": "2020-05-20T03:42:57.777740Z",
     "start_time": "2020-05-20T03:42:57.773739Z"
    }
   },
   "outputs": [
    {
     "data": {
      "text/plain": [
       "0.1572992070502851"
      ]
     },
     "execution_count": 59,
     "metadata": {},
     "output_type": "execute_result"
    }
   ],
   "source": [
    "math.erfc(1)"
   ]
  },
  {
   "cell_type": "markdown",
   "metadata": {},
   "source": [
    "## gamma()\n",
    "描述：返回 x 处的 伽马函数 值。 \n",
    "语法：math.gamma(x)"
   ]
  },
  {
   "cell_type": "code",
   "execution_count": 60,
   "metadata": {
    "ExecuteTime": {
     "end_time": "2020-05-20T03:44:35.105580Z",
     "start_time": "2020-05-20T03:44:35.100581Z"
    }
   },
   "outputs": [
    {
     "data": {
      "text/plain": [
       "6.0"
      ]
     },
     "execution_count": 60,
     "metadata": {},
     "output_type": "execute_result"
    }
   ],
   "source": [
    "math.gamma(4)"
   ]
  },
  {
   "cell_type": "markdown",
   "metadata": {},
   "source": [
    "## lgamma()\n",
    "描述：返回Gamma函数在 x 绝对值的自然对数。  \n",
    "语法：math.lgamma(x)"
   ]
  },
  {
   "cell_type": "code",
   "execution_count": 61,
   "metadata": {
    "ExecuteTime": {
     "end_time": "2020-05-20T03:45:01.616967Z",
     "start_time": "2020-05-20T03:45:01.612992Z"
    }
   },
   "outputs": [
    {
     "data": {
      "text/plain": [
       "1.7917594692280554"
      ]
     },
     "execution_count": 61,
     "metadata": {},
     "output_type": "execute_result"
    }
   ],
   "source": [
    "math.lgamma(4)"
   ]
  },
  {
   "cell_type": "markdown",
   "metadata": {},
   "source": [
    "# 常量"
   ]
  },
  {
   "cell_type": "markdown",
   "metadata": {},
   "source": [
    "## pi\n",
    "描述：圆周率。数学常数 π = 3.141592...，精确到可用精度。  \n",
    "语法：math.pi"
   ]
  },
  {
   "cell_type": "markdown",
   "metadata": {},
   "source": [
    "## e\n",
    "描述：数学常数 e = 2.718281...，精确到可用精度。  \n",
    "语法：math. e"
   ]
  },
  {
   "cell_type": "markdown",
   "metadata": {},
   "source": [
    "## tau\n",
    "描述：数学常数 τ = 6.283185...，精确到可用精度。Tau 是一个圆周常数，等于 2π，圆的周长与半径之比  \n",
    "语法：math.tau "
   ]
  },
  {
   "cell_type": "markdown",
   "metadata": {},
   "source": [
    "## inf\n",
    "描述：浮点正无穷大。（对于负无穷大，使用 -math.inf 。）相当于``float('inf')`` 的输出。  \n",
    "语法：math.inf"
   ]
  },
  {
   "cell_type": "markdown",
   "metadata": {},
   "source": [
    "## nan\n",
    "描述：浮点“非数字”（NaN）值。相当于 float('nan') 的输出。  \n",
    "语法：math.nan"
   ]
  },
  {
   "cell_type": "code",
   "execution_count": null,
   "metadata": {},
   "outputs": [],
   "source": []
  }
 ],
 "metadata": {
  "hide_input": false,
  "kernelspec": {
   "display_name": "Python 3.7.5 64-bit ('normal': conda)",
   "language": "python",
   "name": "python37564bitnormalconda4753448cc6a44aac9b24f65bfb6fcefd"
  },
  "language_info": {
   "codemirror_mode": {
    "name": "ipython",
    "version": 3
   },
   "file_extension": ".py",
   "mimetype": "text/x-python",
   "name": "python",
   "nbconvert_exporter": "python",
   "pygments_lexer": "ipython3",
   "version": "3.7.5"
  },
  "nbTranslate": {
   "displayLangs": [
    "*"
   ],
   "hotkey": "alt-t",
   "langInMainMenu": true,
   "sourceLang": "en",
   "targetLang": "fr",
   "useGoogleTranslate": true
  },
  "toc": {
   "base_numbering": 1,
   "nav_menu": {},
   "number_sections": true,
   "sideBar": true,
   "skip_h1_title": false,
   "title_cell": "Table of Contents",
   "title_sidebar": "Contents",
   "toc_cell": false,
   "toc_position": {},
   "toc_section_display": true,
   "toc_window_display": true
  },
  "varInspector": {
   "cols": {
    "lenName": 16,
    "lenType": 16,
    "lenVar": 40
   },
   "kernels_config": {
    "python": {
     "delete_cmd_postfix": "",
     "delete_cmd_prefix": "del ",
     "library": "var_list.py",
     "varRefreshCmd": "print(var_dic_list())"
    },
    "r": {
     "delete_cmd_postfix": ") ",
     "delete_cmd_prefix": "rm(",
     "library": "var_list.r",
     "varRefreshCmd": "cat(var_dic_list()) "
    }
   },
   "types_to_exclude": [
    "module",
    "function",
    "builtin_function_or_method",
    "instance",
    "_Feature"
   ],
   "window_display": false
  }
 },
 "nbformat": 4,
 "nbformat_minor": 2
}

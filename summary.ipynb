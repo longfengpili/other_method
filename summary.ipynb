{
 "cells": [
  {
   "cell_type": "code",
   "execution_count": null,
   "metadata": {
    "ExecuteTime": {
     "start_time": "2019-02-21T00:52:27.910Z"
    }
   },
   "outputs": [],
   "source": [
    "# encoding: UTF-8\n",
    "import threading\n",
    "import time\n",
    "\n",
    "event = threading.Event()\n",
    "\n",
    "\n",
    "def func():\n",
    "    # 等待事件，进入等待阻塞状态\n",
    "    print('%s wait for event...' % threading.currentThread().getName())\n",
    "    print(event.isSet())\n",
    "    event.wait()\n",
    "\n",
    "    # 收到事件后进入运行状态\n",
    "    print('%s recv event.' % threading.currentThread().getName())\n",
    "    \n",
    "    print(event.isSet())\n",
    "\n",
    "\n",
    "t1 = threading.Thread(target=func)\n",
    "t2 = threading.Thread(target=func)\n",
    "t1.start()\n",
    "t2.start()\n",
    "time.sleep(2)\n",
    "\n",
    "# 发送事件通知\n",
    "print('MainThread set event.')\n",
    "event.set()"
   ]
  },
  {
   "cell_type": "code",
   "execution_count": null,
   "metadata": {
    "ExecuteTime": {
     "start_time": "2019-02-21T00:54:02.186Z"
    }
   },
   "outputs": [],
   "source": [
    "import threading  \n",
    "import time  \n",
    "import random  \n",
    "L = []   \n",
    "def read():   \n",
    "    count =2   \n",
    "    while 1:   \n",
    "        count = random.randint(0,1)   \n",
    "        if count:   \n",
    "            L.append('Hello, darling,I love you\\n')   \n",
    "            L.append('You are so sweet~\\n')   \n",
    "        if L:   \n",
    "           evt.set()   \n",
    "           print('new rcvd sent to \\'parse thread\\'\\n')   \n",
    "        time.sleep(2)   \n",
    "    print('never here\\n')   \n",
    "       \n",
    "def parse():   \n",
    "    while 1:   \n",
    "       if evt.isSet():   \n",
    "            evt.clear()          \n",
    "            print(repr(len(L)) +' messages to parse:\\n')   \n",
    "            while L:   \n",
    "                print(L.pop(0))   \n",
    "            print('all msg prased,sleep 2s\\n')   \n",
    "            time.sleep(2)   \n",
    "       else:   \n",
    "            print('no message rcved\\n')   \n",
    "            time.sleep(2)   \n",
    "    print('quit parse\\n')   \n",
    "if __name__ == '__main__':   \n",
    "    evt = threading.Event()   \n",
    "    R = threading .Thread(target = read)   \n",
    "    P = threading .Thread(target = parse)   \n",
    "    R.start()   \n",
    "    P.start()   \n",
    "    time.sleep(2)   \n",
    "    R.join()   \n",
    "    P.join()   \n",
    "    #time.sleep(2)   \n",
    "    print('end')"
   ]
  },
  {
   "cell_type": "code",
   "execution_count": null,
   "metadata": {},
   "outputs": [],
   "source": []
  }
 ],
 "metadata": {
  "hide_input": false,
  "kernelspec": {
   "display_name": "Python 3",
   "language": "python",
   "name": "python3"
  },
  "nbTranslate": {
   "displayLangs": [
    "*"
   ],
   "hotkey": "alt-t",
   "langInMainMenu": true,
   "sourceLang": "en",
   "targetLang": "fr",
   "useGoogleTranslate": true
  },
  "toc": {
   "base_numbering": 1,
   "nav_menu": {},
   "number_sections": true,
   "sideBar": true,
   "skip_h1_title": false,
   "title_cell": "Table of Contents",
   "title_sidebar": "Contents",
   "toc_cell": false,
   "toc_position": {},
   "toc_section_display": true,
   "toc_window_display": false
  },
  "varInspector": {
   "cols": {
    "lenName": 16,
    "lenType": 16,
    "lenVar": 40
   },
   "kernels_config": {
    "python": {
     "delete_cmd_postfix": "",
     "delete_cmd_prefix": "del ",
     "library": "var_list.py",
     "varRefreshCmd": "print(var_dic_list())"
    },
    "r": {
     "delete_cmd_postfix": ") ",
     "delete_cmd_prefix": "rm(",
     "library": "var_list.r",
     "varRefreshCmd": "cat(var_dic_list()) "
    }
   },
   "types_to_exclude": [
    "module",
    "function",
    "builtin_function_or_method",
    "instance",
    "_Feature"
   ],
   "window_display": false
  }
 },
 "nbformat": 4,
 "nbformat_minor": 2
}

{
 "cells": [
  {
   "cell_type": "code",
   "execution_count": null,
   "metadata": {
    "ExecuteTime": {
     "start_time": "2019-01-24T01:21:27.916Z"
    }
   },
   "outputs": [
    {
     "name": "stdout",
     "output_type": "stream",
     "text": [
      "█\r"
     ]
    },
    {
     "name": "stderr",
     "output_type": "stream",
     "text": [
      "Getting uuid of QR code.\n",
      "Downloading QR code.\n",
      "Please scan the QR code to log in.\n"
     ]
    }
   ],
   "source": [
    "# 导入模块\n",
    "from wxpy import *\n",
    "# 初始化机器人，扫码登陆\n",
    "bot = Bot()"
   ]
  },
  {
   "cell_type": "code",
   "execution_count": null,
   "metadata": {
    "ExecuteTime": {
     "start_time": "2019-01-24T01:20:31.625Z"
    }
   },
   "outputs": [],
   "source": [
    "# 搜索名称含有 \"游否\" 的男性深圳好友\n",
    "my_friend = bot.friends().search('花草商人')[0]\n",
    "my_friend"
   ]
  },
  {
   "cell_type": "code",
   "execution_count": 66,
   "metadata": {
    "ExecuteTime": {
     "end_time": "2019-01-24T01:08:29.363258Z",
     "start_time": "2019-01-24T01:08:29.358244Z"
    },
    "scrolled": false
   },
   "outputs": [
    {
     "data": {
      "text/plain": [
       "{'raw': {'Uin': 0,\n",
       "  'UserName': '@63a44ccefa51219f539a7fd37ddb70f9e995005b4a83deec24de9e01dd0045e5',\n",
       "  'NickName': '花草商人',\n",
       "  'HeadImgUrl': '/cgi-bin/mmwebwx-bin/webwxgeticon?seq=689203533&username=@63a44ccefa51219f539a7fd37ddb70f9e995005b4a83deec24de9e01dd0045e5&skey=@crypt_5dff3473_7fad8868f49bcae5d8e486430f141135',\n",
       "  'ContactFlag': 1,\n",
       "  'MemberCount': 0,\n",
       "  'MemberList': [],\n",
       "  'RemarkName': '',\n",
       "  'HideInputBarFlag': 0,\n",
       "  'Sex': 0,\n",
       "  'Signature': '',\n",
       "  'VerifyFlag': 0,\n",
       "  'OwnerUin': 0,\n",
       "  'PYInitial': 'HCSR',\n",
       "  'PYQuanPin': 'huacaoshangren',\n",
       "  'RemarkPYInitial': '',\n",
       "  'RemarkPYQuanPin': '',\n",
       "  'StarFriend': 0,\n",
       "  'AppAccountFlag': 0,\n",
       "  'Statues': 0,\n",
       "  'AttrStatus': 135205,\n",
       "  'Province': '',\n",
       "  'City': '',\n",
       "  'Alias': '',\n",
       "  'SnsFlag': 1,\n",
       "  'UniFriend': 0,\n",
       "  'DisplayName': '',\n",
       "  'ChatRoomId': 0,\n",
       "  'KeyWord': '',\n",
       "  'EncryChatRoomId': '',\n",
       "  'IsOwner': 0},\n",
       " 'bot': <weakproxy at 0x000001DA98B50688 to Bot at 0x000001DA98D8A4E0>}"
      ]
     },
     "execution_count": 66,
     "metadata": {},
     "output_type": "execute_result"
    }
   ],
   "source": [
    "my_friend.__dict__"
   ]
  },
  {
   "cell_type": "code",
   "execution_count": null,
   "metadata": {
    "ExecuteTime": {
     "start_time": "2019-01-24T01:20:34.443Z"
    }
   },
   "outputs": [],
   "source": [
    "import time\n",
    "num = 0\n",
    "for i in range(100):\n",
    "    try:\n",
    "        resp = my_friend.send_msg(f'新春快乐{i}')\n",
    "        num += 1\n",
    "    except Exception as e:\n",
    "        e\n",
    "        time.sleep(5)\n",
    "    \n",
    "    \n",
    "    if num % 20 == 0:\n",
    "        time.sleep(2)\n",
    "        "
   ]
  },
  {
   "cell_type": "code",
   "execution_count": 9,
   "metadata": {
    "ExecuteTime": {
     "end_time": "2019-01-24T00:10:41.250349Z",
     "start_time": "2019-01-24T00:10:41.244366Z"
    }
   },
   "outputs": [
    {
     "data": {
      "text/plain": [
       "<User: 龍鳳霹雳>"
      ]
     },
     "execution_count": 9,
     "metadata": {},
     "output_type": "execute_result"
    }
   ],
   "source": [
    "# 在 Web 微信中把自己加为好友\n",
    "bot.self"
   ]
  },
  {
   "cell_type": "code",
   "execution_count": 68,
   "metadata": {
    "ExecuteTime": {
     "end_time": "2019-01-24T01:08:41.936493Z",
     "start_time": "2019-01-24T01:08:41.931509Z"
    }
   },
   "outputs": [
    {
     "data": {
      "text/plain": [
       "[<Friend: 龍鳳霹雳>]"
      ]
     },
     "execution_count": 68,
     "metadata": {},
     "output_type": "execute_result"
    }
   ],
   "source": [
    "bot.friends()[:1]"
   ]
  },
  {
   "cell_type": "code",
   "execution_count": 69,
   "metadata": {
    "ExecuteTime": {
     "end_time": "2019-01-24T01:08:50.032580Z",
     "start_time": "2019-01-24T01:08:50.027596Z"
    }
   },
   "outputs": [
    {
     "data": {
      "text/plain": [
       "[<Group: 迁安人在北京>]"
      ]
     },
     "execution_count": 69,
     "metadata": {},
     "output_type": "execute_result"
    }
   ],
   "source": [
    "bot.groups()[:1]"
   ]
  },
  {
   "cell_type": "code",
   "execution_count": 70,
   "metadata": {
    "ExecuteTime": {
     "end_time": "2019-01-24T01:08:56.572034Z",
     "start_time": "2019-01-24T01:08:56.565637Z"
    }
   },
   "outputs": [
    {
     "data": {
      "text/plain": [
       "[<MP: 艾瑞咨询>, <MP: 企鹅智库>]"
      ]
     },
     "execution_count": 70,
     "metadata": {},
     "output_type": "execute_result"
    }
   ],
   "source": [
    "bot.mps()[:2]"
   ]
  },
  {
   "cell_type": "code",
   "execution_count": null,
   "metadata": {},
   "outputs": [],
   "source": []
  }
 ],
 "metadata": {
  "hide_input": false,
  "kernelspec": {
   "display_name": "Python 3",
   "language": "python",
   "name": "python3"
  },
  "toc": {
   "base_numbering": 1,
   "nav_menu": {},
   "number_sections": true,
   "sideBar": true,
   "skip_h1_title": false,
   "title_cell": "Table of Contents",
   "title_sidebar": "Contents",
   "toc_cell": false,
   "toc_position": {},
   "toc_section_display": true,
   "toc_window_display": false
  },
  "varInspector": {
   "cols": {
    "lenName": 16,
    "lenType": 16,
    "lenVar": 40
   },
   "kernels_config": {
    "python": {
     "delete_cmd_postfix": "",
     "delete_cmd_prefix": "del ",
     "library": "var_list.py",
     "varRefreshCmd": "print(var_dic_list())"
    },
    "r": {
     "delete_cmd_postfix": ") ",
     "delete_cmd_prefix": "rm(",
     "library": "var_list.r",
     "varRefreshCmd": "cat(var_dic_list()) "
    }
   },
   "types_to_exclude": [
    "module",
    "function",
    "builtin_function_or_method",
    "instance",
    "_Feature"
   ],
   "window_display": false
  }
 },
 "nbformat": 4,
 "nbformat_minor": 2
}

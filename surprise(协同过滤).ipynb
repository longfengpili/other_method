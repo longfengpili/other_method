{
 "cells": [
  {
   "cell_type": "code",
   "execution_count": 2,
   "metadata": {
    "ExecuteTime": {
     "end_time": "2019-05-27T10:55:51.657182Z",
     "start_time": "2019-05-27T10:55:40.949829Z"
    }
   },
   "outputs": [
    {
     "name": "stdout",
     "output_type": "stream",
     "text": [
      "        Fold 1  Fold 2  Fold 3  Mean    \n",
      "TEST_RMSE0.9471  0.9452  0.9487  0.9470  \n",
      "TEST_MAE0.7467  0.7458  0.7491  0.7472  \n",
      "FIT_TIME3.1645  3.2962  3.1127  3.1911  \n",
      "TEST_TIME0.1805  0.1726  0.1915  0.1815  \n"
     ]
    }
   ],
   "source": [
    "#-*- coding:utf-8 -*-\n",
    "# 可以使用上面提到的各种推荐系统算法\n",
    "from surprise import SVD\n",
    "from surprise import Dataset, print_perf\n",
    "from surprise.model_selection import cross_validate\n",
    "\n",
    "# 默认载入movielens数据集\n",
    "data = Dataset.load_builtin('ml-100k')\n",
    "# k折交叉验证(k=3),此方法现已弃用\n",
    "# data.split(n_folds=3)\n",
    "# 试一把SVD矩阵分解\n",
    "algo = SVD()\n",
    "# 在数据集上测试一下效果\n",
    "perf = cross_validate(algo, data, measures=['RMSE', 'MAE'], cv=3)\n",
    "#输出结果\n",
    "print_perf(perf)"
   ]
  },
  {
   "cell_type": "code",
   "execution_count": 4,
   "metadata": {
    "ExecuteTime": {
     "end_time": "2019-05-27T11:14:54.343193Z",
     "start_time": "2019-05-27T11:12:29.995043Z"
    }
   },
   "outputs": [
    {
     "name": "stdout",
     "output_type": "stream",
     "text": [
      "        Fold 1  Fold 2  Fold 3  Mean    \n",
      "TEST_RMSE3.5056  3.5101  3.5038  3.5065  \n",
      "TEST_MAE2.9840  2.9889  2.9849  2.9859  \n",
      "FIT_TIME41.5887 41.9338 41.7247 41.7491 \n",
      "TEST_TIME3.1366  2.8045  3.0419  2.9943  \n"
     ]
    }
   ],
   "source": [
    "from surprise import SVD\n",
    "from surprise import Dataset, print_perf, Reader\n",
    "from surprise.model_selection import cross_validate\n",
    "import os\n",
    "\n",
    "# 指定文件所在路径\n",
    "file_path = os.path.expanduser('e:/data/bx_dump/BX-Book-Ratings_t.csv')\n",
    "# 告诉文本阅读器，文本的格式是怎么样的\n",
    "reader = Reader(line_format='user item rating', sep=';')\n",
    "# 加载数据\n",
    "data = Dataset.load_from_file(file_path, reader=reader)\n",
    "algo = SVD()\n",
    "# 在数据集上测试一下效果\n",
    "perf = cross_validate(algo, data, measures=['RMSE', 'MAE'], cv=3)\n",
    "#输出结果\n",
    "print_perf(perf)"
   ]
  },
  {
   "cell_type": "code",
   "execution_count": null,
   "metadata": {},
   "outputs": [],
   "source": []
  }
 ],
 "metadata": {
  "hide_input": false,
  "kernelspec": {
   "display_name": "Python 3",
   "language": "python",
   "name": "python3"
  },
  "language_info": {
   "codemirror_mode": {
    "name": "ipython",
    "version": 3
   },
   "file_extension": ".py",
   "mimetype": "text/x-python",
   "name": "python",
   "nbconvert_exporter": "python",
   "pygments_lexer": "ipython3",
   "version": "3.6.7"
  },
  "nbTranslate": {
   "displayLangs": [
    "*"
   ],
   "hotkey": "alt-t",
   "langInMainMenu": true,
   "sourceLang": "en",
   "targetLang": "fr",
   "useGoogleTranslate": true
  },
  "toc": {
   "base_numbering": 1,
   "nav_menu": {},
   "number_sections": true,
   "sideBar": true,
   "skip_h1_title": false,
   "title_cell": "Table of Contents",
   "title_sidebar": "Contents",
   "toc_cell": false,
   "toc_position": {},
   "toc_section_display": true,
   "toc_window_display": false
  },
  "varInspector": {
   "cols": {
    "lenName": 16,
    "lenType": 16,
    "lenVar": 40
   },
   "kernels_config": {
    "python": {
     "delete_cmd_postfix": "",
     "delete_cmd_prefix": "del ",
     "library": "var_list.py",
     "varRefreshCmd": "print(var_dic_list())"
    },
    "r": {
     "delete_cmd_postfix": ") ",
     "delete_cmd_prefix": "rm(",
     "library": "var_list.r",
     "varRefreshCmd": "cat(var_dic_list()) "
    }
   },
   "types_to_exclude": [
    "module",
    "function",
    "builtin_function_or_method",
    "instance",
    "_Feature"
   ],
   "window_display": false
  }
 },
 "nbformat": 4,
 "nbformat_minor": 2
}

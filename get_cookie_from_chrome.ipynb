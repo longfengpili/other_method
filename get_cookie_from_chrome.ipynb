{
 "cells": [
  {
   "cell_type": "code",
   "execution_count": 1,
   "metadata": {
    "ExecuteTime": {
     "end_time": "2019-12-22T22:45:12.093737Z",
     "start_time": "2019-12-22T22:45:12.086756Z"
    }
   },
   "outputs": [],
   "source": [
    "import win32crypt\n",
    "import os\n",
    "import sqlite3\n",
    "def get_headers(headers):\n",
    "    username = os.environ.get('USERNAME')[:5]\n",
    "    cookie_file = f'C:/Users/{username}/AppData/Local/Google/Chrome/User Data/Default/Cookies'\n",
    "    conn = sqlite3.connect(cookie_file)\n",
    "    cursor = conn.cursor()\n",
    "    sql = \"SELECT encrypted_value FROM cookies where host_key = 'ai.deepshare.net' and name = 'pc_user_key';\"\n",
    "    cursor.execute(sql)\n",
    "    results = cursor.fetchone()\n",
    "    conn.close()\n",
    "    if not results:\n",
    "        raise ValueError(f'no cookie!{results}')\n",
    "    pc_user_key = win32crypt.CryptUnprotectData(results[0], None, None, None, 0)[1].decode('utf-8')#解密\n",
    "    \n",
    "    headers['Cookie'] = headers['Cookie'].replace('$pc_user_key', pc_user_key)\n",
    "    return headers"
   ]
  },
  {
   "cell_type": "code",
   "execution_count": null,
   "metadata": {},
   "outputs": [],
   "source": []
  }
 ],
 "metadata": {
  "hide_input": false,
  "kernelspec": {
   "display_name": "Python 3",
   "language": "python",
   "name": "python3"
  },
  "language_info": {
   "codemirror_mode": {
    "name": "ipython",
    "version": 3
   },
   "file_extension": ".py",
   "mimetype": "text/x-python",
   "name": "python",
   "nbconvert_exporter": "python",
   "pygments_lexer": "ipython3",
   "version": "3.7.4"
  },
  "nbTranslate": {
   "displayLangs": [
    "*"
   ],
   "hotkey": "alt-t",
   "langInMainMenu": true,
   "sourceLang": "en",
   "targetLang": "fr",
   "useGoogleTranslate": true
  },
  "toc": {
   "base_numbering": 1,
   "nav_menu": {},
   "number_sections": true,
   "sideBar": true,
   "skip_h1_title": false,
   "title_cell": "Table of Contents",
   "title_sidebar": "Contents",
   "toc_cell": false,
   "toc_position": {},
   "toc_section_display": true,
   "toc_window_display": false
  },
  "varInspector": {
   "cols": {
    "lenName": 16,
    "lenType": 16,
    "lenVar": 40
   },
   "kernels_config": {
    "python": {
     "delete_cmd_postfix": "",
     "delete_cmd_prefix": "del ",
     "library": "var_list.py",
     "varRefreshCmd": "print(var_dic_list())"
    },
    "r": {
     "delete_cmd_postfix": ") ",
     "delete_cmd_prefix": "rm(",
     "library": "var_list.r",
     "varRefreshCmd": "cat(var_dic_list()) "
    }
   },
   "types_to_exclude": [
    "module",
    "function",
    "builtin_function_or_method",
    "instance",
    "_Feature"
   ],
   "window_display": false
  }
 },
 "nbformat": 4,
 "nbformat_minor": 2
}

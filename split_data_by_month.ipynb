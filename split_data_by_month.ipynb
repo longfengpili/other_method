{
 "cells": [
  {
   "cell_type": "code",
   "execution_count": 1,
   "metadata": {
    "ExecuteTime": {
     "end_time": "2019-11-11T06:41:15.829349Z",
     "start_time": "2019-11-11T06:41:15.827349Z"
    }
   },
   "outputs": [],
   "source": [
    "from datetime import datetime, timedelta\n",
    "from dateutil.relativedelta import relativedelta"
   ]
  },
  {
   "cell_type": "code",
   "execution_count": 2,
   "metadata": {
    "ExecuteTime": {
     "end_time": "2019-11-11T06:41:15.853349Z",
     "start_time": "2019-11-11T06:41:15.831348Z"
    }
   },
   "outputs": [],
   "source": [
    "def split_date(start_sts, end_sts, include=2):\n",
    "    end_sts_original = end_sts\n",
    "    end_sts += timedelta(days=1)\n",
    "    dates = {}\n",
    "    s_sts = start_sts\n",
    "    s_sts_next_month_first = start_sts.replace(day=1) + relativedelta(months=1)\n",
    "    while s_sts < end_sts:\n",
    "        s_sts_e = s_sts_next_month_first + timedelta(days=include)\n",
    "        s_sts_e = s_sts_e if s_sts_e <= end_sts else end_sts\n",
    "        s_sts_s = s_sts.replace(day=1) + timedelta(days=-include)\n",
    "        s_sts_s = s_sts_s if s_sts_s >= start_sts else start_sts\n",
    "        key_ = s_sts.strftime('%Y-%m')\n",
    "        dates[key_] = [s_sts_s, s_sts_e]\n",
    "        s_sts = s_sts_next_month_first\n",
    "        s_sts_next_month_first += relativedelta(months=1)\n",
    "\n",
    "    if start_sts.day <= include:\n",
    "        month = start_sts.month\n",
    "        year = start_sts.year\n",
    "        if month == 1:\n",
    "            key_ = start_sts.replace(year=year - 1, month=12).strftime('%Y-%m')\n",
    "        else:\n",
    "            key_ = start_sts.replace(month=start_sts.month-1).strftime('%Y-%m')\n",
    "        s_sts_e = start_sts.replace(day=1) + timedelta(days=include)\n",
    "        s_sts_e = s_sts_e if s_sts_e <= end_sts else end_sts\n",
    "        dates[key_] = [start_sts, s_sts_e]\n",
    "    if (end_sts_original + timedelta(days=include)).month > end_sts_original.month:\n",
    "        key_ = (end_sts_original + timedelta(days=include)).strftime('%Y-%m')\n",
    "        s_sts_s = end_sts_original.replace(day=1) + relativedelta(months=1, days=-include)\n",
    "        s_sts_s = s_sts_s if s_sts_s >= start_sts else start_sts\n",
    "        dates[key_] = [s_sts_s, end_sts]\n",
    "\n",
    "    return start_sts, end_sts, dates"
   ]
  },
  {
   "cell_type": "code",
   "execution_count": 3,
   "metadata": {
    "ExecuteTime": {
     "end_time": "2019-11-11T06:41:15.870350Z",
     "start_time": "2019-11-11T06:41:15.854349Z"
    }
   },
   "outputs": [
    {
     "data": {
      "text/plain": [
       "(datetime.datetime(2019, 10, 31, 0, 0), datetime.datetime(2019, 11, 1, 0, 0))"
      ]
     },
     "execution_count": 3,
     "metadata": {},
     "output_type": "execute_result"
    },
    {
     "data": {
      "text/plain": [
       "[('2019-10',\n",
       "  [datetime.datetime(2019, 10, 31, 0, 0),\n",
       "   datetime.datetime(2019, 11, 1, 0, 0)]),\n",
       " ('2019-11',\n",
       "  [datetime.datetime(2019, 10, 31, 0, 0),\n",
       "   datetime.datetime(2019, 11, 1, 0, 0)])]"
      ]
     },
     "execution_count": 3,
     "metadata": {},
     "output_type": "execute_result"
    }
   ],
   "source": [
    "start_sts = datetime.strptime('2019-10-31', '%Y-%m-%d')\n",
    "end_sts = datetime.strptime('2019-10-31', '%Y-%m-%d')\n",
    "start_sts, end_sts, dates = split_date(start_sts, end_sts, include=2)\n",
    "start_sts, end_sts\n",
    "sorted(dates.items(), key=lambda d: d[0])"
   ]
  },
  {
   "cell_type": "code",
   "execution_count": null,
   "metadata": {},
   "outputs": [],
   "source": []
  }
 ],
 "metadata": {
  "hide_input": false,
  "kernelspec": {
   "display_name": "Python 3",
   "language": "python",
   "name": "python3"
  },
  "language_info": {
   "codemirror_mode": {
    "name": "ipython",
    "version": 3
   },
   "file_extension": ".py",
   "mimetype": "text/x-python",
   "name": "python",
   "nbconvert_exporter": "python",
   "pygments_lexer": "ipython3",
   "version": "3.7.5"
  },
  "nbTranslate": {
   "displayLangs": [
    "*"
   ],
   "hotkey": "alt-t",
   "langInMainMenu": true,
   "sourceLang": "en",
   "targetLang": "fr",
   "useGoogleTranslate": true
  },
  "toc": {
   "base_numbering": 1,
   "nav_menu": {},
   "number_sections": true,
   "sideBar": true,
   "skip_h1_title": false,
   "title_cell": "Table of Contents",
   "title_sidebar": "Contents",
   "toc_cell": false,
   "toc_position": {},
   "toc_section_display": true,
   "toc_window_display": true
  },
  "varInspector": {
   "cols": {
    "lenName": 16,
    "lenType": 16,
    "lenVar": 40
   },
   "kernels_config": {
    "python": {
     "delete_cmd_postfix": "",
     "delete_cmd_prefix": "del ",
     "library": "var_list.py",
     "varRefreshCmd": "print(var_dic_list())"
    },
    "r": {
     "delete_cmd_postfix": ") ",
     "delete_cmd_prefix": "rm(",
     "library": "var_list.r",
     "varRefreshCmd": "cat(var_dic_list()) "
    }
   },
   "types_to_exclude": [
    "module",
    "function",
    "builtin_function_or_method",
    "instance",
    "_Feature"
   ],
   "window_display": false
  }
 },
 "nbformat": 4,
 "nbformat_minor": 2
}

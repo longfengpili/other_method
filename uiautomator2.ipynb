{
 "cells": [
  {
   "cell_type": "code",
   "execution_count": null,
   "metadata": {},
   "outputs": [],
   "source": []
  },
  {
   "cell_type": "code",
   "execution_count": 1,
   "metadata": {
    "ExecuteTime": {
     "end_time": "2019-12-19T23:57:19.752603Z",
     "start_time": "2019-12-19T23:57:19.368613Z"
    }
   },
   "outputs": [],
   "source": [
    "import uiautomator2 as u2"
   ]
  },
  {
   "cell_type": "code",
   "execution_count": 2,
   "metadata": {
    "ExecuteTime": {
     "end_time": "2019-12-19T23:57:31.100131Z",
     "start_time": "2019-12-19T23:57:30.614433Z"
    }
   },
   "outputs": [
    {
     "name": "stdout",
     "output_type": "stream",
     "text": [
      "{\"jsonrpc\": \"2.0\", \"id\": 1, \"method\": \"deviceInfo\"}\n",
      "http://127.0.0.1:53928/jsonrpc/0\n"
     ]
    },
    {
     "name": "stderr",
     "output_type": "stream",
     "text": [
      "[I 191220 07:57:30 init:110] uiautomator2 version: 2.3.4\n"
     ]
    }
   ],
   "source": [
    "d = u2.connect_usb('7195eebe')"
   ]
  },
  {
   "cell_type": "code",
   "execution_count": 3,
   "metadata": {
    "ExecuteTime": {
     "end_time": "2019-12-19T23:57:51.105075Z",
     "start_time": "2019-12-19T23:57:45.149805Z"
    }
   },
   "outputs": [
    {
     "name": "stdout",
     "output_type": "stream",
     "text": [
      "b'{\"jsonrpc\": \"2.0\", \"id\": \"c22058d39a74e470140438f25bc504db\", \"method\": \"deviceInfo\", \"params\": {}}'\n",
      "http://127.0.0.1:53928/jsonrpc/0\n"
     ]
    },
    {
     "name": "stderr",
     "output_type": "stream",
     "text": [
      "f:\\ProgramData\\Anaconda3\\envs\\normal\\lib\\site-packages\\uiautomator2\\__init__.py:510: RuntimeWarning: uiautomator2 is not reponding, restart uiautomator2 automatically\n",
      "  stacklevel=1)\n"
     ]
    },
    {
     "name": "stdout",
     "output_type": "stream",
     "text": [
      "{\"jsonrpc\": \"2.0\", \"id\": 1, \"method\": \"deviceInfo\"}\n",
      "http://127.0.0.1:53928/jsonrpc/0\n"
     ]
    },
    {
     "name": "stderr",
     "output_type": "stream",
     "text": [
      "[D 191220 07:57:48 __init__:697] force reset uiautomator\n"
     ]
    },
    {
     "name": "stdout",
     "output_type": "stream",
     "text": [
      "{'command': 'getprop ro.product.brand', 'timeout': '60'}\n",
      "http://127.0.0.1:53928/shell\n"
     ]
    },
    {
     "name": "stderr",
     "output_type": "stream",
     "text": [
      "[D 191220 07:57:48 __init__:730] Product-brand: Xiaomi\n"
     ]
    },
    {
     "name": "stdout",
     "output_type": "stream",
     "text": [
      "None\n",
      "http://127.0.0.1:53928/services/uiautomator\n",
      "{'command': 'pm grant com.github.uiautomator android.permission.READ_PHONE_STATE', 'timeout': '60'}\n",
      "http://127.0.0.1:53928/shell\n",
      "{'command': 'am start -a android.intent.action.MAIN -c android.intent.category.LAUNCHER -n com.github.uiautomator/com.github.uiautomator.MainActivity', 'timeout': '60'}\n",
      "http://127.0.0.1:53928/shell\n"
     ]
    },
    {
     "name": "stderr",
     "output_type": "stream",
     "text": [
      "[D 191220 07:57:48 __init__:750] uiautomator is starting ...\n"
     ]
    },
    {
     "name": "stdout",
     "output_type": "stream",
     "text": [
      "{\"jsonrpc\": \"2.0\", \"id\": 1, \"method\": \"deviceInfo\"}\n",
      "http://127.0.0.1:53928/jsonrpc/0\n"
     ]
    },
    {
     "name": "stderr",
     "output_type": "stream",
     "text": [
      "[D 191220 07:57:49 __init__:750] uiautomator is starting ...\n"
     ]
    },
    {
     "name": "stdout",
     "output_type": "stream",
     "text": [
      "{\"jsonrpc\": \"2.0\", \"id\": 1, \"method\": \"deviceInfo\"}\n",
      "http://127.0.0.1:53928/jsonrpc/0\n"
     ]
    },
    {
     "name": "stderr",
     "output_type": "stream",
     "text": [
      "[D 191220 07:57:50 __init__:750] uiautomator is starting ...\n"
     ]
    },
    {
     "name": "stdout",
     "output_type": "stream",
     "text": [
      "{\"jsonrpc\": \"2.0\", \"id\": 1, \"method\": \"deviceInfo\"}\n",
      "http://127.0.0.1:53928/jsonrpc/0\n",
      "{'command': 'dumpsys window windows', 'timeout': '60'}\n",
      "http://127.0.0.1:53928/shell\n"
     ]
    },
    {
     "name": "stderr",
     "output_type": "stream",
     "text": [
      "[I 191220 07:57:51 __init__:701] uiautomator back to normal\n"
     ]
    },
    {
     "name": "stdout",
     "output_type": "stream",
     "text": [
      "b'{\"jsonrpc\": \"2.0\", \"id\": \"c0c70b90a7aa18a7b4c0e63e837b068f\", \"method\": \"deviceInfo\", \"params\": {}}'\n",
      "http://127.0.0.1:53928/jsonrpc/0\n"
     ]
    },
    {
     "data": {
      "text/plain": [
       "{'currentPackageName': 'com.miui.home',\n",
       " 'displayHeight': 2029,\n",
       " 'displayRotation': 0,\n",
       " 'displaySizeDpX': 393,\n",
       " 'displaySizeDpY': 817,\n",
       " 'displayWidth': 1080,\n",
       " 'productName': 'dipper',\n",
       " 'screenOn': True,\n",
       " 'sdkInt': 28,\n",
       " 'naturalOrientation': True}"
      ]
     },
     "execution_count": 3,
     "metadata": {},
     "output_type": "execute_result"
    }
   ],
   "source": [
    "d.info"
   ]
  },
  {
   "cell_type": "code",
   "execution_count": null,
   "metadata": {},
   "outputs": [],
   "source": []
  }
 ],
 "metadata": {
  "hide_input": false,
  "kernelspec": {
   "display_name": "Python 3",
   "language": "python",
   "name": "python3"
  },
  "language_info": {
   "codemirror_mode": {
    "name": "ipython",
    "version": 3
   },
   "file_extension": ".py",
   "mimetype": "text/x-python",
   "name": "python",
   "nbconvert_exporter": "python",
   "pygments_lexer": "ipython3",
   "version": "3.7.4"
  },
  "nbTranslate": {
   "displayLangs": [
    "*"
   ],
   "hotkey": "alt-t",
   "langInMainMenu": true,
   "sourceLang": "en",
   "targetLang": "fr",
   "useGoogleTranslate": true
  },
  "toc": {
   "base_numbering": 1,
   "nav_menu": {},
   "number_sections": true,
   "sideBar": true,
   "skip_h1_title": false,
   "title_cell": "Table of Contents",
   "title_sidebar": "Contents",
   "toc_cell": false,
   "toc_position": {},
   "toc_section_display": true,
   "toc_window_display": false
  },
  "varInspector": {
   "cols": {
    "lenName": 16,
    "lenType": 16,
    "lenVar": 40
   },
   "kernels_config": {
    "python": {
     "delete_cmd_postfix": "",
     "delete_cmd_prefix": "del ",
     "library": "var_list.py",
     "varRefreshCmd": "print(var_dic_list())"
    },
    "r": {
     "delete_cmd_postfix": ") ",
     "delete_cmd_prefix": "rm(",
     "library": "var_list.r",
     "varRefreshCmd": "cat(var_dic_list()) "
    }
   },
   "types_to_exclude": [
    "module",
    "function",
    "builtin_function_or_method",
    "instance",
    "_Feature"
   ],
   "window_display": false
  }
 },
 "nbformat": 4,
 "nbformat_minor": 2
}

{
 "cells": [
  {
   "cell_type": "markdown",
   "metadata": {},
   "source": [
    "# 环境搭建\n",
    "## 安装adb\n",
    "1. 如命令行可以执行adb devices，则跳过此步骤\n",
    "2. 从谷歌官网下载Android [Platform Tools](https://developer.android.com/studio/releases/platform-tools.html)，解压，并加包含adb.exe的目录加入到系统的PATH中。\n",
    "\n",
    "## 安装python-uiautomator2\n",
    "    pip install --pre -U uiautomator2\n",
    "\n",
    "## 设备安装atx-agent\n",
    "1. 首先设备连接到PC，并能够adb devices发现该设备。\n",
    "2.从github下载atx-agent文件，并推送到手机。在手机上安装包名为`com.github.uiautomator`的apk\n",
    "```python -m uiautomator2 init```  \n",
    "\n",
    "## success  \n",
    "最后提示success，代表atx-agent初始化成功。"
   ]
  },
  {
   "cell_type": "markdown",
   "metadata": {},
   "source": [
    "# U2"
   ]
  },
  {
   "cell_type": "code",
   "execution_count": 1,
   "metadata": {
    "ExecuteTime": {
     "end_time": "2019-12-24T04:46:23.523143Z",
     "start_time": "2019-12-24T04:46:23.184040Z"
    }
   },
   "outputs": [],
   "source": [
    "import uiautomator2 as u2"
   ]
  },
  {
   "cell_type": "code",
   "execution_count": 2,
   "metadata": {
    "ExecuteTime": {
     "end_time": "2019-12-24T04:46:24.037037Z",
     "start_time": "2019-12-24T04:46:23.524065Z"
    }
   },
   "outputs": [
    {
     "name": "stderr",
     "output_type": "stream",
     "text": [
      "[I 191224 12:46:23 init:110] uiautomator2 version: 2.3.4\n"
     ]
    }
   ],
   "source": [
    "d = u2.connect()"
   ]
  },
  {
   "cell_type": "code",
   "execution_count": 3,
   "metadata": {
    "ExecuteTime": {
     "end_time": "2019-12-24T04:46:36.997165Z",
     "start_time": "2019-12-24T04:46:24.038038Z"
    }
   },
   "outputs": [
    {
     "name": "stderr",
     "output_type": "stream",
     "text": [
      "D:\\ProgramData\\Anaconda3\\envs\\normal\\lib\\site-packages\\uiautomator2\\__init__.py:510: RuntimeWarning: uiautomator2 is not reponding, restart uiautomator2 automatically\n",
      "  stacklevel=1)\n",
      "[D 191224 12:46:27 __init__:697] force reset uiautomator\n",
      "[D 191224 12:46:27 __init__:730] Product-brand: Xiaomi\n",
      "[D 191224 12:46:27 __init__:750] uiautomator is starting ...\n",
      "[D 191224 12:46:28 __init__:750] uiautomator is starting ...\n",
      "[D 191224 12:46:29 __init__:750] uiautomator is starting ...\n",
      "[D 191224 12:46:30 __init__:750] uiautomator is starting ...\n",
      "[D 191224 12:46:31 __init__:750] uiautomator is starting ...\n",
      "[D 191224 12:46:32 __init__:750] uiautomator is starting ...\n",
      "[D 191224 12:46:33 __init__:750] uiautomator is starting ...\n",
      "[D 191224 12:46:34 __init__:750] uiautomator is starting ...\n",
      "[D 191224 12:46:35 __init__:750] uiautomator is starting ...\n",
      "[D 191224 12:46:36 __init__:750] uiautomator is starting ...\n",
      "[I 191224 12:46:36 __init__:701] uiautomator back to normal\n"
     ]
    },
    {
     "data": {
      "text/plain": [
       "{'currentPackageName': 'com.qqgame.mic',\n",
       " 'displayHeight': 1080,\n",
       " 'displayRotation': 1,\n",
       " 'displaySizeDpX': 817,\n",
       " 'displaySizeDpY': 393,\n",
       " 'displayWidth': 2159,\n",
       " 'productName': 'dipper',\n",
       " 'screenOn': True,\n",
       " 'sdkInt': 28,\n",
       " 'naturalOrientation': False}"
      ]
     },
     "execution_count": 3,
     "metadata": {},
     "output_type": "execute_result"
    }
   ],
   "source": [
    "d.info"
   ]
  },
  {
   "cell_type": "code",
   "execution_count": 4,
   "metadata": {
    "ExecuteTime": {
     "end_time": "2019-12-24T04:46:37.018172Z",
     "start_time": "2019-12-24T04:46:36.999170Z"
    }
   },
   "outputs": [
    {
     "data": {
      "text/plain": [
       "{'udid': '7195eebe-a4:50:46:ea:6f:78-MI_8',\n",
       " 'version': '9',\n",
       " 'serial': '7195eebe',\n",
       " 'brand': 'Xiaomi',\n",
       " 'model': 'MI 8',\n",
       " 'hwaddr': 'a4:50:46:ea:6f:78',\n",
       " 'port': 7912,\n",
       " 'sdk': 28,\n",
       " 'agentVersion': '0.8.0',\n",
       " 'display': {'width': 1080, 'height': 2248},\n",
       " 'battery': {'acPowered': False,\n",
       "  'usbPowered': False,\n",
       "  'wirelessPowered': False,\n",
       "  'status': 3,\n",
       "  'health': 2,\n",
       "  'present': True,\n",
       "  'level': 76,\n",
       "  'scale': 100,\n",
       "  'voltage': 3948,\n",
       "  'temperature': 350,\n",
       "  'technology': 'Li-poly'},\n",
       " 'memory': {'total': 5767268, 'around': '6 GB'},\n",
       " 'cpu': {'cores': 8, 'hardware': 'Qualcomm Technologies, Inc SDM845'},\n",
       " 'arch': '',\n",
       " 'owner': None,\n",
       " 'presenceChangedAt': '0001-01-01T00:00:00Z',\n",
       " 'usingBeganAt': '0001-01-01T00:00:00Z',\n",
       " 'product': None,\n",
       " 'provider': None}"
      ]
     },
     "execution_count": 4,
     "metadata": {},
     "output_type": "execute_result"
    }
   ],
   "source": [
    "d.device_info"
   ]
  },
  {
   "cell_type": "code",
   "execution_count": 5,
   "metadata": {
    "ExecuteTime": {
     "end_time": "2019-12-24T04:46:37.130164Z",
     "start_time": "2019-12-24T04:46:37.020169Z"
    }
   },
   "outputs": [
    {
     "name": "stderr",
     "output_type": "stream",
     "text": [
      "D:\\ProgramData\\Anaconda3\\envs\\normal\\lib\\site-packages\\ipykernel_launcher.py:1: DeprecationWarning: Call to deprecated method current_app. (You should use app_current instead) -- Deprecated since version 2.0.0.\n",
      "  \"\"\"Entry point for launching an IPython kernel.\n"
     ]
    },
    {
     "data": {
      "text/plain": [
       "{'package': 'com.qqgame.mic', 'activity': 'com.qqgame.mic.YXSMainActivity'}"
      ]
     },
     "execution_count": 5,
     "metadata": {},
     "output_type": "execute_result"
    }
   ],
   "source": [
    "d.current_app()"
   ]
  },
  {
   "cell_type": "code",
   "execution_count": 6,
   "metadata": {
    "ExecuteTime": {
     "end_time": "2019-12-24T04:46:37.389174Z",
     "start_time": "2019-12-24T04:46:37.133166Z"
    }
   },
   "outputs": [
    {
     "data": {
      "text/plain": [
       "['com.tencent.mobileqq',\n",
       " 'com.miui.home',\n",
       " 'com.miui.securitycenter',\n",
       " 'com.miui.wmsvc',\n",
       " 'com.android.phone',\n",
       " 'com.xiaomi.mircs',\n",
       " 'com.miui.notes',\n",
       " 'com.qualcomm.qti.smcinvokepkgmgr',\n",
       " 'com.xiaomi.smarthome',\n",
       " 'com.xiaomi.metoknlp',\n",
       " 'com.google.android.gms',\n",
       " 'com.tencent.soter.soterserver',\n",
       " 'com.android.systemui',\n",
       " 'com.miui.voicetrigger',\n",
       " 'com.android.camera',\n",
       " 'com.qualcomm.qcrilmsgtunnel',\n",
       " 'com.goodix.fingerprint',\n",
       " 'com.miui.cloudservice',\n",
       " 'com.miui.hybrid',\n",
       " 'com.xiaomi.xmsf',\n",
       " 'com.miui.gallery',\n",
       " 'com.miui.daemon',\n",
       " 'com.xiaomi.finddevice',\n",
       " 'com.android.se',\n",
       " 'com.android.settings',\n",
       " 'com.android.mms',\n",
       " 'com.android.soundrecorder',\n",
       " 'com.android.thememanager',\n",
       " 'com.xiaomi.bluetooth',\n",
       " 'com.miui.systemAdSolution',\n",
       " 'com.miui.mishare.connectivity',\n",
       " 'com.miui.analytics',\n",
       " 'android.ext.services',\n",
       " 'com.eg.android.AlipayGphone',\n",
       " 'com.lbe.security.miui',\n",
       " 'com.miui.face',\n",
       " 'com.tencent.mm',\n",
       " 'com.miui.powerkeeper',\n",
       " 'com.android.nfc',\n",
       " 'com.xiaomi.drivemode',\n",
       " 'com.xiaomi.joyose',\n",
       " 'com.qualcomm.qti.telephonyservice',\n",
       " 'com.miui.aod',\n",
       " 'com.xiaomi.tproxy',\n",
       " 'com.android.smspush',\n",
       " 'com.miui.voiceassist',\n",
       " 'com.baidu.input',\n",
       " 'com.android.email',\n",
       " 'com.github.uiautomator',\n",
       " 'com.miui.contentcatcher',\n",
       " 'com.android.providers.calendar',\n",
       " 'com.android.bluetooth',\n",
       " 'com.alibaba.android.rimet',\n",
       " 'com.qqgame.mic',\n",
       " 'com.xiaomi.hm.health',\n",
       " 'com.netease.dhxy',\n",
       " 'com.xiaomi.location.fused',\n",
       " 'com.xiaomi.market']"
      ]
     },
     "execution_count": 6,
     "metadata": {},
     "output_type": "execute_result"
    }
   ],
   "source": [
    "d.app_list_running()"
   ]
  },
  {
   "cell_type": "code",
   "execution_count": 7,
   "metadata": {
    "ExecuteTime": {
     "end_time": "2019-12-24T04:46:37.893162Z",
     "start_time": "2019-12-24T04:46:37.393164Z"
    }
   },
   "outputs": [
    {
     "data": {
      "text/plain": [
       "{'packageName': 'com.tencent.mm',\n",
       " 'mainActivity': 'com.tencent.mm.ui.LauncherUI',\n",
       " 'label': '微信',\n",
       " 'versionName': '7.0.9',\n",
       " 'versionCode': 1560,\n",
       " 'size': 132870309}"
      ]
     },
     "execution_count": 7,
     "metadata": {},
     "output_type": "execute_result"
    }
   ],
   "source": [
    "d.app_info('com.tencent.mm')"
   ]
  },
  {
   "cell_type": "markdown",
   "metadata": {},
   "source": [
    "# Wait until app running"
   ]
  },
  {
   "cell_type": "code",
   "execution_count": 8,
   "metadata": {
    "ExecuteTime": {
     "end_time": "2019-12-24T04:46:58.875316Z",
     "start_time": "2019-12-24T04:46:37.896164Z"
    }
   },
   "outputs": [
    {
     "name": "stdout",
     "output_type": "stream",
     "text": [
      "com.tencent.mm pid is 9515\n"
     ]
    },
    {
     "data": {
      "text/plain": [
       "0"
      ]
     },
     "execution_count": 8,
     "metadata": {},
     "output_type": "execute_result"
    },
    {
     "data": {
      "text/plain": [
       "9515"
      ]
     },
     "execution_count": 8,
     "metadata": {},
     "output_type": "execute_result"
    }
   ],
   "source": [
    "pid = d.app_wait(\"com.tencent.mm\") # 等待应用运行, return pid(int)\n",
    "if not pid:\n",
    "    print(\"com.tencent.mm is not running\")\n",
    "else:\n",
    "    print(\"com.tencent.mm pid is %d\" % pid)\n",
    "\n",
    "d.app_wait(\"com.tencent.mm\", front=True) # 等待应用前台运行\n",
    "d.app_wait(\"com.tencent.mm\", timeout=20.0) # 最长等待时间20s（默认）"
   ]
  },
  {
   "cell_type": "markdown",
   "metadata": {},
   "source": [
    "# shell"
   ]
  },
  {
   "cell_type": "code",
   "execution_count": 9,
   "metadata": {
    "ExecuteTime": {
     "end_time": "2019-12-24T04:46:58.944317Z",
     "start_time": "2019-12-24T04:46:58.878317Z"
    }
   },
   "outputs": [
    {
     "data": {
      "text/plain": [
       "('/\\n', 0)"
      ]
     },
     "execution_count": 9,
     "metadata": {},
     "output_type": "execute_result"
    }
   ],
   "source": [
    "output, exit_code = d.shell(\"pwd\", timeout=60)\n",
    "output, exit_code"
   ]
  },
  {
   "cell_type": "code",
   "execution_count": 10,
   "metadata": {
    "ExecuteTime": {
     "end_time": "2019-12-24T04:46:59.017317Z",
     "start_time": "2019-12-24T04:46:58.947317Z"
    }
   },
   "outputs": [
    {
     "name": "stdout",
     "output_type": "stream",
     "text": [
      "ls: ./verity_key: Permission denied\n",
      "ls: ./ueventd.rc: Permission denied\n",
      "ls: ./init.zygote64_32.rc: Permission denied\n",
      "ls: ./init.zygote32.rc: Permission denied\n",
      "ls: ./init.usb.rc: Permission denied\n",
      "ls: ./init.usb.configfs.rc: Permission denied\n",
      "ls: ./init.recovery.qcom.rc: Permission denied\n",
      "ls: ./init.recovery.hardware.rc: Permission denied\n",
      "ls: ./init.rc: Permission denied\n",
      "ls: ./init.miui.rc: Permission denied\n",
      "ls: ./init.miui.post_boot.sh: Permission denied\n",
      "ls: ./init.miui.nativedebug.rc: Permission denied\n",
      "ls: ./init.miui.google_revenue_share_v2.rc: Permission denied\n",
      "ls: ./init.miui.google_revenue_share.rc: Permission denied\n",
      "ls: ./init.miui.early_boot.sh: Permission denied\n",
      "ls: ./init.miui.cust.rc: Permission denied\n",
      "ls: ./init.mishow.ctl.rc: Permission denied\n",
      "ls: ./init.environ.rc: Permission denied\n",
      "ls: ./init.batteryd.rc: Permission denied\n",
      "ls: ./init: Permission denied\n",
      "total 28\n",
      "dr-xr-xr-x 155 root   root      0 1971-04-08 14:31 acct\n",
      "lrwxrwxrwx   1 root   root     11 1970-01-01 08:00 bin -> /system/bin\n",
      "lrwxrwxrwx   1 root   root     19 1970-01-01 08:00 bt_firmware -> /vendor/bt_firmware\n",
      "lrwxrwxrwx   1 root   root     50 1970-01-01 08:00 bugreports -> /data/user_de/0/com.android.shell/files/bugreports\n",
      "drwxrwx---   7 system cache  4096 2019-12-18 12:32 cache\n",
      "lrwxrwxrwx   1 root   root     13 1970-01-01 08:00 charger -> /sbin/charger\n",
      "drwxr-xr-x   5 root   root      0 1970-01-01 08:00 config\n",
      "drwxr-xr-x   6 root   root   4096 2018-08-15 21:12 cust\n",
      "lrwxrwxrwx   1 root   root     17 1970-01-01 08:00 d -> /sys/kernel/debug\n",
      "drwxrwx--x  42 system system 4096 1971-03-06 22:21 data\n",
      "lrwxrwxrwx   1 root   root     23 1970-01-01 08:00 default.prop -> system/etc/prop.default\n",
      "drwxr-xr-x  16 root   root   5080 1971-04-08 14:31 dev\n",
      "lrwxrwxrwx   1 root   root     11 1970-01-01 08:00 dsp -> /vendor/dsp\n",
      "lrwxrwxrwx   1 root   root     11 1970-01-01 08:00 etc -> /system/etc\n",
      "lrwxrwxrwx   1 root   root     20 1970-01-01 08:00 firmware -> /vendor/firmware_mnt\n",
      "drwxr-xr-x  11 root   system  240 1971-04-08 14:31 mnt\n",
      "drwxr-xr-x   2 root   root      0 1970-01-01 08:00 odm\n",
      "drwxr-xr-x   2 root   root      0 1970-01-01 08:00 oem\n",
      "lrwxrwxrwx   1 root   root     19 1970-01-01 08:00 persist -> /mnt/vendor/persist\n",
      "dr-xr-xr-x 817 root   root      0 1970-01-01 08:00 proc\n",
      "lrwxrwxrwx   1 root   root     15 1970-01-01 08:00 product -> /system/product\n",
      "drwxr-xr-x   3 root   root      0 1970-01-01 08:00 res\n",
      "drwx------   2 root   root      0 2019-10-24 00:09 root\n",
      "drwxr-x---   2 root   root      0 1970-01-01 08:00 sbin\n",
      "lrwxrwxrwx   1 root   root     21 1970-01-01 08:00 sdcard -> /storage/self/primary\n",
      "drwxr-xr-x   4 root   root     80 2019-12-18 12:32 storage\n",
      "dr-xr-xr-x  16 root   root      0 1971-04-08 14:31 sys\n",
      "drwxr-xr-x  18 root   root   4096 2009-01-01 00:00 system\n",
      "drwxr-xr-x  16 root   root   4096 2009-01-01 00:00 vendor\n",
      "\n"
     ]
    },
    {
     "data": {
      "text/plain": [
       "1"
      ]
     },
     "execution_count": 10,
     "metadata": {},
     "output_type": "execute_result"
    }
   ],
   "source": [
    "output, exit_code = d.shell([\"ls\", \"-l\"])\n",
    "print(output)\n",
    "exit_code"
   ]
  },
  {
   "cell_type": "markdown",
   "metadata": {},
   "source": [
    "# Screen "
   ]
  },
  {
   "cell_type": "code",
   "execution_count": 11,
   "metadata": {
    "ExecuteTime": {
     "end_time": "2019-12-24T04:46:59.063316Z",
     "start_time": "2019-12-24T04:46:59.018315Z"
    }
   },
   "outputs": [],
   "source": [
    "d.screen_on()\n",
    "# d.screen_off()"
   ]
  },
  {
   "cell_type": "code",
   "execution_count": 12,
   "metadata": {
    "ExecuteTime": {
     "end_time": "2019-12-24T04:46:59.143319Z",
     "start_time": "2019-12-24T04:46:59.064316Z"
    }
   },
   "outputs": [
    {
     "data": {
      "text/plain": [
       "True"
      ]
     },
     "execution_count": 12,
     "metadata": {},
     "output_type": "execute_result"
    }
   ],
   "source": [
    "d.info.get('screenOn') "
   ]
  },
  {
   "cell_type": "markdown",
   "metadata": {},
   "source": [
    "# click"
   ]
  },
  {
   "cell_type": "code",
   "execution_count": 13,
   "metadata": {
    "ExecuteTime": {
     "end_time": "2019-12-24T04:46:59.355315Z",
     "start_time": "2019-12-24T04:46:59.144314Z"
    }
   },
   "outputs": [],
   "source": [
    "d.click(1, 1)"
   ]
  },
  {
   "cell_type": "markdown",
   "metadata": {},
   "source": [
    "# orientation"
   ]
  },
  {
   "cell_type": "code",
   "execution_count": 14,
   "metadata": {
    "ExecuteTime": {
     "end_time": "2019-12-24T04:46:59.438319Z",
     "start_time": "2019-12-24T04:46:59.356314Z"
    }
   },
   "outputs": [
    {
     "data": {
      "text/plain": [
       "'left'"
      ]
     },
     "execution_count": 14,
     "metadata": {},
     "output_type": "execute_result"
    }
   ],
   "source": [
    "orientation = d.orientation\n",
    "orientation"
   ]
  },
  {
   "cell_type": "markdown",
   "metadata": {},
   "source": [
    "# screenshot"
   ]
  },
  {
   "cell_type": "code",
   "execution_count": 15,
   "metadata": {
    "ExecuteTime": {
     "end_time": "2019-12-24T04:47:01.648322Z",
     "start_time": "2019-12-24T04:46:59.442321Z"
    }
   },
   "outputs": [
    {
     "data": {
      "text/plain": [
       "'home.jpg'"
      ]
     },
     "execution_count": 15,
     "metadata": {},
     "output_type": "execute_result"
    }
   ],
   "source": [
    "d.screenshot(\"home.jpg\")"
   ]
  },
  {
   "cell_type": "code",
   "execution_count": 16,
   "metadata": {
    "ExecuteTime": {
     "end_time": "2019-12-24T04:47:03.127344Z",
     "start_time": "2019-12-24T04:47:01.651320Z"
    },
    "scrolled": true
   },
   "outputs": [],
   "source": [
    "img = d.screenshot()\n",
    "# img"
   ]
  },
  {
   "cell_type": "code",
   "execution_count": 17,
   "metadata": {
    "ExecuteTime": {
     "end_time": "2019-12-24T04:47:04.585344Z",
     "start_time": "2019-12-24T04:47:03.128318Z"
    }
   },
   "outputs": [],
   "source": [
    "import cv2\n",
    "image = d.screenshot(format='opencv')\n",
    "# image\n",
    "# cv2.imwrite('home.jpg', image)"
   ]
  },
  {
   "cell_type": "code",
   "execution_count": 18,
   "metadata": {
    "ExecuteTime": {
     "end_time": "2019-12-24T04:47:05.997339Z",
     "start_time": "2019-12-24T04:47:04.586315Z"
    }
   },
   "outputs": [],
   "source": [
    "imagebin = d.screenshot(format='raw')\n",
    "# imagebin\n",
    "# open(\"some.jpg\", \"wb\").write(imagebin)"
   ]
  },
  {
   "cell_type": "markdown",
   "metadata": {},
   "source": [
    "# Dump UI hierarchy"
   ]
  },
  {
   "cell_type": "code",
   "execution_count": 19,
   "metadata": {
    "ExecuteTime": {
     "end_time": "2019-12-24T04:47:06.123318Z",
     "start_time": "2019-12-24T04:47:06.000326Z"
    }
   },
   "outputs": [],
   "source": [
    "xml = d.dump_hierarchy()\n",
    "# xml"
   ]
  },
  {
   "cell_type": "code",
   "execution_count": 20,
   "metadata": {
    "ExecuteTime": {
     "end_time": "2019-12-24T04:47:06.194317Z",
     "start_time": "2019-12-24T04:47:06.124315Z"
    }
   },
   "outputs": [
    {
     "data": {
      "text/plain": [
       "True"
      ]
     },
     "execution_count": 20,
     "metadata": {},
     "output_type": "execute_result"
    }
   ],
   "source": [
    "d.open_quick_settings()"
   ]
  },
  {
   "cell_type": "markdown",
   "metadata": {},
   "source": [
    "# Selector"
   ]
  },
  {
   "cell_type": "code",
   "execution_count": null,
   "metadata": {},
   "outputs": [],
   "source": []
  }
 ],
 "metadata": {
  "hide_input": false,
  "kernelspec": {
   "display_name": "Python 3",
   "language": "python",
   "name": "python3"
  },
  "language_info": {
   "codemirror_mode": {
    "name": "ipython",
    "version": 3
   },
   "file_extension": ".py",
   "mimetype": "text/x-python",
   "name": "python",
   "nbconvert_exporter": "python",
   "pygments_lexer": "ipython3",
   "version": "3.7.5"
  },
  "nbTranslate": {
   "displayLangs": [
    "*"
   ],
   "hotkey": "alt-t",
   "langInMainMenu": true,
   "sourceLang": "en",
   "targetLang": "fr",
   "useGoogleTranslate": true
  },
  "toc": {
   "base_numbering": 1,
   "nav_menu": {},
   "number_sections": true,
   "sideBar": true,
   "skip_h1_title": false,
   "title_cell": "Table of Contents",
   "title_sidebar": "Contents",
   "toc_cell": false,
   "toc_position": {},
   "toc_section_display": true,
   "toc_window_display": false
  },
  "varInspector": {
   "cols": {
    "lenName": 16,
    "lenType": 16,
    "lenVar": 40
   },
   "kernels_config": {
    "python": {
     "delete_cmd_postfix": "",
     "delete_cmd_prefix": "del ",
     "library": "var_list.py",
     "varRefreshCmd": "print(var_dic_list())"
    },
    "r": {
     "delete_cmd_postfix": ") ",
     "delete_cmd_prefix": "rm(",
     "library": "var_list.r",
     "varRefreshCmd": "cat(var_dic_list()) "
    }
   },
   "types_to_exclude": [
    "module",
    "function",
    "builtin_function_or_method",
    "instance",
    "_Feature"
   ],
   "window_display": false
  }
 },
 "nbformat": 4,
 "nbformat_minor": 2
}

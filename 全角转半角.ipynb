{
 "cells": [
  {
   "cell_type": "code",
   "execution_count": 1,
   "metadata": {
    "ExecuteTime": {
     "end_time": "2019-03-25T00:35:41.259528Z",
     "start_time": "2019-03-25T00:35:41.255073Z"
    }
   },
   "outputs": [],
   "source": [
    "\n",
    "# 全角转半角\n",
    "def str_convert(content):\n",
    "    '''\n",
    "    将内容中的全角字符，包含英文字母、数字键、符号等转换为半角字符\n",
    "    :param content: 要转换的字符串内容\n",
    "    :return: 转换后的半角字符串\n",
    "    '''\n",
    "    new_str = ''\n",
    "    for each_char in content:  # 循环读取每个字符\n",
    "        code_num = ord(each_char)  # 读取字符的ASCII值或Unicode值\n",
    "        if code_num == 12288:  # 全角空格直接转换\n",
    "            code_num = 32\n",
    "        elif (code_num >= 65281 and code_num <= 65374):  # 全角字符（除空格）根据关系转化\n",
    "            code_num -= 65248\n",
    "        new_str += chr(code_num)\n",
    "    return new_str"
   ]
  },
  {
   "cell_type": "code",
   "execution_count": null,
   "metadata": {},
   "outputs": [],
   "source": []
  }
 ],
 "metadata": {
  "hide_input": false,
  "kernelspec": {
   "display_name": "Python 3",
   "language": "python",
   "name": "python3"
  },
  "language_info": {
   "codemirror_mode": {
    "name": "ipython",
    "version": 3
   },
   "file_extension": ".py",
   "mimetype": "text/x-python",
   "name": "python",
   "nbconvert_exporter": "python",
   "pygments_lexer": "ipython3",
   "version": "3.7.0"
  },
  "toc": {
   "base_numbering": 1,
   "nav_menu": {},
   "number_sections": true,
   "sideBar": true,
   "skip_h1_title": false,
   "title_cell": "Table of Contents",
   "title_sidebar": "Contents",
   "toc_cell": false,
   "toc_position": {},
   "toc_section_display": true,
   "toc_window_display": false
  },
  "varInspector": {
   "cols": {
    "lenName": 16,
    "lenType": 16,
    "lenVar": 40
   },
   "kernels_config": {
    "python": {
     "delete_cmd_postfix": "",
     "delete_cmd_prefix": "del ",
     "library": "var_list.py",
     "varRefreshCmd": "print(var_dic_list())"
    },
    "r": {
     "delete_cmd_postfix": ") ",
     "delete_cmd_prefix": "rm(",
     "library": "var_list.r",
     "varRefreshCmd": "cat(var_dic_list()) "
    }
   },
   "types_to_exclude": [
    "module",
    "function",
    "builtin_function_or_method",
    "instance",
    "_Feature"
   ],
   "window_display": false
  }
 },
 "nbformat": 4,
 "nbformat_minor": 2
}

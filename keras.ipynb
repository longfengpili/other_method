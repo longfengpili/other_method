{
 "cells": [
  {
   "cell_type": "markdown",
   "metadata": {},
   "source": [
    "[keras](https://keras.io/zh/getting-started/sequential-model-guide/)"
   ]
  },
  {
   "cell_type": "code",
   "execution_count": 48,
   "metadata": {
    "ExecuteTime": {
     "end_time": "2019-05-22T08:46:22.097842Z",
     "start_time": "2019-05-22T08:46:22.093877Z"
    }
   },
   "outputs": [],
   "source": [
    "import keras\n",
    "from keras import Sequential\n",
    "from keras.layers import Dense,Activation"
   ]
  },
  {
   "cell_type": "markdown",
   "metadata": {},
   "source": [
    "# 对于具有 2 个类的单输入模型（二进制分类）："
   ]
  },
  {
   "cell_type": "code",
   "execution_count": 24,
   "metadata": {
    "ExecuteTime": {
     "end_time": "2019-05-22T08:43:40.469520Z",
     "start_time": "2019-05-22T08:43:39.198919Z"
    }
   },
   "outputs": [
    {
     "name": "stdout",
     "output_type": "stream",
     "text": [
      "Epoch 1/10\n",
      "1000/1000 [==============================] - 0s 363us/step - loss: 0.7345 - acc: 0.4680\n",
      "Epoch 2/10\n",
      "1000/1000 [==============================] - 0s 46us/step - loss: 0.7117 - acc: 0.4910\n",
      "Epoch 3/10\n",
      "1000/1000 [==============================] - 0s 51us/step - loss: 0.7072 - acc: 0.5100\n",
      "Epoch 4/10\n",
      "1000/1000 [==============================] - 0s 68us/step - loss: 0.6971 - acc: 0.5350\n",
      "Epoch 5/10\n",
      "1000/1000 [==============================] - 0s 48us/step - loss: 0.6961 - acc: 0.5400\n",
      "Epoch 6/10\n",
      "1000/1000 [==============================] - 0s 48us/step - loss: 0.6917 - acc: 0.5370\n",
      "Epoch 7/10\n",
      "1000/1000 [==============================] - 0s 46us/step - loss: 0.6868 - acc: 0.5350\n",
      "Epoch 8/10\n",
      "1000/1000 [==============================] - 0s 51us/step - loss: 0.6831 - acc: 0.5670\n",
      "Epoch 9/10\n",
      "1000/1000 [==============================] - 0s 50us/step - loss: 0.6754 - acc: 0.5870\n",
      "Epoch 10/10\n",
      "1000/1000 [==============================] - 0s 74us/step - loss: 0.6759 - acc: 0.5650\n"
     ]
    },
    {
     "data": {
      "text/plain": [
       "<keras.callbacks.History at 0x1dce7d4def0>"
      ]
     },
     "execution_count": 24,
     "metadata": {},
     "output_type": "execute_result"
    },
    {
     "name": "stdout",
     "output_type": "stream",
     "text": [
      "1000/1000 [==============================] - 0s 112us/step\n"
     ]
    },
    {
     "data": {
      "text/plain": [
       "[0.6651065568923951, 0.589]"
      ]
     },
     "execution_count": 24,
     "metadata": {},
     "output_type": "execute_result"
    },
    {
     "data": {
      "text/plain": [
       "array([[0.42366254]], dtype=float32)"
      ]
     },
     "execution_count": 24,
     "metadata": {},
     "output_type": "execute_result"
    }
   ],
   "source": [
    "# 对于具有 2 个类的单输入模型（二进制分类）：\n",
    "\n",
    "model = Sequential()\n",
    "model.add(Dense(32, activation='relu', input_dim=100))\n",
    "model.add(Dense(1, activation='sigmoid'))\n",
    "model.compile(optimizer='rmsprop',\n",
    "              loss='binary_crossentropy',\n",
    "              metrics=['accuracy'])\n",
    "\n",
    "# 生成虚拟数据\n",
    "import numpy as np\n",
    "data = np.random.random((1000, 100))\n",
    "labels = np.random.randint(2, size=(1000, 1))\n",
    "\n",
    "# 训练模型，以 32 个样本为一个 batch 进行迭代\n",
    "model.fit(data, labels, epochs=10, batch_size=32)\n",
    "\n",
    "model.evaluate(data,labels)\n",
    "model.predict(np.random.random(100).reshape(1,-1))"
   ]
  },
  {
   "cell_type": "markdown",
   "metadata": {},
   "source": [
    "# 对于具有 10 个类的单输入模型（多分类分类）："
   ]
  },
  {
   "cell_type": "code",
   "execution_count": 50,
   "metadata": {
    "ExecuteTime": {
     "end_time": "2019-05-22T08:46:58.858250Z",
     "start_time": "2019-05-22T08:46:57.503276Z"
    }
   },
   "outputs": [
    {
     "name": "stdout",
     "output_type": "stream",
     "text": [
      "Epoch 1/10\n",
      "1000/1000 [==============================] - 0s 387us/step - loss: 2.3612 - acc: 0.0900\n",
      "Epoch 2/10\n",
      "1000/1000 [==============================] - 0s 51us/step - loss: 2.3214 - acc: 0.0950\n",
      "Epoch 3/10\n",
      "1000/1000 [==============================] - 0s 50us/step - loss: 2.3050 - acc: 0.1190\n",
      "Epoch 4/10\n",
      "1000/1000 [==============================] - 0s 56us/step - loss: 2.2939 - acc: 0.1260\n",
      "Epoch 5/10\n",
      "1000/1000 [==============================] - 0s 58us/step - loss: 2.2834 - acc: 0.1470\n",
      "Epoch 6/10\n",
      "1000/1000 [==============================] - 0s 49us/step - loss: 2.2754 - acc: 0.1470\n",
      "Epoch 7/10\n",
      "1000/1000 [==============================] - 0s 47us/step - loss: 2.2658 - acc: 0.1650\n",
      "Epoch 8/10\n",
      "1000/1000 [==============================] - 0s 61us/step - loss: 2.2593 - acc: 0.1600\n",
      "Epoch 9/10\n",
      "1000/1000 [==============================] - 0s 73us/step - loss: 2.2511 - acc: 0.1660\n",
      "Epoch 10/10\n",
      "1000/1000 [==============================] - 0s 92us/step - loss: 2.2421 - acc: 0.1700\n"
     ]
    },
    {
     "data": {
      "text/plain": [
       "<keras.callbacks.History at 0x1dce93152b0>"
      ]
     },
     "execution_count": 50,
     "metadata": {},
     "output_type": "execute_result"
    },
    {
     "name": "stdout",
     "output_type": "stream",
     "text": [
      "1000/1000 [==============================] - 0s 111us/step\n"
     ]
    },
    {
     "data": {
      "text/plain": [
       "[2.2250691146850587, 0.185]"
      ]
     },
     "execution_count": 50,
     "metadata": {},
     "output_type": "execute_result"
    },
    {
     "data": {
      "text/plain": [
       "array([[0.09579957, 0.10941853, 0.08775019, 0.06098373, 0.1275015 ,\n",
       "        0.09903692, 0.09286229, 0.13766061, 0.11588873, 0.07309792]],\n",
       "      dtype=float32)"
      ]
     },
     "execution_count": 50,
     "metadata": {},
     "output_type": "execute_result"
    }
   ],
   "source": [
    "# 对于具有 10 个类的单输入模型（多分类分类）：\n",
    "\n",
    "model = Sequential()\n",
    "model.add(Dense(32, activation='relu', input_dim=100))\n",
    "model.add(Dense(10, activation='softmax'))\n",
    "model.compile(optimizer='rmsprop',\n",
    "              loss='categorical_crossentropy',\n",
    "              metrics=['accuracy'])\n",
    "\n",
    "# 生成虚拟数据\n",
    "import numpy as np\n",
    "data = np.random.random((1000, 100))\n",
    "labels = np.random.randint(10, size=(1000, 1))\n",
    "\n",
    "# 将标签转换为分类的 one-hot 编码\n",
    "one_hot_labels = keras.utils.to_categorical(labels, num_classes=10)\n",
    "\n",
    "# 训练模型，以 32 个样本为一个 batch 进行迭代\n",
    "model.fit(data, one_hot_labels, epochs=10, batch_size=32)\n",
    "\n",
    "model.evaluate(data,one_hot_labels)\n",
    "model.predict(np.random.random(100).reshape(1,-1))"
   ]
  },
  {
   "cell_type": "markdown",
   "metadata": {},
   "source": [
    "# 基于多层感知器 (MLP) 的 softmax 多分类："
   ]
  },
  {
   "cell_type": "code",
   "execution_count": 52,
   "metadata": {
    "ExecuteTime": {
     "end_time": "2019-05-22T08:50:38.331152Z",
     "start_time": "2019-05-22T08:50:36.792270Z"
    }
   },
   "outputs": [
    {
     "name": "stdout",
     "output_type": "stream",
     "text": [
      "Epoch 1/20\n",
      "1000/1000 [==============================] - 0s 452us/step - loss: 2.3774 - acc: 0.1090\n",
      "Epoch 2/20\n",
      "1000/1000 [==============================] - 0s 28us/step - loss: 2.3384 - acc: 0.1090\n",
      "Epoch 3/20\n",
      "1000/1000 [==============================] - 0s 39us/step - loss: 2.3467 - acc: 0.0830\n",
      "Epoch 4/20\n",
      "1000/1000 [==============================] - 0s 36us/step - loss: 2.3247 - acc: 0.0980\n",
      "Epoch 5/20\n",
      "1000/1000 [==============================] - 0s 29us/step - loss: 2.3247 - acc: 0.1090\n",
      "Epoch 6/20\n",
      "1000/1000 [==============================] - 0s 30us/step - loss: 2.3162 - acc: 0.1030\n",
      "Epoch 7/20\n",
      "1000/1000 [==============================] - 0s 28us/step - loss: 2.3123 - acc: 0.1100\n",
      "Epoch 8/20\n",
      "1000/1000 [==============================] - 0s 29us/step - loss: 2.3126 - acc: 0.1130\n",
      "Epoch 9/20\n",
      "1000/1000 [==============================] - 0s 41us/step - loss: 2.3055 - acc: 0.1100\n",
      "Epoch 10/20\n",
      "1000/1000 [==============================] - 0s 38us/step - loss: 2.3054 - acc: 0.1290\n",
      "Epoch 11/20\n",
      "1000/1000 [==============================] - 0s 43us/step - loss: 2.3007 - acc: 0.1240\n",
      "Epoch 12/20\n",
      "1000/1000 [==============================] - 0s 43us/step - loss: 2.2997 - acc: 0.1160\n",
      "Epoch 13/20\n",
      "1000/1000 [==============================] - 0s 27us/step - loss: 2.2992 - acc: 0.1150\n",
      "Epoch 14/20\n",
      "1000/1000 [==============================] - 0s 28us/step - loss: 2.2952 - acc: 0.1290\n",
      "Epoch 15/20\n",
      "1000/1000 [==============================] - 0s 27us/step - loss: 2.3053 - acc: 0.1100\n",
      "Epoch 16/20\n",
      "1000/1000 [==============================] - 0s 32us/step - loss: 2.2961 - acc: 0.1160\n",
      "Epoch 17/20\n",
      "1000/1000 [==============================] - 0s 27us/step - loss: 2.2983 - acc: 0.1150\n",
      "Epoch 18/20\n",
      "1000/1000 [==============================] - 0s 29us/step - loss: 2.2974 - acc: 0.1120\n",
      "Epoch 19/20\n",
      "1000/1000 [==============================] - 0s 32us/step - loss: 2.2937 - acc: 0.1180\n",
      "Epoch 20/20\n",
      "1000/1000 [==============================] - 0s 31us/step - loss: 2.2975 - acc: 0.1160\n"
     ]
    },
    {
     "data": {
      "text/plain": [
       "<keras.callbacks.History at 0x1dcebbc49e8>"
      ]
     },
     "execution_count": 52,
     "metadata": {},
     "output_type": "execute_result"
    },
    {
     "name": "stdout",
     "output_type": "stream",
     "text": [
      "\r",
      "100/100 [==============================] - 0s 1ms/step\n"
     ]
    },
    {
     "data": {
      "text/plain": [
       "[2.311929702758789, 0.09000000357627869]"
      ]
     },
     "execution_count": 52,
     "metadata": {},
     "output_type": "execute_result"
    }
   ],
   "source": [
    "import keras\n",
    "from keras.models import Sequential\n",
    "from keras.layers import Dense, Dropout, Activation\n",
    "from keras.optimizers import SGD\n",
    "\n",
    "# 生成虚拟数据\n",
    "import numpy as np\n",
    "x_train = np.random.random((1000, 20))\n",
    "y_train = keras.utils.to_categorical(np.random.randint(10, size=(1000, 1)), num_classes=10)\n",
    "x_test = np.random.random((100, 20))\n",
    "y_test = keras.utils.to_categorical(np.random.randint(10, size=(100, 1)), num_classes=10)\n",
    "\n",
    "model = Sequential()\n",
    "# Dense(64) 是一个具有 64 个隐藏神经元的全连接层。\n",
    "# 在第一层必须指定所期望的输入数据尺寸：\n",
    "# 在这里，是一个 20 维的向量。\n",
    "model.add(Dense(64, activation='relu', input_dim=20))\n",
    "model.add(Dropout(0.5))\n",
    "model.add(Dense(64, activation='relu'))\n",
    "model.add(Dropout(0.5))\n",
    "model.add(Dense(10, activation='softmax'))\n",
    "\n",
    "sgd = SGD(lr=0.01, decay=1e-6, momentum=0.9, nesterov=True)\n",
    "model.compile(loss='categorical_crossentropy',\n",
    "              optimizer=sgd,\n",
    "              metrics=['accuracy'])\n",
    "\n",
    "model.fit(x_train, y_train,\n",
    "          epochs=20,\n",
    "          batch_size=128)\n",
    "score = model.evaluate(x_test, y_test, batch_size=128)\n",
    "score"
   ]
  },
  {
   "cell_type": "code",
   "execution_count": null,
   "metadata": {},
   "outputs": [],
   "source": []
  }
 ],
 "metadata": {
  "hide_input": false,
  "kernelspec": {
   "display_name": "Python 3",
   "language": "python",
   "name": "python3"
  },
  "language_info": {
   "codemirror_mode": {
    "name": "ipython",
    "version": 3
   },
   "file_extension": ".py",
   "mimetype": "text/x-python",
   "name": "python",
   "nbconvert_exporter": "python",
   "pygments_lexer": "ipython3",
   "version": "3.6.7"
  },
  "nbTranslate": {
   "displayLangs": [
    "*"
   ],
   "hotkey": "alt-t",
   "langInMainMenu": true,
   "sourceLang": "en",
   "targetLang": "fr",
   "useGoogleTranslate": true
  },
  "toc": {
   "base_numbering": 1,
   "nav_menu": {},
   "number_sections": true,
   "sideBar": true,
   "skip_h1_title": false,
   "title_cell": "Table of Contents",
   "title_sidebar": "Contents",
   "toc_cell": false,
   "toc_position": {},
   "toc_section_display": true,
   "toc_window_display": false
  },
  "varInspector": {
   "cols": {
    "lenName": 16,
    "lenType": 16,
    "lenVar": 40
   },
   "kernels_config": {
    "python": {
     "delete_cmd_postfix": "",
     "delete_cmd_prefix": "del ",
     "library": "var_list.py",
     "varRefreshCmd": "print(var_dic_list())"
    },
    "r": {
     "delete_cmd_postfix": ") ",
     "delete_cmd_prefix": "rm(",
     "library": "var_list.r",
     "varRefreshCmd": "cat(var_dic_list()) "
    }
   },
   "types_to_exclude": [
    "module",
    "function",
    "builtin_function_or_method",
    "instance",
    "_Feature"
   ],
   "window_display": false
  }
 },
 "nbformat": 4,
 "nbformat_minor": 2
}

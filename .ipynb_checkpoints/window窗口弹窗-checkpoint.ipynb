{
 "cells": [
  {
   "cell_type": "code",
   "execution_count": 27,
   "metadata": {
    "ExecuteTime": {
     "end_time": "2019-01-04T00:14:36.827710Z",
     "start_time": "2019-01-04T00:14:34.971236Z"
    }
   },
   "outputs": [
    {
     "data": {
      "text/plain": [
       "1"
      ]
     },
     "execution_count": 27,
     "metadata": {},
     "output_type": "execute_result"
    }
   ],
   "source": [
    "import win32api\n",
    "resp = win32api.MessageBox(0, \"这是一个测试消息\", \"消息框标题\",0)\n",
    "resp"
   ]
  },
  {
   "cell_type": "code",
   "execution_count": 28,
   "metadata": {
    "ExecuteTime": {
     "end_time": "2019-01-04T00:18:46.176321Z",
     "start_time": "2019-01-04T00:18:46.171360Z"
    }
   },
   "outputs": [],
   "source": [
    "def messagebox(msg,title):\n",
    "    import win32api\n",
    "    resp = win32api.MessageBox(0, msg, title,0)\n",
    "    "
   ]
  },
  {
   "cell_type": "code",
   "execution_count": 1,
   "metadata": {
    "ExecuteTime": {
     "end_time": "2019-01-04T00:26:00.083782Z",
     "start_time": "2019-01-04T00:26:00.043099Z"
    }
   },
   "outputs": [],
   "source": [
    "# -*- encoding:utf-8 -*-\n",
    "##############################\n",
    "#\n",
    "# 程序名：python桌面托盘气泡\n",
    "# 文件名：clsBubble.py\n",
    "# 功能 ：实现桌面托盘气泡提示功能\n",
    "# modify：by adengou 2016.1.4\n",
    "# program:python3.4.4\n",
    "# 适用  ：windowsXP -windows10\n",
    "#\n",
    "##############################\n",
    "import sys\n",
    "import os\n",
    "import struct\n",
    "import time\n",
    "import win32con\n",
    "\n",
    "from win32api import *\n",
    "# Try and use XP features, so we get alpha-blending etc.\n",
    "try:\n",
    "  from winxpgui import *\n",
    "except ImportError:\n",
    "  from win32gui import *\n",
    "\n",
    "\n",
    "class PyNOTIFYICONDATA:\n",
    "  _struct_format = (\n",
    "    \"I\" # DWORD cbSize; 结构大小(字节)\n",
    "    \"I\" # HWND hWnd; 处理消息的窗口的句柄\n",
    "    \"I\" # UINT uID; 唯一的标识符\n",
    "    \"I\" # UINT uFlags;\n",
    "    \"I\" # UINT uCallbackMessage; 处理消息的窗口接收的消息\n",
    "    \"I\" # HICON hIcon; 托盘图标句柄\n",
    "    \"128s\" # TCHAR szTip[128]; 提示文本\n",
    "    \"I\" # DWORD dwState; 托盘图标状态\n",
    "    \"I\" # DWORD dwStateMask; 状态掩码\n",
    "    \"256s\" # TCHAR szInfo[256]; 气泡提示文本\n",
    "    \"I\" # union {\n",
    "        #   UINT  uTimeout; 气球提示消失时间(毫秒)\n",
    "        #   UINT  uVersion; 版本(0 for V4, 3 for V5)\n",
    "        # } DUMMYUNIONNAME;\n",
    "    \"64s\" #    TCHAR szInfoTitle[64]; 气球提示标题\n",
    "    \"I\" # DWORD dwInfoFlags; 气球提示图标\n",
    "  )\n",
    "  _struct = struct.Struct(_struct_format)\n",
    "\n",
    "  hWnd = 0\n",
    "  uID = 0\n",
    "  uFlags = 0\n",
    "  uCallbackMessage = 0\n",
    "  hIcon = 0\n",
    "  szTip = ''\n",
    "  dwState = 0\n",
    "  dwStateMask = 0\n",
    "  szInfo = ''\n",
    "  uTimeoutOrVersion = 0\n",
    "  szInfoTitle = ''\n",
    "  dwInfoFlags = 0\n",
    "\n",
    "  def pack(self):\n",
    "    return self._struct.pack(\n",
    "     self._struct.size,\n",
    "      self.hWnd,\n",
    "      self.uID,\n",
    "      self.uFlags,\n",
    "      self.uCallbackMessage,\n",
    "      self.hIcon,\n",
    "      self.szTip.encode(\"gbk\"),\n",
    "      self.dwState,\n",
    "      self.dwStateMask,\n",
    "      self.szInfo.encode(\"gbk\"),\n",
    "      self.uTimeoutOrVersion,\n",
    "      self.szInfoTitle.encode(\"gbk\"),\n",
    "      self.dwInfoFlags\n",
    "    )\n",
    "\n",
    "  def __setattr__(self, name, value):\n",
    "    # avoid wrong field names\n",
    "    if not hasattr(self, name):\n",
    "      raise (NameError, name)\n",
    "    self.__dict__[name] = value\n",
    "\n",
    "class MainWindow:\n",
    "  def __init__(self):\n",
    "    #初始化变量\n",
    "    self.title =\"\"\n",
    "    self.msg =\"\"\n",
    "    self.duration=5#延时5秒\n",
    "    self.hwnd =None\n",
    "    self.hinst =None\n",
    "    self.regOk = False\n",
    "    #self.creWind()\n",
    "\n",
    "\n",
    "  def creWind(self):\n",
    "     # Register the Window class.\n",
    "    wc = WNDCLASS()\n",
    "    self.hinst = wc.hInstance = GetModuleHandle(None)\n",
    "    wc.lpszClassName = \"PythonTaskbarDemo\" # 字符串只要有值即可，下面3处也一样\n",
    "    wc.lpfnWndProc = { win32con.WM_DESTROY: self.OnDestroy } # could also specify a wndproc.\n",
    "    classAtom = RegisterClass(wc)\n",
    "    # Create the Window.\n",
    "    style = win32con.WS_OVERLAPPED | win32con.WS_SYSMENU\n",
    "    self.hwnd = CreateWindow(classAtom, \"Taskbar Demo\", style,\n",
    "      0, 0, win32con.CW_USEDEFAULT, win32con.CW_USEDEFAULT,\n",
    "      0, 0, self.hinst, None\n",
    "    )\n",
    "    UpdateWindow(self.hwnd)\n",
    "  #\n",
    "  def startBubble(self,title, msg, duration=3):\n",
    "\n",
    "    if(self.hwnd==None):\n",
    "      self.creWind()\n",
    "    self.title =title\n",
    "    self.msg=msg\n",
    "    self.duration=duration\n",
    "\n",
    "    iconPathName = os.path.abspath(os.path.join(sys.prefix, os.getcwd()+\"\\\\pyc.ico\"))\n",
    "    icon_flags = win32con.LR_LOADFROMFILE | win32con.LR_DEFAULTSIZE\n",
    "    try:\n",
    "      hicon = LoadImage(self.hinst, iconPathName, win32con.IMAGE_ICON, 0, 0, icon_flags)\n",
    "    except:\n",
    "      hicon = LoadIcon(0, win32con.IDI_APPLICATION)\n",
    "    flags = NIF_ICON | NIF_MESSAGE | NIF_TIP\n",
    "    nid = (self.hwnd, 0, flags, win32con.WM_USER + 20, hicon, \"Balloon  tooltip demo\")\n",
    "    try:\n",
    "      Shell_NotifyIcon(NIM_ADD, nid)\n",
    "    except:\n",
    "      self.hwnd==None\n",
    "    self.show_balloon(self.title, self.msg)\n",
    "\n",
    "    time.sleep(self.duration)\n",
    "    #ReleaseDC(self.hwnd,wc)\n",
    "    #DeleteDC(wc)\n",
    "#     try:\n",
    "#       DestroyWindow(self.hwnd)\n",
    "#       self.hwnd==None\n",
    "#     except:\n",
    "#       return None\n",
    "\n",
    "\n",
    "  def show_balloon(self, title, msg):\n",
    "    # For this message I can't use the win32gui structure because\n",
    "    # it doesn't declare the new, required fields\n",
    "\n",
    "    nid = PyNOTIFYICONDATA()\n",
    "    nid.hWnd = self.hwnd\n",
    "    nid.uFlags = NIF_INFO\n",
    "\n",
    "    # type of balloon and text are random\n",
    "    #nid.dwInfoFlags = NIIF_INFO\n",
    "    nid.szInfo = msg[:64]\n",
    "    nid.szInfoTitle = title[:256]\n",
    "\n",
    "    # Call the Windows function, not the wrapped one\n",
    "    from ctypes import windll\n",
    "    Shell_NotifyIcon = windll.shell32.Shell_NotifyIconA\n",
    "    Shell_NotifyIcon(NIM_MODIFY, nid.pack())\n",
    "\n",
    "  def OnDestroy(self, hwnd, msg, wparam, lparam):\n",
    "    nid = (self.hwnd, 0)\n",
    "    Shell_NotifyIcon(NIM_DELETE, nid)\n",
    "    PostQuitMessage(0) # Terminate the app.\n",
    "\n",
    "bubble = MainWindow()\n",
    "\n"
   ]
  },
  {
   "cell_type": "code",
   "execution_count": null,
   "metadata": {
    "ExecuteTime": {
     "start_time": "2019-01-04T00:28:19.386Z"
    }
   },
   "outputs": [],
   "source": [
    "msgTitle='t'\n",
    "\n",
    "bubble.startBubble(msgTitle,u\"i'm a balloon\",1000)"
   ]
  },
  {
   "cell_type": "code",
   "execution_count": null,
   "metadata": {},
   "outputs": [],
   "source": []
  },
  {
   "cell_type": "code",
   "execution_count": null,
   "metadata": {},
   "outputs": [],
   "source": []
  }
 ],
 "metadata": {
  "hide_input": false,
  "kernelspec": {
   "display_name": "Python 3",
   "language": "python",
   "name": "python3"
  },
  "language_info": {
   "codemirror_mode": {
    "name": "ipython",
    "version": 3
   },
   "file_extension": ".py",
   "mimetype": "text/x-python",
   "name": "python",
   "nbconvert_exporter": "python",
   "pygments_lexer": "ipython3",
   "version": "3.7.0"
  },
  "toc": {
   "base_numbering": 1,
   "nav_menu": {},
   "number_sections": true,
   "sideBar": true,
   "skip_h1_title": false,
   "title_cell": "Table of Contents",
   "title_sidebar": "Contents",
   "toc_cell": false,
   "toc_position": {},
   "toc_section_display": true,
   "toc_window_display": false
  },
  "varInspector": {
   "cols": {
    "lenName": 16,
    "lenType": 16,
    "lenVar": 40
   },
   "kernels_config": {
    "python": {
     "delete_cmd_postfix": "",
     "delete_cmd_prefix": "del ",
     "library": "var_list.py",
     "varRefreshCmd": "print(var_dic_list())"
    },
    "r": {
     "delete_cmd_postfix": ") ",
     "delete_cmd_prefix": "rm(",
     "library": "var_list.r",
     "varRefreshCmd": "cat(var_dic_list()) "
    }
   },
   "types_to_exclude": [
    "module",
    "function",
    "builtin_function_or_method",
    "instance",
    "_Feature"
   ],
   "window_display": false
  }
 },
 "nbformat": 4,
 "nbformat_minor": 2
}

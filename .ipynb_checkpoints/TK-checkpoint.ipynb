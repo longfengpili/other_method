{
 "cells": [
  {
   "cell_type": "code",
   "execution_count": 54,
   "metadata": {
    "ExecuteTime": {
     "end_time": "2018-12-29T01:26:35.260087Z",
     "start_time": "2018-12-29T01:26:32.166784Z"
    }
   },
   "outputs": [
    {
     "data": {
      "text/plain": [
       "''"
      ]
     },
     "execution_count": 54,
     "metadata": {},
     "output_type": "execute_result"
    },
    {
     "data": {
      "text/plain": [
       "''"
      ]
     },
     "execution_count": 54,
     "metadata": {},
     "output_type": "execute_result"
    }
   ],
   "source": [
    "from tkinter import *\n",
    "\n",
    "win = Tk()\n",
    "win.title(\"dhxy_config\")\n",
    "win.geometry(\"400x400+200+50\")\n",
    "\n",
    "def updata():\n",
    "    message = \"\"\n",
    "    if hobby1.get() ==True:\n",
    "        message += \"money\\n\"\n",
    "    if hobby2.get() == True:\n",
    "        message += \"power\\n\"\n",
    "    if hobby3.get() == True:\n",
    "        message += \"people\\n\"\n",
    "\n",
    "    # 清空text中所有内容\n",
    "    text.delete(0.0, END)\n",
    "    text.insert(INSERT, message)\n",
    "    \n",
    "frame_one = LabelFrame(win,borderwidth=1)\n",
    "frame_one.pack(side='left')\n",
    "frame_more = Frame(win,borderwidth=1)\n",
    "frame_more.pack(side='right')\n",
    "\n",
    "# 要绑定的变量\n",
    "hobby1 = BooleanVar()\n",
    "# 多选框\n",
    "check1 = Checkbutton(frame_one, text=\"money\", variable=hobby1, command=updata)\n",
    "check1.pack()\n",
    "hobby2 = BooleanVar()\n",
    "check2 = Checkbutton(win, text=\"power\", variable=hobby2, command=updata)\n",
    "check2.pack()\n",
    "hobby3 = BooleanVar()\n",
    "check3 = Checkbutton(frame_more, text=\"people\", variable=hobby3, command=updata)\n",
    "check3.pack()\n",
    "\n",
    "\n",
    "text = Text(win, width=50, height=5)\n",
    "text.pack()\n",
    "\n",
    "win.mainloop()"
   ]
  },
  {
   "cell_type": "code",
   "execution_count": null,
   "metadata": {},
   "outputs": [],
   "source": []
  }
 ],
 "metadata": {
  "hide_input": false,
  "kernelspec": {
   "display_name": "Python 3",
   "language": "python",
   "name": "python3"
  },
  "language_info": {
   "codemirror_mode": {
    "name": "ipython",
    "version": 3
   },
   "file_extension": ".py",
   "mimetype": "text/x-python",
   "name": "python",
   "nbconvert_exporter": "python",
   "pygments_lexer": "ipython3",
   "version": "3.7.0"
  },
  "toc": {
   "base_numbering": 1,
   "nav_menu": {},
   "number_sections": true,
   "sideBar": true,
   "skip_h1_title": false,
   "title_cell": "Table of Contents",
   "title_sidebar": "Contents",
   "toc_cell": false,
   "toc_position": {},
   "toc_section_display": true,
   "toc_window_display": false
  },
  "varInspector": {
   "cols": {
    "lenName": 16,
    "lenType": 16,
    "lenVar": 40
   },
   "kernels_config": {
    "python": {
     "delete_cmd_postfix": "",
     "delete_cmd_prefix": "del ",
     "library": "var_list.py",
     "varRefreshCmd": "print(var_dic_list())"
    },
    "r": {
     "delete_cmd_postfix": ") ",
     "delete_cmd_prefix": "rm(",
     "library": "var_list.r",
     "varRefreshCmd": "cat(var_dic_list()) "
    }
   },
   "types_to_exclude": [
    "module",
    "function",
    "builtin_function_or_method",
    "instance",
    "_Feature"
   ],
   "window_display": false
  }
 },
 "nbformat": 4,
 "nbformat_minor": 2
}

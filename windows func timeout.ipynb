{
 "cells": [
  {
   "cell_type": "code",
   "execution_count": 3,
   "metadata": {
    "ExecuteTime": {
     "end_time": "2018-12-28T01:20:40.286307Z",
     "start_time": "2018-12-28T01:20:40.280804Z"
    }
   },
   "outputs": [],
   "source": [
    "from threading import Thread\n",
    "import random,time\n",
    "from datetime import datetime\n",
    "import os\n",
    "\n",
    "import logging\n",
    "from logging import config\n",
    "\n",
    "config.fileConfig('dhxy.conf')\n",
    "adb_log = logging.getLogger('adb')\n",
    "\n",
    "class MyThread(Thread):\n",
    "    def __init__(self, func, *args,**kw):\n",
    "        super().__init__()\n",
    "        self.func = func\n",
    "        self.args = args\n",
    "        self.kw = kw\n",
    "        # self.name = name\n",
    " \n",
    "    def run(self):\n",
    "        self.result = self.func(*self.args,**self.kw)\n",
    " \n",
    "    def get_result(self):\n",
    "        # Thread.join(self) # 等待线程执行完毕\n",
    "        try:\n",
    "            return self.result\n",
    "        except Exception:\n",
    "            return None\n",
    "\n",
    "#     def tread_isalive(self):\n",
    "#         print(Thread.is_alive(self))\n",
    "#         return Thread.is_alive(self)\n",
    "\n",
    "def timeout(seconds):\n",
    "    def decorator(func):\n",
    "        def wapper(*args,**kw):\n",
    "            st = datetime.now()\n",
    "            t = MyThread(func,*args,**kw)\n",
    "            t.start()\n",
    "            t.join(timeout=seconds)\n",
    "\n",
    "            if t.get_result():\n",
    "                et = datetime.now()\n",
    "                adb_log.info(f'第{(et - st).seconds}秒获得图片')\n",
    "                return t.get_result()\n",
    "            else:\n",
    "                os.system('adb start-server')\n",
    "                et = datetime.now()\n",
    "                adb_log.info(f'{(et - st).seconds}秒未获得图片，重启adb')\n",
    "                return './taskpic/temp.png'\n",
    "        return wapper\n",
    "    return decorator"
   ]
  },
  {
   "cell_type": "code",
   "execution_count": null,
   "metadata": {},
   "outputs": [],
   "source": []
  }
 ],
 "metadata": {
  "hide_input": false,
  "kernelspec": {
   "display_name": "Python 3",
   "language": "python",
   "name": "python3"
  },
  "language_info": {
   "codemirror_mode": {
    "name": "ipython",
    "version": 3
   },
   "file_extension": ".py",
   "mimetype": "text/x-python",
   "name": "python",
   "nbconvert_exporter": "python",
   "pygments_lexer": "ipython3",
   "version": "3.7.0"
  },
  "toc": {
   "base_numbering": 1,
   "nav_menu": {},
   "number_sections": true,
   "sideBar": true,
   "skip_h1_title": false,
   "title_cell": "Table of Contents",
   "title_sidebar": "Contents",
   "toc_cell": false,
   "toc_position": {},
   "toc_section_display": true,
   "toc_window_display": false
  },
  "varInspector": {
   "cols": {
    "lenName": 16,
    "lenType": 16,
    "lenVar": 40
   },
   "kernels_config": {
    "python": {
     "delete_cmd_postfix": "",
     "delete_cmd_prefix": "del ",
     "library": "var_list.py",
     "varRefreshCmd": "print(var_dic_list())"
    },
    "r": {
     "delete_cmd_postfix": ") ",
     "delete_cmd_prefix": "rm(",
     "library": "var_list.r",
     "varRefreshCmd": "cat(var_dic_list()) "
    }
   },
   "types_to_exclude": [
    "module",
    "function",
    "builtin_function_or_method",
    "instance",
    "_Feature"
   ],
   "window_display": false
  }
 },
 "nbformat": 4,
 "nbformat_minor": 2
}

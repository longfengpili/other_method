{
 "cells": [
  {
   "cell_type": "code",
   "execution_count": 46,
   "metadata": {
    "ExecuteTime": {
     "end_time": "2019-01-02T01:17:24.254753Z",
     "start_time": "2019-01-02T01:17:08.035241Z"
    }
   },
   "outputs": [
    {
     "data": {
      "text/plain": [
       "''"
      ]
     },
     "execution_count": 46,
     "metadata": {},
     "output_type": "execute_result"
    },
    {
     "data": {
      "text/plain": [
       "''"
      ]
     },
     "execution_count": 46,
     "metadata": {},
     "output_type": "execute_result"
    },
    {
     "name": "stdout",
     "output_type": "stream",
     "text": [
      "[('z_tian', '0')]\n",
      "0\n",
      "[('qiandao', '0')]\n",
      "0\n",
      "[('jiayuan', '0')]\n",
      "0\n",
      "[('bangpai', '0')]\n",
      "0\n",
      "[('shimen', '0')]\n",
      "0\n",
      "[('dalisi', '0')]\n",
      "0\n",
      "[('baotu', '0')]\n",
      "0\n",
      "[('wuhuan', '0')]\n",
      "0\n",
      "[('jingji', '1')]\n",
      "1\n",
      "[('jingji', '1')]\n",
      "[('renwulian', '1')]\n",
      "1\n",
      "[('renwulian', '1')]\n"
     ]
    },
    {
     "name": "stderr",
     "output_type": "stream",
     "text": [
      "Exception in Tkinter callback\n",
      "Traceback (most recent call last):\n",
      "  File \"f:\\ProgramData\\Anaconda3\\envs\\normal\\lib\\tkinter\\__init__.py\", line 1702, in __call__\n",
      "    return self.func(*args)\n",
      "  File \"<ipython-input-46-07db62a45773>\", line 19, in updata\n",
      "    globals()[f'{task[0][0]}_b'].set(True)\n",
      "KeyError: 'renwulian_b'\n"
     ]
    }
   ],
   "source": [
    "from tkinter import *\n",
    "import re\n",
    "\n",
    "root = Tk()\n",
    "root.title(\"dhxy_config\")\n",
    "root.geometry(\"400x400+200+50\")\n",
    "\n",
    "def updata():\n",
    "    with open('../dhxy/taskconfig.py') as f:\n",
    "        data = f.readlines()\n",
    "        \n",
    "        for line in data:\n",
    "            task = re.findall('(.*?) = (\\d)',line)\n",
    "            if task:\n",
    "                print(task)\n",
    "                print(task[0][1])\n",
    "                if int(task[0][1]) == 1:\n",
    "                    print(task)\n",
    "                    globals()[f'{task[0][0]}_b'].set(True)\n",
    "\n",
    "            \n",
    "        \n",
    "    \n",
    "    message = \"\"\n",
    "    if hobby1.get() ==True:\n",
    "        message += \"money\\n\"\n",
    "    if hobby2.get() == True:\n",
    "        message += \"power\\n\"\n",
    "    if hobby3.get() == True:\n",
    "        message += \"people\\n\"\n",
    "\n",
    "    # 清空text中所有内容\n",
    "    text.delete(0.0, END)\n",
    "    text.insert(INSERT, message)\n",
    "    \n",
    "\n",
    "    \n",
    "frame_one = LabelFrame(root,borderwidth=1)\n",
    "frame_one.pack(side='left')\n",
    "frame_more = Frame(root,borderwidth=1)\n",
    "frame_more.pack(side='right')\n",
    "\n",
    "\n",
    "qiandao_b = BooleanVar()\n",
    "qiandao = Checkbutton(frame_one, text=\"签到\", variable=qiandao_b, command=updata)\n",
    "qiandao.pack()\n",
    "jiayuan_b = BooleanVar()\n",
    "jiayuan = Checkbutton(frame_one, text=\"家园\", variable=jiayuan_b, command=updata)\n",
    "jiayuan.pack()\n",
    "bangpai_b = BooleanVar()\n",
    "bangpai = Checkbutton(frame_one, text=\"帮派\", variable=bangpai_b, command=updata)\n",
    "bangpai.pack()\n",
    "shimen_b = BooleanVar()\n",
    "shimen = Checkbutton(frame_one, text=\"师门\", variable=shimen_b, command=updata)\n",
    "shimen.pack()\n",
    "dalisi_b = BooleanVar()\n",
    "dalisi = Checkbutton(frame_one, text=\"大理寺\", variable=dalisi_b, command=updata)\n",
    "dalisi.pack()\n",
    "baotu_b = BooleanVar()\n",
    "baotu = Checkbutton(frame_one, text=\"宝图\", variable=baotu_b, command=updata)\n",
    "baotu.pack()\n",
    "wuhuan_b = BooleanVar()\n",
    "wuhuan = Checkbutton(frame_one, text=\"五环\", variable=wuhuan_b, command=updata)\n",
    "wuhuan.pack()\n",
    "jingji_b = BooleanVar()\n",
    "jinbji = Checkbutton(frame_one, text=\"竞技\", variable=jingji_b, command=updata)\n",
    "jinbji.pack()\n",
    "\n",
    "\n",
    "\n",
    "\n",
    "\n",
    "hobby2 = BooleanVar()\n",
    "check2 = Checkbutton(root, text=\"power\", variable=hobby2, command=updata)\n",
    "check2.pack()\n",
    "hobby3 = BooleanVar()\n",
    "check3 = Checkbutton(frame_more, text=\"people\", variable=hobby3, command=updata)\n",
    "check3.pack()\n",
    "\n",
    "\n",
    "text = Text(root, width=50, height=5)\n",
    "text.pack()\n",
    "\n",
    "load_config = Button(root,text='load config',command=updata)\n",
    "load_config.pack()\n",
    "\n",
    "root.mainloop()"
   ]
  },
  {
   "cell_type": "code",
   "execution_count": 21,
   "metadata": {
    "ExecuteTime": {
     "end_time": "2019-01-02T00:54:06.103214Z",
     "start_time": "2019-01-02T00:53:50.752949Z"
    }
   },
   "outputs": [],
   "source": [
    "from tkinter import *\n",
    "def callCheckbutton():\n",
    "    #改变v的值，即改变Checkbutton的显示值\n",
    "    v.set('check Tkinter')\n",
    "\n",
    "root = Tk()\n",
    "v = StringVar()\n",
    "v.set('check python')\n",
    "#绑定v到Checkbutton的属性textvariable\n",
    "Checkbutton(root,text = 'check python',textvariable = v,command = callCheckbutton).pack()\n",
    "\n",
    "root.mainloop()"
   ]
  },
  {
   "cell_type": "code",
   "execution_count": null,
   "metadata": {},
   "outputs": [],
   "source": []
  }
 ],
 "metadata": {
  "hide_input": false,
  "kernelspec": {
   "display_name": "Python 3",
   "language": "python",
   "name": "python3"
  },
  "language_info": {
   "codemirror_mode": {
    "name": "ipython",
    "version": 3
   },
   "file_extension": ".py",
   "mimetype": "text/x-python",
   "name": "python",
   "nbconvert_exporter": "python",
   "pygments_lexer": "ipython3",
   "version": "3.7.0"
  },
  "toc": {
   "base_numbering": 1,
   "nav_menu": {},
   "number_sections": true,
   "sideBar": true,
   "skip_h1_title": false,
   "title_cell": "Table of Contents",
   "title_sidebar": "Contents",
   "toc_cell": false,
   "toc_position": {},
   "toc_section_display": true,
   "toc_window_display": false
  },
  "varInspector": {
   "cols": {
    "lenName": 16,
    "lenType": 16,
    "lenVar": 40
   },
   "kernels_config": {
    "python": {
     "delete_cmd_postfix": "",
     "delete_cmd_prefix": "del ",
     "library": "var_list.py",
     "varRefreshCmd": "print(var_dic_list())"
    },
    "r": {
     "delete_cmd_postfix": ") ",
     "delete_cmd_prefix": "rm(",
     "library": "var_list.r",
     "varRefreshCmd": "cat(var_dic_list()) "
    }
   },
   "types_to_exclude": [
    "module",
    "function",
    "builtin_function_or_method",
    "instance",
    "_Feature"
   ],
   "window_display": false
  }
 },
 "nbformat": 4,
 "nbformat_minor": 2
}

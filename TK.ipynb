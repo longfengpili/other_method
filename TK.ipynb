{
 "cells": [
  {
   "cell_type": "code",
   "execution_count": 46,
   "metadata": {
    "ExecuteTime": {
     "end_time": "2019-01-02T01:17:24.254753Z",
     "start_time": "2019-01-02T01:17:08.035241Z"
    }
   },
   "outputs": [
    {
     "data": {
      "text/plain": [
       "''"
      ]
     },
     "execution_count": 46,
     "metadata": {},
     "output_type": "execute_result"
    },
    {
     "data": {
      "text/plain": [
       "''"
      ]
     },
     "execution_count": 46,
     "metadata": {},
     "output_type": "execute_result"
    },
    {
     "name": "stdout",
     "output_type": "stream",
     "text": [
      "[('z_tian', '0')]\n",
      "0\n",
      "[('qiandao', '0')]\n",
      "0\n",
      "[('jiayuan', '0')]\n",
      "0\n",
      "[('bangpai', '0')]\n",
      "0\n",
      "[('shimen', '0')]\n",
      "0\n",
      "[('dalisi', '0')]\n",
      "0\n",
      "[('baotu', '0')]\n",
      "0\n",
      "[('wuhuan', '0')]\n",
      "0\n",
      "[('jingji', '1')]\n",
      "1\n",
      "[('jingji', '1')]\n",
      "[('renwulian', '1')]\n",
      "1\n",
      "[('renwulian', '1')]\n"
     ]
    },
    {
     "name": "stderr",
     "output_type": "stream",
     "text": [
      "Exception in Tkinter callback\n",
      "Traceback (most recent call last):\n",
      "  File \"f:\\ProgramData\\Anaconda3\\envs\\normal\\lib\\tkinter\\__init__.py\", line 1702, in __call__\n",
      "    return self.func(*args)\n",
      "  File \"<ipython-input-46-07db62a45773>\", line 19, in updata\n",
      "    globals()[f'{task[0][0]}_b'].set(True)\n",
      "KeyError: 'renwulian_b'\n"
     ]
    }
   ],
   "source": [
    "from tkinter import *\n",
    "import re\n",
    "\n",
    "root = Tk()\n",
    "root.title(\"dhxy_config\")\n",
    "root.geometry(\"400x400+200+50\")\n",
    "\n",
    "def updata():\n",
    "    with open('../dhxy/taskconfig.py') as f:\n",
    "        data = f.readlines()\n",
    "        \n",
    "        for line in data:\n",
    "            task = re.findall('(.*?) = (\\d)',line)\n",
    "            if task:\n",
    "                print(task)\n",
    "                print(task[0][1])\n",
    "                if int(task[0][1]) == 1:\n",
    "                    print(task)\n",
    "                    globals()[f'{task[0][0]}_b'].set(True)\n",
    "\n",
    "            \n",
    "        \n",
    "    \n",
    "    message = \"\"\n",
    "    if hobby1.get() ==True:\n",
    "        message += \"money\\n\"\n",
    "    if hobby2.get() == True:\n",
    "        message += \"power\\n\"\n",
    "    if hobby3.get() == True:\n",
    "        message += \"people\\n\"\n",
    "\n",
    "    # 清空text中所有内容\n",
    "    text.delete(0.0, END)\n",
    "    text.insert(INSERT, message)\n",
    "    \n",
    "\n",
    "    \n",
    "frame_one = LabelFrame(root,borderwidth=1)\n",
    "frame_one.pack(side='left')\n",
    "frame_more = Frame(root,borderwidth=1)\n",
    "frame_more.pack(side='right')\n",
    "\n",
    "\n",
    "qiandao_b = BooleanVar()\n",
    "qiandao = Checkbutton(frame_one, text=\"签到\", variable=qiandao_b, command=updata)\n",
    "qiandao.pack()\n",
    "jiayuan_b = BooleanVar()\n",
    "jiayuan = Checkbutton(frame_one, text=\"家园\", variable=jiayuan_b, command=updata)\n",
    "jiayuan.pack()\n",
    "bangpai_b = BooleanVar()\n",
    "bangpai = Checkbutton(frame_one, text=\"帮派\", variable=bangpai_b, command=updata)\n",
    "bangpai.pack()\n",
    "shimen_b = BooleanVar()\n",
    "shimen = Checkbutton(frame_one, text=\"师门\", variable=shimen_b, command=updata)\n",
    "shimen.pack()\n",
    "dalisi_b = BooleanVar()\n",
    "dalisi = Checkbutton(frame_one, text=\"大理寺\", variable=dalisi_b, command=updata)\n",
    "dalisi.pack()\n",
    "baotu_b = BooleanVar()\n",
    "baotu = Checkbutton(frame_one, text=\"宝图\", variable=baotu_b, command=updata)\n",
    "baotu.pack()\n",
    "wuhuan_b = BooleanVar()\n",
    "wuhuan = Checkbutton(frame_one, text=\"五环\", variable=wuhuan_b, command=updata)\n",
    "wuhuan.pack()\n",
    "jingji_b = BooleanVar()\n",
    "jinbji = Checkbutton(frame_one, text=\"竞技\", variable=jingji_b, command=updata)\n",
    "jinbji.pack()\n",
    "\n",
    "\n",
    "\n",
    "\n",
    "\n",
    "hobby2 = BooleanVar()\n",
    "check2 = Checkbutton(root, text=\"power\", variable=hobby2, command=updata)\n",
    "check2.pack()\n",
    "hobby3 = BooleanVar()\n",
    "check3 = Checkbutton(frame_more, text=\"people\", variable=hobby3, command=updata)\n",
    "check3.pack()\n",
    "\n",
    "\n",
    "text = Text(root, width=50, height=5)\n",
    "text.pack()\n",
    "\n",
    "load_config = Button(root,text='load config',command=updata)\n",
    "load_config.pack()\n",
    "\n",
    "root.mainloop()"
   ]
  },
  {
   "cell_type": "code",
   "execution_count": 21,
   "metadata": {
    "ExecuteTime": {
     "end_time": "2019-01-02T00:54:06.103214Z",
     "start_time": "2019-01-02T00:53:50.752949Z"
    }
   },
   "outputs": [],
   "source": [
    "from tkinter import *\n",
    "def callCheckbutton():\n",
    "    #改变v的值，即改变Checkbutton的显示值\n",
    "    v.set('check Tkinter')\n",
    "\n",
    "root = Tk()\n",
    "v = StringVar()\n",
    "v.set('check python')\n",
    "#绑定v到Checkbutton的属性textvariable\n",
    "Checkbutton(root,text = 'check python',textvariable = v,command = callCheckbutton).pack()\n",
    "\n",
    "root.mainloop()"
   ]
  },
  {
   "cell_type": "code",
   "execution_count": 1,
   "metadata": {
    "ExecuteTime": {
     "end_time": "2019-01-02T23:36:03.016387Z",
     "start_time": "2019-01-02T23:34:39.510067Z"
    }
   },
   "outputs": [
    {
     "name": "stdout",
     "output_type": "stream",
     "text": [
      "ialeozlkak\n",
      "srgsmdfrnw\n",
      "aipmrmlynt\n",
      "geothvywmn\n",
      "qswxxbqgds\n",
      "opkotynkfo\n"
     ]
    }
   ],
   "source": [
    "import tkinter\n",
    "from tkinter import ttk\n",
    "import random\n",
    "\n",
    "\n",
    "def main():\n",
    "    root = tkinter.Tk()\n",
    "\n",
    "    frame1 = ttk.Frame(root, padding=10)\n",
    "    frame1.grid()\n",
    "\n",
    "    print_stuff_button = ttk.Button(frame1, text='Print stuff')\n",
    "    print_stuff_button['command'] = (lambda:\n",
    "                                     do_stuff())\n",
    "    print_stuff_button.grid()\n",
    "\n",
    "    root.mainloop()\n",
    "\n",
    "\n",
    "def do_stuff():\n",
    "    \"\"\"\n",
    "    Print onto the Console a random 10-letter string.\n",
    "    \n",
    "    In this example, it is used as the function that is \"CALLED BACK\"\n",
    "    when an event (namely, the pressing of a certain Button) occurs.\n",
    "    \"\"\"\n",
    "    letters = ('a', 'b', 'c', 'd', 'e', 'f', 'g', 'h', 'i', 'j', 'k',\n",
    "               'l', 'm', 'n', 'o', 'p', 'q', 'r', 's', 't', 'u', 'v',\n",
    "               'w', 'x', 'y', 'z')\n",
    "    random_word = ''\n",
    "    for _ in range(10):\n",
    "        letter = letters[random.randrange(26)]\n",
    "        random_word = random_word + letter\n",
    "\n",
    "    print(random_word)\n",
    "    \n",
    "main()"
   ]
  },
  {
   "cell_type": "code",
   "execution_count": 2,
   "metadata": {
    "ExecuteTime": {
     "end_time": "2019-01-02T23:37:48.612843Z",
     "start_time": "2019-01-02T23:37:02.800871Z"
    }
   },
   "outputs": [
    {
     "name": "stdout",
     "output_type": "stream",
     "text": [
      "Forward button\n",
      "Left button\n",
      "Stop button\n",
      "Right button\n",
      "Up button\n",
      "Down button\n",
      "Quit button\n"
     ]
    }
   ],
   "source": [
    "import tkinter\n",
    "from tkinter import ttk\n",
    "\n",
    "\n",
    "def main():\n",
    "    \"\"\" Constructs a GUI that will be used MUCH later to control EV3. \"\"\"\n",
    "    # ------------------------------------------------------------------\n",
    "    # TODO: 2. Follow along with the video to make a remote control GUI\n",
    "    # For every grid() method call you will add a row and a column argument\n",
    "    # ------------------------------------------------------------------\n",
    "\n",
    "    root = tkinter.Tk()\n",
    "    root.title(\"MQTT Remote\")\n",
    "\n",
    "    main_frame = ttk.Frame(root, padding=20)\n",
    "    main_frame.grid()  # only grid call that does NOT need a row and column\n",
    "\n",
    "    left_speed_label = ttk.Label(main_frame, text=\"Left\")\n",
    "    left_speed_label.grid()\n",
    "    left_speed_entry = ttk.Entry(main_frame, width=8)\n",
    "    left_speed_entry.insert(0, \"600\")\n",
    "    left_speed_entry.grid()\n",
    "\n",
    "    right_speed_label = ttk.Label(main_frame, text=\"Right\")\n",
    "    right_speed_label.grid()\n",
    "    right_speed_entry = ttk.Entry(main_frame, width=8, justify=tkinter.RIGHT)\n",
    "    right_speed_entry.insert(0, \"600\")\n",
    "    right_speed_entry.grid()\n",
    "\n",
    "    forward_button = ttk.Button(main_frame, text=\"Forward\")\n",
    "    forward_button.grid()\n",
    "    forward_button['command'] = lambda: print(\"Forward button\")\n",
    "    root.bind('<Up>', lambda event: print(\"Forward key\"))\n",
    "\n",
    "    left_button = ttk.Button(main_frame, text=\"Left\")\n",
    "    left_button.grid()\n",
    "    left_button['command'] = lambda: print(\"Left button\")\n",
    "    root.bind('<Left>', lambda event: print(\"Left key\"))\n",
    "\n",
    "    stop_button = ttk.Button(main_frame, text=\"Stop\")\n",
    "    stop_button.grid()\n",
    "    stop_button['command'] = lambda: print(\"Stop button\")\n",
    "    root.bind('<space>', lambda event: print(\"Stop key\"))\n",
    "\n",
    "    right_button = ttk.Button(main_frame, text=\"Right\")\n",
    "    right_button.grid()\n",
    "    right_button['command'] = lambda: print(\"Right button\")\n",
    "    root.bind('<Right>', lambda event: print(\"Right key\"))\n",
    "\n",
    "    back_button = ttk.Button(main_frame, text=\"Back\")\n",
    "    back_button.grid()\n",
    "    back_button['command'] = lambda: print(\"Back button\")\n",
    "    root.bind('<Down>', lambda event: print(\"Back key\"))\n",
    "\n",
    "    up_button = ttk.Button(main_frame, text=\"Up\")\n",
    "    up_button.grid()\n",
    "    up_button['command'] = lambda: print(\"Up button\")\n",
    "    root.bind('<u>', lambda event: print(\"Up key\"))\n",
    "\n",
    "    down_button = ttk.Button(main_frame, text=\"Down\")\n",
    "    down_button.grid()\n",
    "    down_button['command'] = lambda: print(\"Down button\")\n",
    "    root.bind('<j>', lambda event: print(\"Down key\"))\n",
    "\n",
    "    # Buttons for quit and exit\n",
    "    q_button = ttk.Button(main_frame, text=\"Quit\")\n",
    "    q_button.grid()\n",
    "    q_button['command'] = lambda: print(\"Quit button\")\n",
    "\n",
    "    e_button = ttk.Button(main_frame, text=\"Exit\")\n",
    "    e_button.grid()\n",
    "    e_button['command'] = lambda: exit()\n",
    "\n",
    "    root.mainloop()\n",
    "\n",
    "\n",
    "# ----------------------------------------------------------------------\n",
    "# Calls  main  to start the ball rolling.\n",
    "# ----------------------------------------------------------------------\n",
    "main()"
   ]
  },
  {
   "cell_type": "code",
   "execution_count": 2,
   "metadata": {
    "ExecuteTime": {
     "end_time": "2019-01-02T23:40:17.481239Z",
     "start_time": "2019-01-02T23:39:40.511094Z"
    }
   },
   "outputs": [],
   "source": [
    "import tkinter\n",
    "from tkinter import ttk\n",
    "\n",
    "\n",
    "class WindowsAndNumber(object):\n",
    "    def __init__(self):\n",
    "        self.number = None\n",
    "        self.label = None\n",
    "        self.windows = []\n",
    "\n",
    "\n",
    "def main():\n",
    "    \"\"\" Constructs and runs the GUI \"\"\"\n",
    "    root = tkinter.Tk()\n",
    "    windows_and_number = WindowsAndNumber()\n",
    "\n",
    "    gui(root, windows_and_number)\n",
    "\n",
    "    root.mainloop()\n",
    "\n",
    "\n",
    "def gui(root, windows_and_number):\n",
    "    \"\"\" Puts widgets on the GUI \"\"\"\n",
    "    put_stuff_on_main_window(root, windows_and_number)\n",
    "    put_stuff_on_window2(windows_and_number)\n",
    "    put_stuff_on_window3(windows_and_number)\n",
    "\n",
    "\n",
    "def put_stuff_on_main_window(root, windows):\n",
    "    \"\"\" Puts Buttons on the main window. \"\"\"\n",
    "    window1_frame = ttk.Frame(root, padding=20)\n",
    "    window1_frame.grid()\n",
    "\n",
    "    increase_button = ttk.Button(window1_frame,\n",
    "                                 text='Increase the number')\n",
    "    increase_button.grid()\n",
    "    increase_button['command'] = lambda: change_number(windows, 1)\n",
    "\n",
    "    destroy_button = ttk.Button(window1_frame,\n",
    "                                text='Destroy some windows')\n",
    "    destroy_button.grid()\n",
    "    destroy_button['command'] = lambda: destroy_windows(windows)\n",
    "\n",
    "\n",
    "def put_stuff_on_window2(windows_and_number):\n",
    "    \"\"\" Puts Buttons on a secondary window. \"\"\"\n",
    "    root2 = tkinter.Toplevel()  # Note Toplevel, NOT Tk.\n",
    "\n",
    "    window2_frame = ttk.Frame(root2, padding=20)\n",
    "    window2_frame.grid()\n",
    "\n",
    "    decrease_button = ttk.Button(window2_frame,\n",
    "                                 text='Decrease the number')\n",
    "    decrease_button.grid()\n",
    "    decrease_button['command'] = lambda: change_number(windows_and_number, -1)\n",
    "\n",
    "    button_text = 'Pop up a new window with the number'\n",
    "    pop_up_button = ttk.Button(window2_frame, text=button_text)\n",
    "    pop_up_button.grid()\n",
    "    pop_up_button['command'] = lambda: pop_up(windows_and_number)\n",
    "\n",
    "\n",
    "def put_stuff_on_window3(windows_and_number):\n",
    "    \"\"\" Puts a Label on a secondary window. \"\"\"\n",
    "    root3 = tkinter.Toplevel()  # Note Toplevel, NOT Tk.\n",
    "\n",
    "    window3_frame = ttk.Frame(root3, padding=20)\n",
    "    window3_frame.grid()\n",
    "\n",
    "    number_label = ttk.Label(window3_frame, text='The number is: 0')\n",
    "    number_label.grid()\n",
    "\n",
    "    windows_and_number.number = 0\n",
    "    windows_and_number.label = number_label\n",
    "\n",
    "\n",
    "def change_number(windows_and_number, delta):\n",
    "    \"\"\"\n",
    "    Changes the number in the data by the given delta,\n",
    "    then displays the changed value in its Label.\n",
    "    \"\"\"\n",
    "    windows_and_number.number = windows_and_number.number + delta\n",
    "    msg = 'The number is: {}'.format(windows_and_number.number)\n",
    "    windows_and_number.label['text'] = msg\n",
    "\n",
    "\n",
    "def pop_up(windows_and_number):\n",
    "    \"\"\" Pops up a window, with a Label that shows some info. \"\"\"\n",
    "    window = tkinter.Toplevel()  # Note Toplevel, NOT Tk.\n",
    "    msg = 'The number is: \\n {}'.format(windows_and_number.number)\n",
    "    label = ttk.Label(window, text=msg)\n",
    "    label.grid()\n",
    "\n",
    "    windows_and_number.windows.append(window)\n",
    "\n",
    "\n",
    "def destroy_windows(data):\n",
    "    \"\"\" Destroys all the windows stored in the given Data object. \"\"\"\n",
    "    for k in range(len(data.windows)):\n",
    "        data.windows[k].destroy()\n",
    "\n",
    "\n",
    "# ----------------------------------------------------------------------\n",
    "# Calls  main  to start the ball rolling.\n",
    "# ----------------------------------------------------------------------\n",
    "main()"
   ]
  },
  {
   "cell_type": "code",
   "execution_count": 1,
   "metadata": {
    "ExecuteTime": {
     "end_time": "2019-01-05T01:29:42.059701Z",
     "start_time": "2019-01-05T01:28:56.265913Z"
    }
   },
   "outputs": [
    {
     "data": {
      "text/plain": [
       "'8.设置Button的边框\\nbd(bordwidth):缺省为1或2个像素\\n'"
      ]
     },
     "execution_count": 1,
     "metadata": {},
     "output_type": "execute_result"
    },
    {
     "data": {
      "text/plain": [
       "'9.设置Button的风格\\nrelief/raised/sunken/groove/ridge\\n'"
      ]
     },
     "execution_count": 1,
     "metadata": {},
     "output_type": "execute_result"
    },
    {
     "data": {
      "text/plain": [
       "'10.设置Button状态\\nnormal/active/disabled\\n'"
      ]
     },
     "execution_count": 1,
     "metadata": {},
     "output_type": "execute_result"
    },
    {
     "name": "stdout",
     "output_type": "stream",
     "text": [
      "state\n",
      "state\n",
      "state\n",
      "state\n",
      "state\n",
      "state\n",
      "state\n",
      "state\n"
     ]
    }
   ],
   "source": [
    "from tkinter import *\n",
    " \n",
    "root = Tk()\n",
    "bfg = Button(root, text='change foreground', fg='red')\n",
    "bfg.pack()\n",
    " \n",
    "bbg = Button(root, text='change backgroud', bg='blue')\n",
    "bbg.pack()\n",
    " \n",
    "'''8.设置Button的边框\n",
    "bd(bordwidth):缺省为1或2个像素\n",
    "'''\n",
    "# 创建5个Button边框宽度依次为：0，2，4，6，8\n",
    "for b in [0, 1, 2, 3, 4]:\n",
    "    Button(root,\n",
    "           text=str(b),\n",
    "           bd=b).pack()\n",
    "'''9.设置Button的风格\n",
    "relief/raised/sunken/groove/ridge\n",
    "'''\n",
    "for r in ['raised','sunken','groove','ridge']:\n",
    "    Button(root,\n",
    "    text = r,\n",
    "    relief = r,\n",
    "    width = 30).pack()\n",
    " \n",
    " \n",
    "'''10.设置Button状态\n",
    "normal/active/disabled\n",
    "'''\n",
    "def statePrint():\n",
    "    print('state')\n",
    "for r in ['normal','active','disabled']:\n",
    "    Button(root,\n",
    "    text = r,\n",
    "    state = r,\n",
    "    width = 30,\n",
    "    command = statePrint).pack()\n",
    " \n",
    "#例子中将三个Button在回调函数都设置为statePrint,运行程序只有normal和active激活了回调函数，而disable按钮则没有，对于暂时不\n",
    "#需要按钮起作用时，可以将它的state设置为disabled属性\n",
    "root.mainloop()"
   ]
  },
  {
   "cell_type": "code",
   "execution_count": null,
   "metadata": {},
   "outputs": [],
   "source": []
  }
 ],
 "metadata": {
  "hide_input": false,
  "kernelspec": {
   "display_name": "Python 3",
   "language": "python",
   "name": "python3"
  },
  "language_info": {
   "codemirror_mode": {
    "name": "ipython",
    "version": 3
   },
   "file_extension": ".py",
   "mimetype": "text/x-python",
   "name": "python",
   "nbconvert_exporter": "python",
   "pygments_lexer": "ipython3",
   "version": "3.7.0"
  },
  "toc": {
   "base_numbering": 1,
   "nav_menu": {},
   "number_sections": true,
   "sideBar": true,
   "skip_h1_title": false,
   "title_cell": "Table of Contents",
   "title_sidebar": "Contents",
   "toc_cell": false,
   "toc_position": {},
   "toc_section_display": true,
   "toc_window_display": false
  },
  "varInspector": {
   "cols": {
    "lenName": 16,
    "lenType": 16,
    "lenVar": 40
   },
   "kernels_config": {
    "python": {
     "delete_cmd_postfix": "",
     "delete_cmd_prefix": "del ",
     "library": "var_list.py",
     "varRefreshCmd": "print(var_dic_list())"
    },
    "r": {
     "delete_cmd_postfix": ") ",
     "delete_cmd_prefix": "rm(",
     "library": "var_list.r",
     "varRefreshCmd": "cat(var_dic_list()) "
    }
   },
   "types_to_exclude": [
    "module",
    "function",
    "builtin_function_or_method",
    "instance",
    "_Feature"
   ],
   "window_display": false
  }
 },
 "nbformat": 4,
 "nbformat_minor": 2
}
